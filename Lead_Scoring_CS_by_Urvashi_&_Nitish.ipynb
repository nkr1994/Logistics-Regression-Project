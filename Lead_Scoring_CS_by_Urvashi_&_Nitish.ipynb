{
  "nbformat": 4,
  "nbformat_minor": 0,
  "metadata": {
    "colab": {
      "name": "Lead Scoring CS by Urvashi & Nitish.ipynb",
      "provenance": [],
      "collapsed_sections": []
    },
    "kernelspec": {
      "name": "python3",
      "display_name": "Python 3"
    },
    "language_info": {
      "name": "python"
    }
  },
  "cells": [
    {
      "cell_type": "markdown",
      "metadata": {
        "id": "3iJXAV1Zkg4a"
      },
      "source": [
        "#Lead Scoring - Case Study"
      ]
    },
    {
      "cell_type": "markdown",
      "metadata": {
        "id": "R2iJ7aP6kpf0"
      },
      "source": [
        "### Problem Statement"
      ]
    },
    {
      "cell_type": "markdown",
      "metadata": {
        "id": "CxPTU_ZfkuKX"
      },
      "source": [
        "An education company named X Education sells online courses to industry professionals. On any given day, many professionals who are interested in the courses land on their website and browse for courses. \n",
        "\n",
        " \n",
        "The company markets its courses on several websites and search engines like Google. Once these people land on the website, they might browse the courses or fill up a form for the course or watch some videos. When these people fill up a form providing their email address or phone number, they are classified to be a lead. Moreover, the company also gets leads through past referrals. Once these leads are acquired, employees from the sales team start making calls, writing emails, etc. Through this process, some of the leads get converted while most do not. The typical lead conversion rate at X education is around 30%. \n",
        "\n",
        "Now, although X Education gets a lot of leads, its lead conversion rate is very poor. For example, if, say, they acquire 100 leads in a day, only about 30 of them are converted. To make this process more efficient, the company wishes to identify the most potential leads, also known as ‘Hot Leads’. If they successfully identify this set of leads, the lead conversion rate should go up as the sales team will now be focusing more on communicating with the potential leads rather than making calls to everyone.\n",
        "\n",
        "The company requires us to build a model wherein we need to assign a lead score to each of the leads such that the customers with higher lead score have a higher conversion chance and the customers with lower lead score have a lower conversion chance. The CEO, in particular, has given a ballpark of the target lead conversion rate to be around 80%."
      ]
    },
    {
      "cell_type": "markdown",
      "metadata": {
        "id": "0larFdY9A6W4"
      },
      "source": [
        "## Step 1: Importing Libraries & Dataset\n"
      ]
    },
    {
      "cell_type": "code",
      "metadata": {
        "id": "nTQYkxgZ-vvv"
      },
      "source": [
        "# Suppressing Warnings\n",
        "\n",
        "import warnings\n",
        "warnings.filterwarnings('ignore')\n",
        "\n",
        "#importing necessary libraries\n",
        "\n",
        "import numpy as np\n",
        "import pandas as pd\n",
        "import matplotlib.pyplot as plt\n",
        "import seaborn as sns\n",
        "%matplotlib inline\n",
        "\n",
        "import statsmodels.api as sm\n",
        "from sklearn.preprocessing import StandardScaler\n",
        "from sklearn.model_selection import train_test_split\n",
        "from sklearn.linear_model import LogisticRegression\n",
        "from sklearn.feature_selection import RFE\n",
        "from statsmodels.stats.outliers_influence import variance_inflation_factor\n",
        "from sklearn import metrics\n",
        "from sklearn.metrics import confusion_matrix\n",
        "from sklearn.metrics import accuracy_score\n",
        "from sklearn.metrics import roc_curve\n",
        "from sklearn.metrics import roc_auc_score\n",
        "from sklearn.metrics import precision_recall_curve\n",
        "from sklearn.metrics import precision_score, recall_score"
      ],
      "execution_count": 161,
      "outputs": []
    },
    {
      "cell_type": "code",
      "metadata": {
        "colab": {
          "base_uri": "https://localhost:8080/",
          "height": 534
        },
        "id": "0hIiPYjxCcoP",
        "outputId": "a9d3beca-f16a-4313-c2ca-29d4575c56ec"
      },
      "source": [
        "# Importing Dataset\n",
        "\n",
        "leads = pd.read_csv(\"Leads.csv\")\n",
        "leads.head()"
      ],
      "execution_count": 162,
      "outputs": [
        {
          "output_type": "execute_result",
          "data": {
            "text/html": [
              "<div>\n",
              "<style scoped>\n",
              "    .dataframe tbody tr th:only-of-type {\n",
              "        vertical-align: middle;\n",
              "    }\n",
              "\n",
              "    .dataframe tbody tr th {\n",
              "        vertical-align: top;\n",
              "    }\n",
              "\n",
              "    .dataframe thead th {\n",
              "        text-align: right;\n",
              "    }\n",
              "</style>\n",
              "<table border=\"1\" class=\"dataframe\">\n",
              "  <thead>\n",
              "    <tr style=\"text-align: right;\">\n",
              "      <th></th>\n",
              "      <th>Prospect ID</th>\n",
              "      <th>Lead Number</th>\n",
              "      <th>Lead Origin</th>\n",
              "      <th>Lead Source</th>\n",
              "      <th>Do Not Email</th>\n",
              "      <th>Do Not Call</th>\n",
              "      <th>Converted</th>\n",
              "      <th>TotalVisits</th>\n",
              "      <th>Total Time Spent on Website</th>\n",
              "      <th>Page Views Per Visit</th>\n",
              "      <th>Last Activity</th>\n",
              "      <th>Country</th>\n",
              "      <th>Specialization</th>\n",
              "      <th>How did you hear about X Education</th>\n",
              "      <th>What is your current occupation</th>\n",
              "      <th>What matters most to you in choosing a course</th>\n",
              "      <th>Search</th>\n",
              "      <th>Magazine</th>\n",
              "      <th>Newspaper Article</th>\n",
              "      <th>X Education Forums</th>\n",
              "      <th>Newspaper</th>\n",
              "      <th>Digital Advertisement</th>\n",
              "      <th>Through Recommendations</th>\n",
              "      <th>Receive More Updates About Our Courses</th>\n",
              "      <th>Tags</th>\n",
              "      <th>Lead Quality</th>\n",
              "      <th>Update me on Supply Chain Content</th>\n",
              "      <th>Get updates on DM Content</th>\n",
              "      <th>Lead Profile</th>\n",
              "      <th>City</th>\n",
              "      <th>Asymmetrique Activity Index</th>\n",
              "      <th>Asymmetrique Profile Index</th>\n",
              "      <th>Asymmetrique Activity Score</th>\n",
              "      <th>Asymmetrique Profile Score</th>\n",
              "      <th>I agree to pay the amount through cheque</th>\n",
              "      <th>A free copy of Mastering The Interview</th>\n",
              "      <th>Last Notable Activity</th>\n",
              "    </tr>\n",
              "  </thead>\n",
              "  <tbody>\n",
              "    <tr>\n",
              "      <th>0</th>\n",
              "      <td>7927b2df-8bba-4d29-b9a2-b6e0beafe620</td>\n",
              "      <td>660737</td>\n",
              "      <td>API</td>\n",
              "      <td>Olark Chat</td>\n",
              "      <td>No</td>\n",
              "      <td>No</td>\n",
              "      <td>0</td>\n",
              "      <td>0.0</td>\n",
              "      <td>0</td>\n",
              "      <td>0.0</td>\n",
              "      <td>Page Visited on Website</td>\n",
              "      <td>NaN</td>\n",
              "      <td>Select</td>\n",
              "      <td>Select</td>\n",
              "      <td>Unemployed</td>\n",
              "      <td>Better Career Prospects</td>\n",
              "      <td>No</td>\n",
              "      <td>No</td>\n",
              "      <td>No</td>\n",
              "      <td>No</td>\n",
              "      <td>No</td>\n",
              "      <td>No</td>\n",
              "      <td>No</td>\n",
              "      <td>No</td>\n",
              "      <td>Interested in other courses</td>\n",
              "      <td>Low in Relevance</td>\n",
              "      <td>No</td>\n",
              "      <td>No</td>\n",
              "      <td>Select</td>\n",
              "      <td>Select</td>\n",
              "      <td>02.Medium</td>\n",
              "      <td>02.Medium</td>\n",
              "      <td>15.0</td>\n",
              "      <td>15.0</td>\n",
              "      <td>No</td>\n",
              "      <td>No</td>\n",
              "      <td>Modified</td>\n",
              "    </tr>\n",
              "    <tr>\n",
              "      <th>1</th>\n",
              "      <td>2a272436-5132-4136-86fa-dcc88c88f482</td>\n",
              "      <td>660728</td>\n",
              "      <td>API</td>\n",
              "      <td>Organic Search</td>\n",
              "      <td>No</td>\n",
              "      <td>No</td>\n",
              "      <td>0</td>\n",
              "      <td>5.0</td>\n",
              "      <td>674</td>\n",
              "      <td>2.5</td>\n",
              "      <td>Email Opened</td>\n",
              "      <td>India</td>\n",
              "      <td>Select</td>\n",
              "      <td>Select</td>\n",
              "      <td>Unemployed</td>\n",
              "      <td>Better Career Prospects</td>\n",
              "      <td>No</td>\n",
              "      <td>No</td>\n",
              "      <td>No</td>\n",
              "      <td>No</td>\n",
              "      <td>No</td>\n",
              "      <td>No</td>\n",
              "      <td>No</td>\n",
              "      <td>No</td>\n",
              "      <td>Ringing</td>\n",
              "      <td>NaN</td>\n",
              "      <td>No</td>\n",
              "      <td>No</td>\n",
              "      <td>Select</td>\n",
              "      <td>Select</td>\n",
              "      <td>02.Medium</td>\n",
              "      <td>02.Medium</td>\n",
              "      <td>15.0</td>\n",
              "      <td>15.0</td>\n",
              "      <td>No</td>\n",
              "      <td>No</td>\n",
              "      <td>Email Opened</td>\n",
              "    </tr>\n",
              "    <tr>\n",
              "      <th>2</th>\n",
              "      <td>8cc8c611-a219-4f35-ad23-fdfd2656bd8a</td>\n",
              "      <td>660727</td>\n",
              "      <td>Landing Page Submission</td>\n",
              "      <td>Direct Traffic</td>\n",
              "      <td>No</td>\n",
              "      <td>No</td>\n",
              "      <td>1</td>\n",
              "      <td>2.0</td>\n",
              "      <td>1532</td>\n",
              "      <td>2.0</td>\n",
              "      <td>Email Opened</td>\n",
              "      <td>India</td>\n",
              "      <td>Business Administration</td>\n",
              "      <td>Select</td>\n",
              "      <td>Student</td>\n",
              "      <td>Better Career Prospects</td>\n",
              "      <td>No</td>\n",
              "      <td>No</td>\n",
              "      <td>No</td>\n",
              "      <td>No</td>\n",
              "      <td>No</td>\n",
              "      <td>No</td>\n",
              "      <td>No</td>\n",
              "      <td>No</td>\n",
              "      <td>Will revert after reading the email</td>\n",
              "      <td>Might be</td>\n",
              "      <td>No</td>\n",
              "      <td>No</td>\n",
              "      <td>Potential Lead</td>\n",
              "      <td>Mumbai</td>\n",
              "      <td>02.Medium</td>\n",
              "      <td>01.High</td>\n",
              "      <td>14.0</td>\n",
              "      <td>20.0</td>\n",
              "      <td>No</td>\n",
              "      <td>Yes</td>\n",
              "      <td>Email Opened</td>\n",
              "    </tr>\n",
              "    <tr>\n",
              "      <th>3</th>\n",
              "      <td>0cc2df48-7cf4-4e39-9de9-19797f9b38cc</td>\n",
              "      <td>660719</td>\n",
              "      <td>Landing Page Submission</td>\n",
              "      <td>Direct Traffic</td>\n",
              "      <td>No</td>\n",
              "      <td>No</td>\n",
              "      <td>0</td>\n",
              "      <td>1.0</td>\n",
              "      <td>305</td>\n",
              "      <td>1.0</td>\n",
              "      <td>Unreachable</td>\n",
              "      <td>India</td>\n",
              "      <td>Media and Advertising</td>\n",
              "      <td>Word Of Mouth</td>\n",
              "      <td>Unemployed</td>\n",
              "      <td>Better Career Prospects</td>\n",
              "      <td>No</td>\n",
              "      <td>No</td>\n",
              "      <td>No</td>\n",
              "      <td>No</td>\n",
              "      <td>No</td>\n",
              "      <td>No</td>\n",
              "      <td>No</td>\n",
              "      <td>No</td>\n",
              "      <td>Ringing</td>\n",
              "      <td>Not Sure</td>\n",
              "      <td>No</td>\n",
              "      <td>No</td>\n",
              "      <td>Select</td>\n",
              "      <td>Mumbai</td>\n",
              "      <td>02.Medium</td>\n",
              "      <td>01.High</td>\n",
              "      <td>13.0</td>\n",
              "      <td>17.0</td>\n",
              "      <td>No</td>\n",
              "      <td>No</td>\n",
              "      <td>Modified</td>\n",
              "    </tr>\n",
              "    <tr>\n",
              "      <th>4</th>\n",
              "      <td>3256f628-e534-4826-9d63-4a8b88782852</td>\n",
              "      <td>660681</td>\n",
              "      <td>Landing Page Submission</td>\n",
              "      <td>Google</td>\n",
              "      <td>No</td>\n",
              "      <td>No</td>\n",
              "      <td>1</td>\n",
              "      <td>2.0</td>\n",
              "      <td>1428</td>\n",
              "      <td>1.0</td>\n",
              "      <td>Converted to Lead</td>\n",
              "      <td>India</td>\n",
              "      <td>Select</td>\n",
              "      <td>Other</td>\n",
              "      <td>Unemployed</td>\n",
              "      <td>Better Career Prospects</td>\n",
              "      <td>No</td>\n",
              "      <td>No</td>\n",
              "      <td>No</td>\n",
              "      <td>No</td>\n",
              "      <td>No</td>\n",
              "      <td>No</td>\n",
              "      <td>No</td>\n",
              "      <td>No</td>\n",
              "      <td>Will revert after reading the email</td>\n",
              "      <td>Might be</td>\n",
              "      <td>No</td>\n",
              "      <td>No</td>\n",
              "      <td>Select</td>\n",
              "      <td>Mumbai</td>\n",
              "      <td>02.Medium</td>\n",
              "      <td>01.High</td>\n",
              "      <td>15.0</td>\n",
              "      <td>18.0</td>\n",
              "      <td>No</td>\n",
              "      <td>No</td>\n",
              "      <td>Modified</td>\n",
              "    </tr>\n",
              "  </tbody>\n",
              "</table>\n",
              "</div>"
            ],
            "text/plain": [
              "                            Prospect ID  ...  Last Notable Activity\n",
              "0  7927b2df-8bba-4d29-b9a2-b6e0beafe620  ...               Modified\n",
              "1  2a272436-5132-4136-86fa-dcc88c88f482  ...           Email Opened\n",
              "2  8cc8c611-a219-4f35-ad23-fdfd2656bd8a  ...           Email Opened\n",
              "3  0cc2df48-7cf4-4e39-9de9-19797f9b38cc  ...               Modified\n",
              "4  3256f628-e534-4826-9d63-4a8b88782852  ...               Modified\n",
              "\n",
              "[5 rows x 37 columns]"
            ]
          },
          "metadata": {
            "tags": []
          },
          "execution_count": 162
        }
      ]
    },
    {
      "cell_type": "markdown",
      "metadata": {
        "id": "7vw024ByDMmE"
      },
      "source": [
        "##Step 2: Inspecting the Data Frame"
      ]
    },
    {
      "cell_type": "code",
      "metadata": {
        "colab": {
          "base_uri": "https://localhost:8080/"
        },
        "id": "nsRgsAEEDIb2",
        "outputId": "e69097a7-c483-4f0f-cd46-470891a71380"
      },
      "source": [
        "# shape of the dataset\n",
        "\n",
        "leads.shape"
      ],
      "execution_count": 163,
      "outputs": [
        {
          "output_type": "execute_result",
          "data": {
            "text/plain": [
              "(9240, 37)"
            ]
          },
          "metadata": {
            "tags": []
          },
          "execution_count": 163
        }
      ]
    },
    {
      "cell_type": "code",
      "metadata": {
        "colab": {
          "base_uri": "https://localhost:8080/",
          "height": 287
        },
        "id": "nVJn1W_IDylk",
        "outputId": "8a8e49dc-0a0f-4cb8-fb18-488496d02bfe"
      },
      "source": [
        "# desciption of numerical columns\n",
        "\n",
        "leads.describe()"
      ],
      "execution_count": 164,
      "outputs": [
        {
          "output_type": "execute_result",
          "data": {
            "text/html": [
              "<div>\n",
              "<style scoped>\n",
              "    .dataframe tbody tr th:only-of-type {\n",
              "        vertical-align: middle;\n",
              "    }\n",
              "\n",
              "    .dataframe tbody tr th {\n",
              "        vertical-align: top;\n",
              "    }\n",
              "\n",
              "    .dataframe thead th {\n",
              "        text-align: right;\n",
              "    }\n",
              "</style>\n",
              "<table border=\"1\" class=\"dataframe\">\n",
              "  <thead>\n",
              "    <tr style=\"text-align: right;\">\n",
              "      <th></th>\n",
              "      <th>Lead Number</th>\n",
              "      <th>Converted</th>\n",
              "      <th>TotalVisits</th>\n",
              "      <th>Total Time Spent on Website</th>\n",
              "      <th>Page Views Per Visit</th>\n",
              "      <th>Asymmetrique Activity Score</th>\n",
              "      <th>Asymmetrique Profile Score</th>\n",
              "    </tr>\n",
              "  </thead>\n",
              "  <tbody>\n",
              "    <tr>\n",
              "      <th>count</th>\n",
              "      <td>9240.000000</td>\n",
              "      <td>9240.000000</td>\n",
              "      <td>9103.000000</td>\n",
              "      <td>9240.000000</td>\n",
              "      <td>9103.000000</td>\n",
              "      <td>5022.000000</td>\n",
              "      <td>5022.000000</td>\n",
              "    </tr>\n",
              "    <tr>\n",
              "      <th>mean</th>\n",
              "      <td>617188.435606</td>\n",
              "      <td>0.385390</td>\n",
              "      <td>3.445238</td>\n",
              "      <td>487.698268</td>\n",
              "      <td>2.362820</td>\n",
              "      <td>14.306252</td>\n",
              "      <td>16.344883</td>\n",
              "    </tr>\n",
              "    <tr>\n",
              "      <th>std</th>\n",
              "      <td>23405.995698</td>\n",
              "      <td>0.486714</td>\n",
              "      <td>4.854853</td>\n",
              "      <td>548.021466</td>\n",
              "      <td>2.161418</td>\n",
              "      <td>1.386694</td>\n",
              "      <td>1.811395</td>\n",
              "    </tr>\n",
              "    <tr>\n",
              "      <th>min</th>\n",
              "      <td>579533.000000</td>\n",
              "      <td>0.000000</td>\n",
              "      <td>0.000000</td>\n",
              "      <td>0.000000</td>\n",
              "      <td>0.000000</td>\n",
              "      <td>7.000000</td>\n",
              "      <td>11.000000</td>\n",
              "    </tr>\n",
              "    <tr>\n",
              "      <th>25%</th>\n",
              "      <td>596484.500000</td>\n",
              "      <td>0.000000</td>\n",
              "      <td>1.000000</td>\n",
              "      <td>12.000000</td>\n",
              "      <td>1.000000</td>\n",
              "      <td>14.000000</td>\n",
              "      <td>15.000000</td>\n",
              "    </tr>\n",
              "    <tr>\n",
              "      <th>50%</th>\n",
              "      <td>615479.000000</td>\n",
              "      <td>0.000000</td>\n",
              "      <td>3.000000</td>\n",
              "      <td>248.000000</td>\n",
              "      <td>2.000000</td>\n",
              "      <td>14.000000</td>\n",
              "      <td>16.000000</td>\n",
              "    </tr>\n",
              "    <tr>\n",
              "      <th>75%</th>\n",
              "      <td>637387.250000</td>\n",
              "      <td>1.000000</td>\n",
              "      <td>5.000000</td>\n",
              "      <td>936.000000</td>\n",
              "      <td>3.000000</td>\n",
              "      <td>15.000000</td>\n",
              "      <td>18.000000</td>\n",
              "    </tr>\n",
              "    <tr>\n",
              "      <th>max</th>\n",
              "      <td>660737.000000</td>\n",
              "      <td>1.000000</td>\n",
              "      <td>251.000000</td>\n",
              "      <td>2272.000000</td>\n",
              "      <td>55.000000</td>\n",
              "      <td>18.000000</td>\n",
              "      <td>20.000000</td>\n",
              "    </tr>\n",
              "  </tbody>\n",
              "</table>\n",
              "</div>"
            ],
            "text/plain": [
              "         Lead Number  ...  Asymmetrique Profile Score\n",
              "count    9240.000000  ...                 5022.000000\n",
              "mean   617188.435606  ...                   16.344883\n",
              "std     23405.995698  ...                    1.811395\n",
              "min    579533.000000  ...                   11.000000\n",
              "25%    596484.500000  ...                   15.000000\n",
              "50%    615479.000000  ...                   16.000000\n",
              "75%    637387.250000  ...                   18.000000\n",
              "max    660737.000000  ...                   20.000000\n",
              "\n",
              "[8 rows x 7 columns]"
            ]
          },
          "metadata": {
            "tags": []
          },
          "execution_count": 164
        }
      ]
    },
    {
      "cell_type": "code",
      "metadata": {
        "colab": {
          "base_uri": "https://localhost:8080/"
        },
        "id": "SAY0lLyoD625",
        "outputId": "049608d3-5214-4331-9aa0-8ed27c2980ba"
      },
      "source": [
        "# checking for null value \n",
        "\n",
        "leads.info()"
      ],
      "execution_count": 165,
      "outputs": [
        {
          "output_type": "stream",
          "text": [
            "<class 'pandas.core.frame.DataFrame'>\n",
            "RangeIndex: 9240 entries, 0 to 9239\n",
            "Data columns (total 37 columns):\n",
            " #   Column                                         Non-Null Count  Dtype  \n",
            "---  ------                                         --------------  -----  \n",
            " 0   Prospect ID                                    9240 non-null   object \n",
            " 1   Lead Number                                    9240 non-null   int64  \n",
            " 2   Lead Origin                                    9240 non-null   object \n",
            " 3   Lead Source                                    9204 non-null   object \n",
            " 4   Do Not Email                                   9240 non-null   object \n",
            " 5   Do Not Call                                    9240 non-null   object \n",
            " 6   Converted                                      9240 non-null   int64  \n",
            " 7   TotalVisits                                    9103 non-null   float64\n",
            " 8   Total Time Spent on Website                    9240 non-null   int64  \n",
            " 9   Page Views Per Visit                           9103 non-null   float64\n",
            " 10  Last Activity                                  9137 non-null   object \n",
            " 11  Country                                        6779 non-null   object \n",
            " 12  Specialization                                 7802 non-null   object \n",
            " 13  How did you hear about X Education             7033 non-null   object \n",
            " 14  What is your current occupation                6550 non-null   object \n",
            " 15  What matters most to you in choosing a course  6531 non-null   object \n",
            " 16  Search                                         9240 non-null   object \n",
            " 17  Magazine                                       9240 non-null   object \n",
            " 18  Newspaper Article                              9240 non-null   object \n",
            " 19  X Education Forums                             9240 non-null   object \n",
            " 20  Newspaper                                      9240 non-null   object \n",
            " 21  Digital Advertisement                          9240 non-null   object \n",
            " 22  Through Recommendations                        9240 non-null   object \n",
            " 23  Receive More Updates About Our Courses         9240 non-null   object \n",
            " 24  Tags                                           5887 non-null   object \n",
            " 25  Lead Quality                                   4473 non-null   object \n",
            " 26  Update me on Supply Chain Content              9240 non-null   object \n",
            " 27  Get updates on DM Content                      9240 non-null   object \n",
            " 28  Lead Profile                                   6531 non-null   object \n",
            " 29  City                                           7820 non-null   object \n",
            " 30  Asymmetrique Activity Index                    5022 non-null   object \n",
            " 31  Asymmetrique Profile Index                     5022 non-null   object \n",
            " 32  Asymmetrique Activity Score                    5022 non-null   float64\n",
            " 33  Asymmetrique Profile Score                     5022 non-null   float64\n",
            " 34  I agree to pay the amount through cheque       9240 non-null   object \n",
            " 35  A free copy of Mastering The Interview         9240 non-null   object \n",
            " 36  Last Notable Activity                          9240 non-null   object \n",
            "dtypes: float64(4), int64(3), object(30)\n",
            "memory usage: 2.6+ MB\n"
          ],
          "name": "stdout"
        }
      ]
    },
    {
      "cell_type": "markdown",
      "metadata": {
        "id": "5AN8ivwTEN71"
      },
      "source": [
        "##Step 3: Data Cleaning"
      ]
    },
    {
      "cell_type": "code",
      "metadata": {
        "colab": {
          "base_uri": "https://localhost:8080/",
          "height": 534
        },
        "id": "a-77tTvkEMoc",
        "outputId": "49cf8102-c026-466e-8020-020f091051cf"
      },
      "source": [
        "# we have observed that there is \"select\" in many columns. \"select\" is where customer have not feeded any option\n",
        "# So, lets convert \"select\" to \"NaN\"\n",
        "\n",
        "leads= leads.replace(\"Select\",np.NaN)\n",
        "\n",
        "leads.head()"
      ],
      "execution_count": 166,
      "outputs": [
        {
          "output_type": "execute_result",
          "data": {
            "text/html": [
              "<div>\n",
              "<style scoped>\n",
              "    .dataframe tbody tr th:only-of-type {\n",
              "        vertical-align: middle;\n",
              "    }\n",
              "\n",
              "    .dataframe tbody tr th {\n",
              "        vertical-align: top;\n",
              "    }\n",
              "\n",
              "    .dataframe thead th {\n",
              "        text-align: right;\n",
              "    }\n",
              "</style>\n",
              "<table border=\"1\" class=\"dataframe\">\n",
              "  <thead>\n",
              "    <tr style=\"text-align: right;\">\n",
              "      <th></th>\n",
              "      <th>Prospect ID</th>\n",
              "      <th>Lead Number</th>\n",
              "      <th>Lead Origin</th>\n",
              "      <th>Lead Source</th>\n",
              "      <th>Do Not Email</th>\n",
              "      <th>Do Not Call</th>\n",
              "      <th>Converted</th>\n",
              "      <th>TotalVisits</th>\n",
              "      <th>Total Time Spent on Website</th>\n",
              "      <th>Page Views Per Visit</th>\n",
              "      <th>Last Activity</th>\n",
              "      <th>Country</th>\n",
              "      <th>Specialization</th>\n",
              "      <th>How did you hear about X Education</th>\n",
              "      <th>What is your current occupation</th>\n",
              "      <th>What matters most to you in choosing a course</th>\n",
              "      <th>Search</th>\n",
              "      <th>Magazine</th>\n",
              "      <th>Newspaper Article</th>\n",
              "      <th>X Education Forums</th>\n",
              "      <th>Newspaper</th>\n",
              "      <th>Digital Advertisement</th>\n",
              "      <th>Through Recommendations</th>\n",
              "      <th>Receive More Updates About Our Courses</th>\n",
              "      <th>Tags</th>\n",
              "      <th>Lead Quality</th>\n",
              "      <th>Update me on Supply Chain Content</th>\n",
              "      <th>Get updates on DM Content</th>\n",
              "      <th>Lead Profile</th>\n",
              "      <th>City</th>\n",
              "      <th>Asymmetrique Activity Index</th>\n",
              "      <th>Asymmetrique Profile Index</th>\n",
              "      <th>Asymmetrique Activity Score</th>\n",
              "      <th>Asymmetrique Profile Score</th>\n",
              "      <th>I agree to pay the amount through cheque</th>\n",
              "      <th>A free copy of Mastering The Interview</th>\n",
              "      <th>Last Notable Activity</th>\n",
              "    </tr>\n",
              "  </thead>\n",
              "  <tbody>\n",
              "    <tr>\n",
              "      <th>0</th>\n",
              "      <td>7927b2df-8bba-4d29-b9a2-b6e0beafe620</td>\n",
              "      <td>660737</td>\n",
              "      <td>API</td>\n",
              "      <td>Olark Chat</td>\n",
              "      <td>No</td>\n",
              "      <td>No</td>\n",
              "      <td>0</td>\n",
              "      <td>0.0</td>\n",
              "      <td>0</td>\n",
              "      <td>0.0</td>\n",
              "      <td>Page Visited on Website</td>\n",
              "      <td>NaN</td>\n",
              "      <td>NaN</td>\n",
              "      <td>NaN</td>\n",
              "      <td>Unemployed</td>\n",
              "      <td>Better Career Prospects</td>\n",
              "      <td>No</td>\n",
              "      <td>No</td>\n",
              "      <td>No</td>\n",
              "      <td>No</td>\n",
              "      <td>No</td>\n",
              "      <td>No</td>\n",
              "      <td>No</td>\n",
              "      <td>No</td>\n",
              "      <td>Interested in other courses</td>\n",
              "      <td>Low in Relevance</td>\n",
              "      <td>No</td>\n",
              "      <td>No</td>\n",
              "      <td>NaN</td>\n",
              "      <td>NaN</td>\n",
              "      <td>02.Medium</td>\n",
              "      <td>02.Medium</td>\n",
              "      <td>15.0</td>\n",
              "      <td>15.0</td>\n",
              "      <td>No</td>\n",
              "      <td>No</td>\n",
              "      <td>Modified</td>\n",
              "    </tr>\n",
              "    <tr>\n",
              "      <th>1</th>\n",
              "      <td>2a272436-5132-4136-86fa-dcc88c88f482</td>\n",
              "      <td>660728</td>\n",
              "      <td>API</td>\n",
              "      <td>Organic Search</td>\n",
              "      <td>No</td>\n",
              "      <td>No</td>\n",
              "      <td>0</td>\n",
              "      <td>5.0</td>\n",
              "      <td>674</td>\n",
              "      <td>2.5</td>\n",
              "      <td>Email Opened</td>\n",
              "      <td>India</td>\n",
              "      <td>NaN</td>\n",
              "      <td>NaN</td>\n",
              "      <td>Unemployed</td>\n",
              "      <td>Better Career Prospects</td>\n",
              "      <td>No</td>\n",
              "      <td>No</td>\n",
              "      <td>No</td>\n",
              "      <td>No</td>\n",
              "      <td>No</td>\n",
              "      <td>No</td>\n",
              "      <td>No</td>\n",
              "      <td>No</td>\n",
              "      <td>Ringing</td>\n",
              "      <td>NaN</td>\n",
              "      <td>No</td>\n",
              "      <td>No</td>\n",
              "      <td>NaN</td>\n",
              "      <td>NaN</td>\n",
              "      <td>02.Medium</td>\n",
              "      <td>02.Medium</td>\n",
              "      <td>15.0</td>\n",
              "      <td>15.0</td>\n",
              "      <td>No</td>\n",
              "      <td>No</td>\n",
              "      <td>Email Opened</td>\n",
              "    </tr>\n",
              "    <tr>\n",
              "      <th>2</th>\n",
              "      <td>8cc8c611-a219-4f35-ad23-fdfd2656bd8a</td>\n",
              "      <td>660727</td>\n",
              "      <td>Landing Page Submission</td>\n",
              "      <td>Direct Traffic</td>\n",
              "      <td>No</td>\n",
              "      <td>No</td>\n",
              "      <td>1</td>\n",
              "      <td>2.0</td>\n",
              "      <td>1532</td>\n",
              "      <td>2.0</td>\n",
              "      <td>Email Opened</td>\n",
              "      <td>India</td>\n",
              "      <td>Business Administration</td>\n",
              "      <td>NaN</td>\n",
              "      <td>Student</td>\n",
              "      <td>Better Career Prospects</td>\n",
              "      <td>No</td>\n",
              "      <td>No</td>\n",
              "      <td>No</td>\n",
              "      <td>No</td>\n",
              "      <td>No</td>\n",
              "      <td>No</td>\n",
              "      <td>No</td>\n",
              "      <td>No</td>\n",
              "      <td>Will revert after reading the email</td>\n",
              "      <td>Might be</td>\n",
              "      <td>No</td>\n",
              "      <td>No</td>\n",
              "      <td>Potential Lead</td>\n",
              "      <td>Mumbai</td>\n",
              "      <td>02.Medium</td>\n",
              "      <td>01.High</td>\n",
              "      <td>14.0</td>\n",
              "      <td>20.0</td>\n",
              "      <td>No</td>\n",
              "      <td>Yes</td>\n",
              "      <td>Email Opened</td>\n",
              "    </tr>\n",
              "    <tr>\n",
              "      <th>3</th>\n",
              "      <td>0cc2df48-7cf4-4e39-9de9-19797f9b38cc</td>\n",
              "      <td>660719</td>\n",
              "      <td>Landing Page Submission</td>\n",
              "      <td>Direct Traffic</td>\n",
              "      <td>No</td>\n",
              "      <td>No</td>\n",
              "      <td>0</td>\n",
              "      <td>1.0</td>\n",
              "      <td>305</td>\n",
              "      <td>1.0</td>\n",
              "      <td>Unreachable</td>\n",
              "      <td>India</td>\n",
              "      <td>Media and Advertising</td>\n",
              "      <td>Word Of Mouth</td>\n",
              "      <td>Unemployed</td>\n",
              "      <td>Better Career Prospects</td>\n",
              "      <td>No</td>\n",
              "      <td>No</td>\n",
              "      <td>No</td>\n",
              "      <td>No</td>\n",
              "      <td>No</td>\n",
              "      <td>No</td>\n",
              "      <td>No</td>\n",
              "      <td>No</td>\n",
              "      <td>Ringing</td>\n",
              "      <td>Not Sure</td>\n",
              "      <td>No</td>\n",
              "      <td>No</td>\n",
              "      <td>NaN</td>\n",
              "      <td>Mumbai</td>\n",
              "      <td>02.Medium</td>\n",
              "      <td>01.High</td>\n",
              "      <td>13.0</td>\n",
              "      <td>17.0</td>\n",
              "      <td>No</td>\n",
              "      <td>No</td>\n",
              "      <td>Modified</td>\n",
              "    </tr>\n",
              "    <tr>\n",
              "      <th>4</th>\n",
              "      <td>3256f628-e534-4826-9d63-4a8b88782852</td>\n",
              "      <td>660681</td>\n",
              "      <td>Landing Page Submission</td>\n",
              "      <td>Google</td>\n",
              "      <td>No</td>\n",
              "      <td>No</td>\n",
              "      <td>1</td>\n",
              "      <td>2.0</td>\n",
              "      <td>1428</td>\n",
              "      <td>1.0</td>\n",
              "      <td>Converted to Lead</td>\n",
              "      <td>India</td>\n",
              "      <td>NaN</td>\n",
              "      <td>Other</td>\n",
              "      <td>Unemployed</td>\n",
              "      <td>Better Career Prospects</td>\n",
              "      <td>No</td>\n",
              "      <td>No</td>\n",
              "      <td>No</td>\n",
              "      <td>No</td>\n",
              "      <td>No</td>\n",
              "      <td>No</td>\n",
              "      <td>No</td>\n",
              "      <td>No</td>\n",
              "      <td>Will revert after reading the email</td>\n",
              "      <td>Might be</td>\n",
              "      <td>No</td>\n",
              "      <td>No</td>\n",
              "      <td>NaN</td>\n",
              "      <td>Mumbai</td>\n",
              "      <td>02.Medium</td>\n",
              "      <td>01.High</td>\n",
              "      <td>15.0</td>\n",
              "      <td>18.0</td>\n",
              "      <td>No</td>\n",
              "      <td>No</td>\n",
              "      <td>Modified</td>\n",
              "    </tr>\n",
              "  </tbody>\n",
              "</table>\n",
              "</div>"
            ],
            "text/plain": [
              "                            Prospect ID  ...  Last Notable Activity\n",
              "0  7927b2df-8bba-4d29-b9a2-b6e0beafe620  ...               Modified\n",
              "1  2a272436-5132-4136-86fa-dcc88c88f482  ...           Email Opened\n",
              "2  8cc8c611-a219-4f35-ad23-fdfd2656bd8a  ...           Email Opened\n",
              "3  0cc2df48-7cf4-4e39-9de9-19797f9b38cc  ...               Modified\n",
              "4  3256f628-e534-4826-9d63-4a8b88782852  ...               Modified\n",
              "\n",
              "[5 rows x 37 columns]"
            ]
          },
          "metadata": {
            "tags": []
          },
          "execution_count": 166
        }
      ]
    },
    {
      "cell_type": "code",
      "metadata": {
        "colab": {
          "base_uri": "https://localhost:8080/"
        },
        "id": "x4xcO8ueHhOM",
        "outputId": "4f85b920-e756-413f-dad2-400edcda6069"
      },
      "source": [
        "# Checking the percentage of null values in all columns\n",
        "\n",
        "null_count=(leads.isnull().sum()*100/len(leads.index)).sort_values(ascending=False)\n",
        "null_count"
      ],
      "execution_count": 167,
      "outputs": [
        {
          "output_type": "execute_result",
          "data": {
            "text/plain": [
              "How did you hear about X Education               78.463203\n",
              "Lead Profile                                     74.188312\n",
              "Lead Quality                                     51.590909\n",
              "Asymmetrique Profile Score                       45.649351\n",
              "Asymmetrique Activity Score                      45.649351\n",
              "Asymmetrique Profile Index                       45.649351\n",
              "Asymmetrique Activity Index                      45.649351\n",
              "City                                             39.707792\n",
              "Specialization                                   36.580087\n",
              "Tags                                             36.287879\n",
              "What matters most to you in choosing a course    29.318182\n",
              "What is your current occupation                  29.112554\n",
              "Country                                          26.634199\n",
              "TotalVisits                                       1.482684\n",
              "Page Views Per Visit                              1.482684\n",
              "Last Activity                                     1.114719\n",
              "Lead Source                                       0.389610\n",
              "Lead Origin                                       0.000000\n",
              "Lead Number                                       0.000000\n",
              "Do Not Email                                      0.000000\n",
              "Do Not Call                                       0.000000\n",
              "Converted                                         0.000000\n",
              "Total Time Spent on Website                       0.000000\n",
              "Last Notable Activity                             0.000000\n",
              "Newspaper Article                                 0.000000\n",
              "Search                                            0.000000\n",
              "Magazine                                          0.000000\n",
              "A free copy of Mastering The Interview            0.000000\n",
              "X Education Forums                                0.000000\n",
              "Newspaper                                         0.000000\n",
              "Digital Advertisement                             0.000000\n",
              "Through Recommendations                           0.000000\n",
              "Receive More Updates About Our Courses            0.000000\n",
              "Update me on Supply Chain Content                 0.000000\n",
              "Get updates on DM Content                         0.000000\n",
              "I agree to pay the amount through cheque          0.000000\n",
              "Prospect ID                                       0.000000\n",
              "dtype: float64"
            ]
          },
          "metadata": {
            "tags": []
          },
          "execution_count": 167
        }
      ]
    },
    {
      "cell_type": "code",
      "metadata": {
        "colab": {
          "base_uri": "https://localhost:8080/"
        },
        "id": "_nHavm7HIBqy",
        "outputId": "a91a1349-002d-494b-8f11-3202287afd91"
      },
      "source": [
        "# checking columns having null values >45%\n",
        "\n",
        "null_count=null_count[null_count>=45]\n",
        "null_count"
      ],
      "execution_count": 168,
      "outputs": [
        {
          "output_type": "execute_result",
          "data": {
            "text/plain": [
              "How did you hear about X Education    78.463203\n",
              "Lead Profile                          74.188312\n",
              "Lead Quality                          51.590909\n",
              "Asymmetrique Profile Score            45.649351\n",
              "Asymmetrique Activity Score           45.649351\n",
              "Asymmetrique Profile Index            45.649351\n",
              "Asymmetrique Activity Index           45.649351\n",
              "dtype: float64"
            ]
          },
          "metadata": {
            "tags": []
          },
          "execution_count": 168
        }
      ]
    },
    {
      "cell_type": "code",
      "metadata": {
        "id": "nwqvEESGeLFa"
      },
      "source": [
        "# Drop columns which has more than 45% null values\n",
        "\n",
        "cols_dropped=([null_count[null_count >=45].index])\n",
        "leads.drop(labels=cols_dropped[0],axis=1,inplace=True)"
      ],
      "execution_count": 169,
      "outputs": []
    },
    {
      "cell_type": "code",
      "metadata": {
        "colab": {
          "base_uri": "https://localhost:8080/"
        },
        "id": "-q2e0uMLp1KV",
        "outputId": "248aa2cd-6e79-47ec-b76c-7d62729d0d59"
      },
      "source": [
        "# Checking the percentage of null values in remain columns\n",
        "\n",
        "(leads.isnull().sum()*100/len(leads.index)).sort_values(ascending=False)"
      ],
      "execution_count": 170,
      "outputs": [
        {
          "output_type": "execute_result",
          "data": {
            "text/plain": [
              "City                                             39.707792\n",
              "Specialization                                   36.580087\n",
              "Tags                                             36.287879\n",
              "What matters most to you in choosing a course    29.318182\n",
              "What is your current occupation                  29.112554\n",
              "Country                                          26.634199\n",
              "TotalVisits                                       1.482684\n",
              "Page Views Per Visit                              1.482684\n",
              "Last Activity                                     1.114719\n",
              "Lead Source                                       0.389610\n",
              "Lead Number                                       0.000000\n",
              "Lead Origin                                       0.000000\n",
              "Do Not Email                                      0.000000\n",
              "Do Not Call                                       0.000000\n",
              "Converted                                         0.000000\n",
              "Total Time Spent on Website                       0.000000\n",
              "Last Notable Activity                             0.000000\n",
              "A free copy of Mastering The Interview            0.000000\n",
              "Search                                            0.000000\n",
              "Magazine                                          0.000000\n",
              "Newspaper Article                                 0.000000\n",
              "X Education Forums                                0.000000\n",
              "Newspaper                                         0.000000\n",
              "Digital Advertisement                             0.000000\n",
              "Through Recommendations                           0.000000\n",
              "Receive More Updates About Our Courses            0.000000\n",
              "Update me on Supply Chain Content                 0.000000\n",
              "Get updates on DM Content                         0.000000\n",
              "I agree to pay the amount through cheque          0.000000\n",
              "Prospect ID                                       0.000000\n",
              "dtype: float64"
            ]
          },
          "metadata": {
            "tags": []
          },
          "execution_count": 170
        }
      ]
    },
    {
      "cell_type": "code",
      "metadata": {
        "colab": {
          "base_uri": "https://localhost:8080/"
        },
        "id": "YClhybccwDVz",
        "outputId": "647337f3-d1e9-430c-aa42-e3997b461c1f"
      },
      "source": [
        "#checking unique count of columns\n",
        "\n",
        "leads.nunique()"
      ],
      "execution_count": 171,
      "outputs": [
        {
          "output_type": "execute_result",
          "data": {
            "text/plain": [
              "Prospect ID                                      9240\n",
              "Lead Number                                      9240\n",
              "Lead Origin                                         5\n",
              "Lead Source                                        21\n",
              "Do Not Email                                        2\n",
              "Do Not Call                                         2\n",
              "Converted                                           2\n",
              "TotalVisits                                        41\n",
              "Total Time Spent on Website                      1731\n",
              "Page Views Per Visit                              114\n",
              "Last Activity                                      17\n",
              "Country                                            38\n",
              "Specialization                                     18\n",
              "What is your current occupation                     6\n",
              "What matters most to you in choosing a course       3\n",
              "Search                                              2\n",
              "Magazine                                            1\n",
              "Newspaper Article                                   2\n",
              "X Education Forums                                  2\n",
              "Newspaper                                           2\n",
              "Digital Advertisement                               2\n",
              "Through Recommendations                             2\n",
              "Receive More Updates About Our Courses              1\n",
              "Tags                                               26\n",
              "Update me on Supply Chain Content                   1\n",
              "Get updates on DM Content                           1\n",
              "City                                                6\n",
              "I agree to pay the amount through cheque            1\n",
              "A free copy of Mastering The Interview              2\n",
              "Last Notable Activity                              16\n",
              "dtype: int64"
            ]
          },
          "metadata": {
            "tags": []
          },
          "execution_count": 171
        }
      ]
    },
    {
      "cell_type": "code",
      "metadata": {
        "id": "-3gForUewPA5"
      },
      "source": [
        "# dropping the columns with only one category variable\n",
        "leads = leads.drop(['Magazine','Receive More Updates About Our Courses','Update me on Supply Chain Content','Get updates on DM Content','I agree to pay the amount through cheque'],axis = 1)"
      ],
      "execution_count": 172,
      "outputs": []
    },
    {
      "cell_type": "code",
      "metadata": {
        "colab": {
          "base_uri": "https://localhost:8080/"
        },
        "id": "Mk6erIRK7ANU",
        "outputId": "f14e7e65-ac7d-466f-d0d4-9df3a358ffb2"
      },
      "source": [
        "# Checking the percentage of null values in remain columns\n",
        "\n",
        "(leads.isnull().sum()*100/len(leads.index)).sort_values(ascending=False)"
      ],
      "execution_count": 173,
      "outputs": [
        {
          "output_type": "execute_result",
          "data": {
            "text/plain": [
              "City                                             39.707792\n",
              "Specialization                                   36.580087\n",
              "Tags                                             36.287879\n",
              "What matters most to you in choosing a course    29.318182\n",
              "What is your current occupation                  29.112554\n",
              "Country                                          26.634199\n",
              "TotalVisits                                       1.482684\n",
              "Page Views Per Visit                              1.482684\n",
              "Last Activity                                     1.114719\n",
              "Lead Source                                       0.389610\n",
              "Total Time Spent on Website                       0.000000\n",
              "Lead Number                                       0.000000\n",
              "Lead Origin                                       0.000000\n",
              "Do Not Email                                      0.000000\n",
              "Do Not Call                                       0.000000\n",
              "Converted                                         0.000000\n",
              "Last Notable Activity                             0.000000\n",
              "A free copy of Mastering The Interview            0.000000\n",
              "Search                                            0.000000\n",
              "Newspaper Article                                 0.000000\n",
              "X Education Forums                                0.000000\n",
              "Newspaper                                         0.000000\n",
              "Digital Advertisement                             0.000000\n",
              "Through Recommendations                           0.000000\n",
              "Prospect ID                                       0.000000\n",
              "dtype: float64"
            ]
          },
          "metadata": {
            "tags": []
          },
          "execution_count": 173
        }
      ]
    },
    {
      "cell_type": "code",
      "metadata": {
        "id": "4mjvWtaQPHoM"
      },
      "source": [
        "# dropping all the sales generated columns as they are not necessary for the model and with high missing value\n",
        "leads = leads.drop(['Prospect ID','Last Activity','Tags','City','Last Notable Activity'],axis = 1)"
      ],
      "execution_count": 174,
      "outputs": []
    },
    {
      "cell_type": "code",
      "metadata": {
        "colab": {
          "base_uri": "https://localhost:8080/"
        },
        "id": "VQT2AEdyYKmn",
        "outputId": "d0ee559f-0017-42b8-cf4e-2bbd06959ee6"
      },
      "source": [
        "# Checking the percentage of null values in remain columns\n",
        "\n",
        "(leads.isnull().sum()/len(leads.index)*100).sort_values(ascending=False)"
      ],
      "execution_count": 175,
      "outputs": [
        {
          "output_type": "execute_result",
          "data": {
            "text/plain": [
              "Specialization                                   36.580087\n",
              "What matters most to you in choosing a course    29.318182\n",
              "What is your current occupation                  29.112554\n",
              "Country                                          26.634199\n",
              "TotalVisits                                       1.482684\n",
              "Page Views Per Visit                              1.482684\n",
              "Lead Source                                       0.389610\n",
              "Total Time Spent on Website                       0.000000\n",
              "Lead Origin                                       0.000000\n",
              "Do Not Email                                      0.000000\n",
              "Do Not Call                                       0.000000\n",
              "Converted                                         0.000000\n",
              "A free copy of Mastering The Interview            0.000000\n",
              "Through Recommendations                           0.000000\n",
              "Search                                            0.000000\n",
              "Newspaper Article                                 0.000000\n",
              "X Education Forums                                0.000000\n",
              "Newspaper                                         0.000000\n",
              "Digital Advertisement                             0.000000\n",
              "Lead Number                                       0.000000\n",
              "dtype: float64"
            ]
          },
          "metadata": {
            "tags": []
          },
          "execution_count": 175
        }
      ]
    },
    {
      "cell_type": "code",
      "metadata": {
        "colab": {
          "base_uri": "https://localhost:8080/"
        },
        "id": "Jnl-i1PN7OCj",
        "outputId": "9757901a-59ec-4782-9a02-4d0a614a02d1"
      },
      "source": [
        "#checking skewness of the column\n",
        "\n",
        "leads['What matters most to you in choosing a course'].value_counts()/len(leads['What matters most to you in choosing a course'])*100"
      ],
      "execution_count": 176,
      "outputs": [
        {
          "output_type": "execute_result",
          "data": {
            "text/plain": [
              "Better Career Prospects      70.649351\n",
              "Flexibility & Convenience     0.021645\n",
              "Other                         0.010823\n",
              "Name: What matters most to you in choosing a course, dtype: float64"
            ]
          },
          "metadata": {
            "tags": []
          },
          "execution_count": 176
        }
      ]
    },
    {
      "cell_type": "code",
      "metadata": {
        "id": "2DLTIcHjbA5B"
      },
      "source": [
        "#Looking to the above values column, it will be better to drop this column\n",
        "\n",
        "leads=leads.drop(['What matters most to you in choosing a course'],axis=1)"
      ],
      "execution_count": 177,
      "outputs": []
    },
    {
      "cell_type": "code",
      "metadata": {
        "colab": {
          "base_uri": "https://localhost:8080/"
        },
        "id": "0WjwLWOreQNS",
        "outputId": "0dc75dbe-3288-4e3a-bb47-7ef113ff0955"
      },
      "source": [
        "#checking skewness of the column\n",
        "\n",
        "leads['Specialization'].value_counts()/len(leads['Specialization'])*100"
      ],
      "execution_count": 178,
      "outputs": [
        {
          "output_type": "execute_result",
          "data": {
            "text/plain": [
              "Finance Management                   10.562771\n",
              "Human Resource Management             9.177489\n",
              "Marketing Management                  9.069264\n",
              "Operations Management                 5.443723\n",
              "Business Administration               4.361472\n",
              "IT Projects Management                3.961039\n",
              "Supply Chain Management               3.777056\n",
              "Banking, Investment And Insurance     3.658009\n",
              "Media and Advertising                 2.196970\n",
              "Travel and Tourism                    2.196970\n",
              "International Business                1.926407\n",
              "Healthcare Management                 1.720779\n",
              "Hospitality Management                1.233766\n",
              "E-COMMERCE                            1.212121\n",
              "Retail Management                     1.082251\n",
              "Rural and Agribusiness                0.790043\n",
              "E-Business                            0.616883\n",
              "Services Excellence                   0.432900\n",
              "Name: Specialization, dtype: float64"
            ]
          },
          "metadata": {
            "tags": []
          },
          "execution_count": 178
        }
      ]
    },
    {
      "cell_type": "code",
      "metadata": {
        "colab": {
          "base_uri": "https://localhost:8080/"
        },
        "id": "09JK78l6edBX",
        "outputId": "6e317ea2-e6f1-4478-d611-59cf34ae3663"
      },
      "source": [
        "#checking skewness of the column\n",
        "\n",
        "leads['What is your current occupation'].value_counts()/len(leads['What is your current occupation'])*100"
      ],
      "execution_count": 179,
      "outputs": [
        {
          "output_type": "execute_result",
          "data": {
            "text/plain": [
              "Unemployed              60.606061\n",
              "Working Professional     7.640693\n",
              "Student                  2.272727\n",
              "Other                    0.173160\n",
              "Housewife                0.108225\n",
              "Businessman              0.086580\n",
              "Name: What is your current occupation, dtype: float64"
            ]
          },
          "metadata": {
            "tags": []
          },
          "execution_count": 179
        }
      ]
    },
    {
      "cell_type": "code",
      "metadata": {
        "colab": {
          "base_uri": "https://localhost:8080/"
        },
        "id": "JAmQkfthersy",
        "outputId": "ece64fde-afb4-4555-b607-aba5ed9dc074"
      },
      "source": [
        "#checking skewness of the column\n",
        "\n",
        "leads['Country'].value_counts()/len(leads['Country'])*100"
      ],
      "execution_count": 180,
      "outputs": [
        {
          "output_type": "execute_result",
          "data": {
            "text/plain": [
              "India                   70.259740\n",
              "United States            0.746753\n",
              "United Arab Emirates     0.573593\n",
              "Singapore                0.259740\n",
              "Saudi Arabia             0.227273\n",
              "United Kingdom           0.162338\n",
              "Australia                0.140693\n",
              "Qatar                    0.108225\n",
              "Bahrain                  0.075758\n",
              "Hong Kong                0.075758\n",
              "Oman                     0.064935\n",
              "France                   0.064935\n",
              "unknown                  0.054113\n",
              "South Africa             0.043290\n",
              "Canada                   0.043290\n",
              "Nigeria                  0.043290\n",
              "Germany                  0.043290\n",
              "Kuwait                   0.043290\n",
              "Sweden                   0.032468\n",
              "China                    0.021645\n",
              "Asia/Pacific Region      0.021645\n",
              "Ghana                    0.021645\n",
              "Philippines              0.021645\n",
              "Bangladesh               0.021645\n",
              "Italy                    0.021645\n",
              "Uganda                   0.021645\n",
              "Netherlands              0.021645\n",
              "Belgium                  0.021645\n",
              "Malaysia                 0.010823\n",
              "Switzerland              0.010823\n",
              "Liberia                  0.010823\n",
              "Vietnam                  0.010823\n",
              "Kenya                    0.010823\n",
              "Indonesia                0.010823\n",
              "Sri Lanka                0.010823\n",
              "Denmark                  0.010823\n",
              "Tanzania                 0.010823\n",
              "Russia                   0.010823\n",
              "Name: Country, dtype: float64"
            ]
          },
          "metadata": {
            "tags": []
          },
          "execution_count": 180
        }
      ]
    },
    {
      "cell_type": "code",
      "metadata": {
        "colab": {
          "base_uri": "https://localhost:8080/"
        },
        "id": "5wybqHW_g35T",
        "outputId": "67b4468f-a8a9-40a9-e792-d9a4c5f90ed3"
      },
      "source": [
        "# Checking for the Skewness\n",
        "leads['Do Not Email'].value_counts()/len(leads['Do Not Email'])*100"
      ],
      "execution_count": 181,
      "outputs": [
        {
          "output_type": "execute_result",
          "data": {
            "text/plain": [
              "No     92.056277\n",
              "Yes     7.943723\n",
              "Name: Do Not Email, dtype: float64"
            ]
          },
          "metadata": {
            "tags": []
          },
          "execution_count": 181
        }
      ]
    },
    {
      "cell_type": "code",
      "metadata": {
        "colab": {
          "base_uri": "https://localhost:8080/"
        },
        "id": "wrg3G3tLh0IL",
        "outputId": "5674c4fa-10c4-4f6f-c681-0ccc65486b7b"
      },
      "source": [
        "# Checking for the Skewness\n",
        "leads['Do Not Call'].value_counts()/len(leads['Do Not Call'])*100"
      ],
      "execution_count": 182,
      "outputs": [
        {
          "output_type": "execute_result",
          "data": {
            "text/plain": [
              "No     99.978355\n",
              "Yes     0.021645\n",
              "Name: Do Not Call, dtype: float64"
            ]
          },
          "metadata": {
            "tags": []
          },
          "execution_count": 182
        }
      ]
    },
    {
      "cell_type": "code",
      "metadata": {
        "colab": {
          "base_uri": "https://localhost:8080/"
        },
        "id": "M4tGaVBKh2ua",
        "outputId": "ccda5300-0a05-4f53-b623-9a223ba658f2"
      },
      "source": [
        "# Checking for the Skewness\n",
        "leads['Search'].value_counts()/len(leads['Search'])*100"
      ],
      "execution_count": 183,
      "outputs": [
        {
          "output_type": "execute_result",
          "data": {
            "text/plain": [
              "No     99.848485\n",
              "Yes     0.151515\n",
              "Name: Search, dtype: float64"
            ]
          },
          "metadata": {
            "tags": []
          },
          "execution_count": 183
        }
      ]
    },
    {
      "cell_type": "code",
      "metadata": {
        "colab": {
          "base_uri": "https://localhost:8080/"
        },
        "id": "jrEEtac-h64K",
        "outputId": "c98e2062-4978-4ceb-f97f-b771210a44f9"
      },
      "source": [
        "# Checking for the Skewness\n",
        "leads['Newspaper Article'].value_counts()/len(leads['Newspaper Article'])*100"
      ],
      "execution_count": 184,
      "outputs": [
        {
          "output_type": "execute_result",
          "data": {
            "text/plain": [
              "No     99.978355\n",
              "Yes     0.021645\n",
              "Name: Newspaper Article, dtype: float64"
            ]
          },
          "metadata": {
            "tags": []
          },
          "execution_count": 184
        }
      ]
    },
    {
      "cell_type": "code",
      "metadata": {
        "colab": {
          "base_uri": "https://localhost:8080/"
        },
        "id": "SVpt-Srxh8gn",
        "outputId": "057d70a1-eaa3-4538-8d40-b16d06b5e539"
      },
      "source": [
        "# Checking for the Skewness\n",
        "leads['X Education Forums'].value_counts()/len(leads['X Education Forums'])*100"
      ],
      "execution_count": 185,
      "outputs": [
        {
          "output_type": "execute_result",
          "data": {
            "text/plain": [
              "No     99.989177\n",
              "Yes     0.010823\n",
              "Name: X Education Forums, dtype: float64"
            ]
          },
          "metadata": {
            "tags": []
          },
          "execution_count": 185
        }
      ]
    },
    {
      "cell_type": "code",
      "metadata": {
        "colab": {
          "base_uri": "https://localhost:8080/"
        },
        "id": "_OfywMUoh-FO",
        "outputId": "19a143c9-78e6-40c5-e40b-8fa637d6cc69"
      },
      "source": [
        "# Checking for the Skewness\n",
        "leads['Newspaper'].value_counts()/len(leads['Newspaper'])*100"
      ],
      "execution_count": 186,
      "outputs": [
        {
          "output_type": "execute_result",
          "data": {
            "text/plain": [
              "No     99.989177\n",
              "Yes     0.010823\n",
              "Name: Newspaper, dtype: float64"
            ]
          },
          "metadata": {
            "tags": []
          },
          "execution_count": 186
        }
      ]
    },
    {
      "cell_type": "code",
      "metadata": {
        "colab": {
          "base_uri": "https://localhost:8080/"
        },
        "id": "QJzy0ROJiBez",
        "outputId": "7b4f6f19-886c-4d0e-8066-b0410490dc12"
      },
      "source": [
        "# Checking for the Skewness\n",
        "leads['Digital Advertisement'].value_counts()/len(leads['Digital Advertisement'])*100"
      ],
      "execution_count": 187,
      "outputs": [
        {
          "output_type": "execute_result",
          "data": {
            "text/plain": [
              "No     99.95671\n",
              "Yes     0.04329\n",
              "Name: Digital Advertisement, dtype: float64"
            ]
          },
          "metadata": {
            "tags": []
          },
          "execution_count": 187
        }
      ]
    },
    {
      "cell_type": "code",
      "metadata": {
        "colab": {
          "base_uri": "https://localhost:8080/"
        },
        "id": "hCT_l-xRiB_t",
        "outputId": "1673983d-fee1-4a23-806c-fc1ec21df3b2"
      },
      "source": [
        "# Checking for the Skewness\n",
        "leads['Through Recommendations'].value_counts()/len(leads['Through Recommendations'])*100"
      ],
      "execution_count": 188,
      "outputs": [
        {
          "output_type": "execute_result",
          "data": {
            "text/plain": [
              "No     99.924242\n",
              "Yes     0.075758\n",
              "Name: Through Recommendations, dtype: float64"
            ]
          },
          "metadata": {
            "tags": []
          },
          "execution_count": 188
        }
      ]
    },
    {
      "cell_type": "code",
      "metadata": {
        "colab": {
          "base_uri": "https://localhost:8080/"
        },
        "id": "YuRQkbimiGYc",
        "outputId": "dc1fe5fb-4336-432e-8990-91aa93239865"
      },
      "source": [
        "# Checking for the Skewness\n",
        "leads['A free copy of Mastering The Interview'].value_counts()/len(leads['A free copy of Mastering The Interview'])*100"
      ],
      "execution_count": 189,
      "outputs": [
        {
          "output_type": "execute_result",
          "data": {
            "text/plain": [
              "No     68.744589\n",
              "Yes    31.255411\n",
              "Name: A free copy of Mastering The Interview, dtype: float64"
            ]
          },
          "metadata": {
            "tags": []
          },
          "execution_count": 189
        }
      ]
    },
    {
      "cell_type": "code",
      "metadata": {
        "id": "4vkavMm8igtc"
      },
      "source": [
        "# dropping the columns with high skewness\n",
        "leads = leads.drop(['Through Recommendations','Digital Advertisement','Newspaper','X Education Forums','Newspaper Article','Search','Do Not Call','Do Not Email'], axis = 1)"
      ],
      "execution_count": 190,
      "outputs": []
    },
    {
      "cell_type": "code",
      "metadata": {
        "colab": {
          "base_uri": "https://localhost:8080/"
        },
        "id": "6OgqWRYdiyeK",
        "outputId": "196c3fb1-57c8-4f45-e140-e491973843cd"
      },
      "source": [
        "# checking for the missing values after dropping the unnecessary variables \n",
        "(leads.isnull().sum()/len(leads)*100).sort_values(ascending=False)"
      ],
      "execution_count": 191,
      "outputs": [
        {
          "output_type": "execute_result",
          "data": {
            "text/plain": [
              "Specialization                            36.580087\n",
              "What is your current occupation           29.112554\n",
              "Country                                   26.634199\n",
              "Page Views Per Visit                       1.482684\n",
              "TotalVisits                                1.482684\n",
              "Lead Source                                0.389610\n",
              "A free copy of Mastering The Interview     0.000000\n",
              "Total Time Spent on Website                0.000000\n",
              "Converted                                  0.000000\n",
              "Lead Origin                                0.000000\n",
              "Lead Number                                0.000000\n",
              "dtype: float64"
            ]
          },
          "metadata": {
            "tags": []
          },
          "execution_count": 191
        }
      ]
    },
    {
      "cell_type": "code",
      "metadata": {
        "colab": {
          "base_uri": "https://localhost:8080/"
        },
        "id": "ay_IkNeMjZUq",
        "outputId": "2d6e4ca8-3254-4718-bb79-3a7059acf090"
      },
      "source": [
        "# imputing the missing value of the column with its mode\n",
        "leads['Specialization'] = leads['Specialization'].fillna(leads['Specialization'].mode()[0])\n",
        "leads['Specialization'].value_counts()"
      ],
      "execution_count": 192,
      "outputs": [
        {
          "output_type": "execute_result",
          "data": {
            "text/plain": [
              "Finance Management                   4356\n",
              "Human Resource Management             848\n",
              "Marketing Management                  838\n",
              "Operations Management                 503\n",
              "Business Administration               403\n",
              "IT Projects Management                366\n",
              "Supply Chain Management               349\n",
              "Banking, Investment And Insurance     338\n",
              "Media and Advertising                 203\n",
              "Travel and Tourism                    203\n",
              "International Business                178\n",
              "Healthcare Management                 159\n",
              "Hospitality Management                114\n",
              "E-COMMERCE                            112\n",
              "Retail Management                     100\n",
              "Rural and Agribusiness                 73\n",
              "E-Business                             57\n",
              "Services Excellence                    40\n",
              "Name: Specialization, dtype: int64"
            ]
          },
          "metadata": {
            "tags": []
          },
          "execution_count": 192
        }
      ]
    },
    {
      "cell_type": "code",
      "metadata": {
        "colab": {
          "base_uri": "https://localhost:8080/"
        },
        "id": "-7U-6dFwmEV0",
        "outputId": "84dcf68f-b78b-4545-f08b-259215995716"
      },
      "source": [
        "# imputing the missing value of the column with its mode\n",
        "leads['What is your current occupation'] = leads['What is your current occupation'].fillna(leads['What is your current occupation'].mode()[0])\n",
        "leads['What is your current occupation'].value_counts()"
      ],
      "execution_count": 193,
      "outputs": [
        {
          "output_type": "execute_result",
          "data": {
            "text/plain": [
              "Unemployed              8290\n",
              "Working Professional     706\n",
              "Student                  210\n",
              "Other                     16\n",
              "Housewife                 10\n",
              "Businessman                8\n",
              "Name: What is your current occupation, dtype: int64"
            ]
          },
          "metadata": {
            "tags": []
          },
          "execution_count": 193
        }
      ]
    },
    {
      "cell_type": "code",
      "metadata": {
        "id": "Zi7Y57PomjtX"
      },
      "source": [
        "# treating the null values of the continuous variable by its median\n",
        "leads['TotalVisits'] = leads['TotalVisits'].fillna(leads['TotalVisits'].median())\n",
        "leads['Page Views Per Visit'] = leads['Page Views Per Visit'].fillna(leads['Page Views Per Visit'].median())"
      ],
      "execution_count": 194,
      "outputs": []
    },
    {
      "cell_type": "code",
      "metadata": {
        "colab": {
          "base_uri": "https://localhost:8080/"
        },
        "id": "pVjxUd8YkNfh",
        "outputId": "1934f35e-381a-466b-b6b0-aedb2b35f268"
      },
      "source": [
        "#remaining column with respective null value percentage\n",
        "\n",
        "(leads.isnull().sum()/len(leads.index)*100).sort_values(ascending=False)"
      ],
      "execution_count": 195,
      "outputs": [
        {
          "output_type": "execute_result",
          "data": {
            "text/plain": [
              "Country                                   26.634199\n",
              "Lead Source                                0.389610\n",
              "A free copy of Mastering The Interview     0.000000\n",
              "What is your current occupation            0.000000\n",
              "Specialization                             0.000000\n",
              "Page Views Per Visit                       0.000000\n",
              "Total Time Spent on Website                0.000000\n",
              "TotalVisits                                0.000000\n",
              "Converted                                  0.000000\n",
              "Lead Origin                                0.000000\n",
              "Lead Number                                0.000000\n",
              "dtype: float64"
            ]
          },
          "metadata": {
            "tags": []
          },
          "execution_count": 195
        }
      ]
    },
    {
      "cell_type": "markdown",
      "metadata": {
        "id": "h44j9IWrnxBE"
      },
      "source": [
        "## Step 4: EDA"
      ]
    },
    {
      "cell_type": "code",
      "metadata": {
        "colab": {
          "base_uri": "https://localhost:8080/",
          "height": 400
        },
        "id": "fGIUw_o4vG1B",
        "outputId": "a4720a0d-5a36-4cb4-a5c3-62725c9d6507"
      },
      "source": [
        "# checking the correlation between the variables\n",
        "sns.heatmap(leads.corr(), cmap=\"RdGy\", annot = True)\n",
        "plt.show()"
      ],
      "execution_count": 196,
      "outputs": [
        {
          "output_type": "display_data",
          "data": {
            "image/png": "[encoded data removed]",
            "text/plain": [
              "<Figure size 432x288 with 2 Axes>"
            ]
          },
          "metadata": {
            "tags": [],
            "needs_background": "light"
          }
        }
      ]
    },
    {
      "cell_type": "code",
      "metadata": {
        "colab": {
          "base_uri": "https://localhost:8080/",
          "height": 903
        },
        "id": "UFxm9Af2x0OP",
        "outputId": "0e40cc37-61e8-46e0-c796-68dcab6f7ea2"
      },
      "source": [
        "# preforming the EDA for the numerical variables\n",
        "sns.pairplot(leads)\n",
        "plt.show()"
      ],
      "execution_count": 197,
      "outputs": [
        {
          "output_type": "display_data",
          "data": {
            "image/png": "[encoded data removed]",
            "text/plain": [
              "<Figure size 900x900 with 30 Axes>"
            ]
          },
          "metadata": {
            "tags": [],
            "needs_background": "light"
          }
        }
      ]
    },
    {
      "cell_type": "code",
      "metadata": {
        "colab": {
          "base_uri": "https://localhost:8080/",
          "height": 352
        },
        "id": "JWIvrrlGKPvw",
        "outputId": "1da50c88-90ed-41e4-d073-1fb6683e9c19"
      },
      "source": [
        "# Checking for the outliers in the variable\n",
        "\n",
        "plt.figure(figsize=[15,5])\n",
        "plt.subplot(1,3,1)\n",
        "sns.boxplot(x='Converted',y=\"TotalVisits\",data=leads)\n",
        "plt.subplot(1,3,2)\n",
        "sns.boxplot(x='Converted',y=\"Page Views Per Visit\",data=leads)\n",
        "plt.subplot(1,3,3)\n",
        "sns.boxplot(x='Converted',y=\"Total Time Spent on Website\",data=leads)"
      ],
      "execution_count": 198,
      "outputs": [
        {
          "output_type": "execute_result",
          "data": {
            "text/plain": [
              "<matplotlib.axes._subplots.AxesSubplot at 0x7fb882b5f0d0>"
            ]
          },
          "metadata": {
            "tags": []
          },
          "execution_count": 198
        },
        {
          "output_type": "display_data",
          "data": {
            "image/png": "[encoded data removed]",
            "text/plain": [
              "<Figure size 1080x360 with 3 Axes>"
            ]
          },
          "metadata": {
            "tags": [],
            "needs_background": "light"
          }
        }
      ]
    },
    {
      "cell_type": "code",
      "metadata": {
        "colab": {
          "base_uri": "https://localhost:8080/",
          "height": 381
        },
        "id": "2cYCe9ACNrMT",
        "outputId": "f2a795ba-e17a-4e83-8245-1d80d056d651"
      },
      "source": [
        "# analysis of the Lead Source variable\n",
        "sns.countplot(leads['Lead Source']).tick_params(axis='x', rotation = 90)\n",
        "plt.title('Lead Source')\n",
        "plt.show()"
      ],
      "execution_count": 199,
      "outputs": [
        {
          "output_type": "display_data",
          "data": {
            "image/png": "[encoded data removed]",
            "text/plain": [
              "<Figure size 432x288 with 1 Axes>"
            ]
          },
          "metadata": {
            "tags": [],
            "needs_background": "light"
          }
        }
      ]
    },
    {
      "cell_type": "code",
      "metadata": {
        "id": "JUg0xrucepd9"
      },
      "source": [
        "# \"Google\" is the highest count and NULL values are only 0.39 % so we can safely replace them with \"Google\"\n",
        "leads[\"Lead Source\"] = leads[\"Lead Source\"].replace(np.NaN,\"Google\")"
      ],
      "execution_count": 200,
      "outputs": []
    },
    {
      "cell_type": "code",
      "metadata": {
        "colab": {
          "base_uri": "https://localhost:8080/"
        },
        "id": "Tm5YVsk9N_UO",
        "outputId": "75a9cb1e-d8d2-45af-98af-07b891c17a31"
      },
      "source": [
        "#now checking value distribution\n",
        "\n",
        "leads[\"Lead Source\"].value_counts()"
      ],
      "execution_count": 201,
      "outputs": [
        {
          "output_type": "execute_result",
          "data": {
            "text/plain": [
              "Google               2904\n",
              "Direct Traffic       2543\n",
              "Olark Chat           1755\n",
              "Organic Search       1154\n",
              "Reference             534\n",
              "Welingak Website      142\n",
              "Referral Sites        125\n",
              "Facebook               55\n",
              "bing                    6\n",
              "google                  5\n",
              "Click2call              4\n",
              "Live Chat               2\n",
              "Press_Release           2\n",
              "Social Media            2\n",
              "testone                 1\n",
              "NC_EDM                  1\n",
              "WeLearn                 1\n",
              "blog                    1\n",
              "youtubechannel          1\n",
              "Pay per Click Ads       1\n",
              "welearnblog_Home        1\n",
              "Name: Lead Source, dtype: int64"
            ]
          },
          "metadata": {
            "tags": []
          },
          "execution_count": 201
        }
      ]
    },
    {
      "cell_type": "code",
      "metadata": {
        "id": "NqnjjPBgMmcM"
      },
      "source": [
        "#replacing google columns value to Google\n",
        "\n",
        "leads['Lead Source'] = leads['Lead Source'].replace(['google'], 'Google')"
      ],
      "execution_count": 202,
      "outputs": []
    },
    {
      "cell_type": "code",
      "metadata": {
        "id": "uCHJQX1LiOLL"
      },
      "source": [
        "# Lead Source  - grouping under \"Other Sources\"\n",
        "leads['Lead Source'] = leads['Lead Source'].replace(['Click2call', 'Live Chat', 'NC_EDM', 'Pay per Click Ads', 'Press_Release',\n",
        "  'Social Media', 'WeLearn', 'bing', 'blog', 'testone', 'welearnblog_Home', 'youtubechannel',\"Facebook\",\"Referral Sites\",\"Welingak Website\",\"Reference\"], 'Other Sources')"
      ],
      "execution_count": 203,
      "outputs": []
    },
    {
      "cell_type": "code",
      "metadata": {
        "colab": {
          "base_uri": "https://localhost:8080/"
        },
        "id": "fy1CGnWDhBgs",
        "outputId": "6f65cea8-8616-4021-8c9a-e43fa3561e98"
      },
      "source": [
        "#now checking value distribution\n",
        "\n",
        "leads[\"Lead Source\"].value_counts()"
      ],
      "execution_count": 204,
      "outputs": [
        {
          "output_type": "execute_result",
          "data": {
            "text/plain": [
              "Google            2909\n",
              "Direct Traffic    2543\n",
              "Olark Chat        1755\n",
              "Organic Search    1154\n",
              "Other Sources      879\n",
              "Name: Lead Source, dtype: int64"
            ]
          },
          "metadata": {
            "tags": []
          },
          "execution_count": 204
        }
      ]
    },
    {
      "cell_type": "code",
      "metadata": {
        "colab": {
          "base_uri": "https://localhost:8080/",
          "height": 345
        },
        "id": "yzVIo-FxnPT4",
        "outputId": "18b1a494-b123-4203-f492-29493fe53447"
      },
      "source": [
        "#lets see graphically\n",
        "\n",
        "sns.countplot(leads['Lead Source']).tick_params(axis='x', rotation = 90)\n",
        "plt.show()"
      ],
      "execution_count": 205,
      "outputs": [
        {
          "output_type": "display_data",
          "data": {
            "image/png": "[encoded data removed]",
            "text/plain": [
              "<Figure size 432x288 with 1 Axes>"
            ]
          },
          "metadata": {
            "tags": [],
            "needs_background": "light"
          }
        }
      ]
    },
    {
      "cell_type": "code",
      "metadata": {
        "colab": {
          "base_uri": "https://localhost:8080/",
          "height": 375
        },
        "id": "258CBwrKnj7x",
        "outputId": "6e3dc6b2-333f-4a29-8bd2-2ce9787449e8"
      },
      "source": [
        "# analysis of the Country variable \n",
        "sns.countplot(leads['Country']).tick_params(axis='x', rotation = 90)\n",
        "plt.show()"
      ],
      "execution_count": 206,
      "outputs": [
        {
          "output_type": "display_data",
          "data": {
            "image/png": "[encoded data removed]",
            "text/plain": [
              "<Figure size 432x288 with 1 Axes>"
            ]
          },
          "metadata": {
            "tags": [],
            "needs_background": "light"
          }
        }
      ]
    },
    {
      "cell_type": "code",
      "metadata": {
        "id": "zAmbBIBmqQMS"
      },
      "source": [
        "#conving na to Not mentioned\n",
        "\n",
        "leads['Country']=leads['Country'].fillna('Not mentioned')"
      ],
      "execution_count": 207,
      "outputs": []
    },
    {
      "cell_type": "code",
      "metadata": {
        "colab": {
          "base_uri": "https://localhost:8080/"
        },
        "id": "8SoEj14Unwyg",
        "outputId": "144b8e50-0dee-4b68-d5b2-9e9a75a0daea"
      },
      "source": [
        "#categorizing in below mentioned 3 categories\n",
        "\n",
        "def Country_map(x):\n",
        "    category = \"\"\n",
        "    if x == \"India\":\n",
        "        return \"India\"\n",
        "    elif x == \"Not mentioned\":\n",
        "        return \"Not mentioned\"\n",
        "    else:\n",
        "        return \"Other Countries\"\n",
        "\n",
        "leads['Country'] = leads.apply(lambda x:Country_map(x['Country']), axis = 1)\n",
        "leads['Country'].value_counts()"
      ],
      "execution_count": 208,
      "outputs": [
        {
          "output_type": "execute_result",
          "data": {
            "text/plain": [
              "India              6492\n",
              "Not mentioned      2461\n",
              "Other Countries     287\n",
              "Name: Country, dtype: int64"
            ]
          },
          "metadata": {
            "tags": []
          },
          "execution_count": 208
        }
      ]
    },
    {
      "cell_type": "code",
      "metadata": {
        "colab": {
          "base_uri": "https://localhost:8080/",
          "height": 348
        },
        "id": "cOL6P_CQscVx",
        "outputId": "204d6edf-fb33-4991-87af-daba16aa89ca"
      },
      "source": [
        "#lets check it graphically\n",
        "\n",
        "sns.countplot(leads['Country']).tick_params(axis='x', rotation = 90)\n",
        "plt.show()"
      ],
      "execution_count": 209,
      "outputs": [
        {
          "output_type": "display_data",
          "data": {
            "image/png": "[encoded data removed]",
            "text/plain": [
              "<Figure size 432x288 with 1 Axes>"
            ]
          },
          "metadata": {
            "tags": [],
            "needs_background": "light"
          }
        }
      ]
    },
    {
      "cell_type": "markdown",
      "metadata": {
        "id": "L224IhAospct"
      },
      "source": [
        "####The graph shows majority of the learners are from India"
      ]
    },
    {
      "cell_type": "code",
      "metadata": {
        "colab": {
          "base_uri": "https://localhost:8080/"
        },
        "id": "FAB8sebIstDY",
        "outputId": "ffa6c26b-d492-4512-d967-eb16471cb35e"
      },
      "source": [
        "# we can check and see there is no null value remaining\n",
        "\n",
        "leads.isnull().sum()"
      ],
      "execution_count": 210,
      "outputs": [
        {
          "output_type": "execute_result",
          "data": {
            "text/plain": [
              "Lead Number                               0\n",
              "Lead Origin                               0\n",
              "Lead Source                               0\n",
              "Converted                                 0\n",
              "TotalVisits                               0\n",
              "Total Time Spent on Website               0\n",
              "Page Views Per Visit                      0\n",
              "Country                                   0\n",
              "Specialization                            0\n",
              "What is your current occupation           0\n",
              "A free copy of Mastering The Interview    0\n",
              "dtype: int64"
            ]
          },
          "metadata": {
            "tags": []
          },
          "execution_count": 210
        }
      ]
    },
    {
      "cell_type": "markdown",
      "metadata": {
        "id": "tWj0dc_AoJEm"
      },
      "source": [
        "##Step 5: Data Preparation"
      ]
    },
    {
      "cell_type": "markdown",
      "metadata": {
        "id": "Y9HR3NpkpzAN"
      },
      "source": [
        "###Dummy Variable"
      ]
    },
    {
      "cell_type": "code",
      "metadata": {
        "colab": {
          "base_uri": "https://localhost:8080/"
        },
        "id": "TiaD7O0qtjPM",
        "outputId": "cc575a01-2d33-4d44-8829-74c2e8e448b0"
      },
      "source": [
        "#checking columns to create dummies\n",
        "\n",
        "leads.info()"
      ],
      "execution_count": 211,
      "outputs": [
        {
          "output_type": "stream",
          "text": [
            "<class 'pandas.core.frame.DataFrame'>\n",
            "RangeIndex: 9240 entries, 0 to 9239\n",
            "Data columns (total 11 columns):\n",
            " #   Column                                  Non-Null Count  Dtype  \n",
            "---  ------                                  --------------  -----  \n",
            " 0   Lead Number                             9240 non-null   int64  \n",
            " 1   Lead Origin                             9240 non-null   object \n",
            " 2   Lead Source                             9240 non-null   object \n",
            " 3   Converted                               9240 non-null   int64  \n",
            " 4   TotalVisits                             9240 non-null   float64\n",
            " 5   Total Time Spent on Website             9240 non-null   int64  \n",
            " 6   Page Views Per Visit                    9240 non-null   float64\n",
            " 7   Country                                 9240 non-null   object \n",
            " 8   Specialization                          9240 non-null   object \n",
            " 9   What is your current occupation         9240 non-null   object \n",
            " 10  A free copy of Mastering The Interview  9240 non-null   object \n",
            "dtypes: float64(2), int64(3), object(6)\n",
            "memory usage: 794.2+ KB\n"
          ],
          "name": "stdout"
        }
      ]
    },
    {
      "cell_type": "code",
      "metadata": {
        "colab": {
          "base_uri": "https://localhost:8080/",
          "height": 417
        },
        "id": "HhntTBOqz5Te",
        "outputId": "97900900-25a1-4535-dfc0-3e611e60ca25"
      },
      "source": [
        "#creating dummy variables for the categorical variables in a separate variable\n",
        "\n",
        "dummy = pd.get_dummies(leads[['Lead Origin', 'Lead Source','Country', 'Specialization','What is your current occupation',\"A free copy of Mastering The Interview\"]], drop_first=True)\n",
        "leads = pd.concat([leads, dummy],axis=1)\n",
        "leads.head()"
      ],
      "execution_count": 212,
      "outputs": [
        {
          "output_type": "execute_result",
          "data": {
            "text/html": [
              "<div>\n",
              "<style scoped>\n",
              "    .dataframe tbody tr th:only-of-type {\n",
              "        vertical-align: middle;\n",
              "    }\n",
              "\n",
              "    .dataframe tbody tr th {\n",
              "        vertical-align: top;\n",
              "    }\n",
              "\n",
              "    .dataframe thead th {\n",
              "        text-align: right;\n",
              "    }\n",
              "</style>\n",
              "<table border=\"1\" class=\"dataframe\">\n",
              "  <thead>\n",
              "    <tr style=\"text-align: right;\">\n",
              "      <th></th>\n",
              "      <th>Lead Number</th>\n",
              "      <th>Lead Origin</th>\n",
              "      <th>Lead Source</th>\n",
              "      <th>Converted</th>\n",
              "      <th>TotalVisits</th>\n",
              "      <th>Total Time Spent on Website</th>\n",
              "      <th>Page Views Per Visit</th>\n",
              "      <th>Country</th>\n",
              "      <th>Specialization</th>\n",
              "      <th>What is your current occupation</th>\n",
              "      <th>A free copy of Mastering The Interview</th>\n",
              "      <th>Lead Origin_Landing Page Submission</th>\n",
              "      <th>Lead Origin_Lead Add Form</th>\n",
              "      <th>Lead Origin_Lead Import</th>\n",
              "      <th>Lead Origin_Quick Add Form</th>\n",
              "      <th>Lead Source_Google</th>\n",
              "      <th>Lead Source_Olark Chat</th>\n",
              "      <th>Lead Source_Organic Search</th>\n",
              "      <th>Lead Source_Other Sources</th>\n",
              "      <th>Country_Not mentioned</th>\n",
              "      <th>Country_Other Countries</th>\n",
              "      <th>Specialization_Business Administration</th>\n",
              "      <th>Specialization_E-Business</th>\n",
              "      <th>Specialization_E-COMMERCE</th>\n",
              "      <th>Specialization_Finance Management</th>\n",
              "      <th>Specialization_Healthcare Management</th>\n",
              "      <th>Specialization_Hospitality Management</th>\n",
              "      <th>Specialization_Human Resource Management</th>\n",
              "      <th>Specialization_IT Projects Management</th>\n",
              "      <th>Specialization_International Business</th>\n",
              "      <th>Specialization_Marketing Management</th>\n",
              "      <th>Specialization_Media and Advertising</th>\n",
              "      <th>Specialization_Operations Management</th>\n",
              "      <th>Specialization_Retail Management</th>\n",
              "      <th>Specialization_Rural and Agribusiness</th>\n",
              "      <th>Specialization_Services Excellence</th>\n",
              "      <th>Specialization_Supply Chain Management</th>\n",
              "      <th>Specialization_Travel and Tourism</th>\n",
              "      <th>What is your current occupation_Housewife</th>\n",
              "      <th>What is your current occupation_Other</th>\n",
              "      <th>What is your current occupation_Student</th>\n",
              "      <th>What is your current occupation_Unemployed</th>\n",
              "      <th>What is your current occupation_Working Professional</th>\n",
              "      <th>A free copy of Mastering The Interview_Yes</th>\n",
              "    </tr>\n",
              "  </thead>\n",
              "  <tbody>\n",
              "    <tr>\n",
              "      <th>0</th>\n",
              "      <td>660737</td>\n",
              "      <td>API</td>\n",
              "      <td>Olark Chat</td>\n",
              "      <td>0</td>\n",
              "      <td>0.0</td>\n",
              "      <td>0</td>\n",
              "      <td>0.0</td>\n",
              "      <td>Not mentioned</td>\n",
              "      <td>Finance Management</td>\n",
              "      <td>Unemployed</td>\n",
              "      <td>No</td>\n",
              "      <td>0</td>\n",
              "      <td>0</td>\n",
              "      <td>0</td>\n",
              "      <td>0</td>\n",
              "      <td>0</td>\n",
              "      <td>1</td>\n",
              "      <td>0</td>\n",
              "      <td>0</td>\n",
              "      <td>1</td>\n",
              "      <td>0</td>\n",
              "      <td>0</td>\n",
              "      <td>0</td>\n",
              "      <td>0</td>\n",
              "      <td>1</td>\n",
              "      <td>0</td>\n",
              "      <td>0</td>\n",
              "      <td>0</td>\n",
              "      <td>0</td>\n",
              "      <td>0</td>\n",
              "      <td>0</td>\n",
              "      <td>0</td>\n",
              "      <td>0</td>\n",
              "      <td>0</td>\n",
              "      <td>0</td>\n",
              "      <td>0</td>\n",
              "      <td>0</td>\n",
              "      <td>0</td>\n",
              "      <td>0</td>\n",
              "      <td>0</td>\n",
              "      <td>0</td>\n",
              "      <td>1</td>\n",
              "      <td>0</td>\n",
              "      <td>0</td>\n",
              "    </tr>\n",
              "    <tr>\n",
              "      <th>1</th>\n",
              "      <td>660728</td>\n",
              "      <td>API</td>\n",
              "      <td>Organic Search</td>\n",
              "      <td>0</td>\n",
              "      <td>5.0</td>\n",
              "      <td>674</td>\n",
              "      <td>2.5</td>\n",
              "      <td>India</td>\n",
              "      <td>Finance Management</td>\n",
              "      <td>Unemployed</td>\n",
              "      <td>No</td>\n",
              "      <td>0</td>\n",
              "      <td>0</td>\n",
              "      <td>0</td>\n",
              "      <td>0</td>\n",
              "      <td>0</td>\n",
              "      <td>0</td>\n",
              "      <td>1</td>\n",
              "      <td>0</td>\n",
              "      <td>0</td>\n",
              "      <td>0</td>\n",
              "      <td>0</td>\n",
              "      <td>0</td>\n",
              "      <td>0</td>\n",
              "      <td>1</td>\n",
              "      <td>0</td>\n",
              "      <td>0</td>\n",
              "      <td>0</td>\n",
              "      <td>0</td>\n",
              "      <td>0</td>\n",
              "      <td>0</td>\n",
              "      <td>0</td>\n",
              "      <td>0</td>\n",
              "      <td>0</td>\n",
              "      <td>0</td>\n",
              "      <td>0</td>\n",
              "      <td>0</td>\n",
              "      <td>0</td>\n",
              "      <td>0</td>\n",
              "      <td>0</td>\n",
              "      <td>0</td>\n",
              "      <td>1</td>\n",
              "      <td>0</td>\n",
              "      <td>0</td>\n",
              "    </tr>\n",
              "    <tr>\n",
              "      <th>2</th>\n",
              "      <td>660727</td>\n",
              "      <td>Landing Page Submission</td>\n",
              "      <td>Direct Traffic</td>\n",
              "      <td>1</td>\n",
              "      <td>2.0</td>\n",
              "      <td>1532</td>\n",
              "      <td>2.0</td>\n",
              "      <td>India</td>\n",
              "      <td>Business Administration</td>\n",
              "      <td>Student</td>\n",
              "      <td>Yes</td>\n",
              "      <td>1</td>\n",
              "      <td>0</td>\n",
              "      <td>0</td>\n",
              "      <td>0</td>\n",
              "      <td>0</td>\n",
              "      <td>0</td>\n",
              "      <td>0</td>\n",
              "      <td>0</td>\n",
              "      <td>0</td>\n",
              "      <td>0</td>\n",
              "      <td>1</td>\n",
              "      <td>0</td>\n",
              "      <td>0</td>\n",
              "      <td>0</td>\n",
              "      <td>0</td>\n",
              "      <td>0</td>\n",
              "      <td>0</td>\n",
              "      <td>0</td>\n",
              "      <td>0</td>\n",
              "      <td>0</td>\n",
              "      <td>0</td>\n",
              "      <td>0</td>\n",
              "      <td>0</td>\n",
              "      <td>0</td>\n",
              "      <td>0</td>\n",
              "      <td>0</td>\n",
              "      <td>0</td>\n",
              "      <td>0</td>\n",
              "      <td>0</td>\n",
              "      <td>1</td>\n",
              "      <td>0</td>\n",
              "      <td>0</td>\n",
              "      <td>1</td>\n",
              "    </tr>\n",
              "    <tr>\n",
              "      <th>3</th>\n",
              "      <td>660719</td>\n",
              "      <td>Landing Page Submission</td>\n",
              "      <td>Direct Traffic</td>\n",
              "      <td>0</td>\n",
              "      <td>1.0</td>\n",
              "      <td>305</td>\n",
              "      <td>1.0</td>\n",
              "      <td>India</td>\n",
              "      <td>Media and Advertising</td>\n",
              "      <td>Unemployed</td>\n",
              "      <td>No</td>\n",
              "      <td>1</td>\n",
              "      <td>0</td>\n",
              "      <td>0</td>\n",
              "      <td>0</td>\n",
              "      <td>0</td>\n",
              "      <td>0</td>\n",
              "      <td>0</td>\n",
              "      <td>0</td>\n",
              "      <td>0</td>\n",
              "      <td>0</td>\n",
              "      <td>0</td>\n",
              "      <td>0</td>\n",
              "      <td>0</td>\n",
              "      <td>0</td>\n",
              "      <td>0</td>\n",
              "      <td>0</td>\n",
              "      <td>0</td>\n",
              "      <td>0</td>\n",
              "      <td>0</td>\n",
              "      <td>0</td>\n",
              "      <td>1</td>\n",
              "      <td>0</td>\n",
              "      <td>0</td>\n",
              "      <td>0</td>\n",
              "      <td>0</td>\n",
              "      <td>0</td>\n",
              "      <td>0</td>\n",
              "      <td>0</td>\n",
              "      <td>0</td>\n",
              "      <td>0</td>\n",
              "      <td>1</td>\n",
              "      <td>0</td>\n",
              "      <td>0</td>\n",
              "    </tr>\n",
              "    <tr>\n",
              "      <th>4</th>\n",
              "      <td>660681</td>\n",
              "      <td>Landing Page Submission</td>\n",
              "      <td>Google</td>\n",
              "      <td>1</td>\n",
              "      <td>2.0</td>\n",
              "      <td>1428</td>\n",
              "      <td>1.0</td>\n",
              "      <td>India</td>\n",
              "      <td>Finance Management</td>\n",
              "      <td>Unemployed</td>\n",
              "      <td>No</td>\n",
              "      <td>1</td>\n",
              "      <td>0</td>\n",
              "      <td>0</td>\n",
              "      <td>0</td>\n",
              "      <td>1</td>\n",
              "      <td>0</td>\n",
              "      <td>0</td>\n",
              "      <td>0</td>\n",
              "      <td>0</td>\n",
              "      <td>0</td>\n",
              "      <td>0</td>\n",
              "      <td>0</td>\n",
              "      <td>0</td>\n",
              "      <td>1</td>\n",
              "      <td>0</td>\n",
              "      <td>0</td>\n",
              "      <td>0</td>\n",
              "      <td>0</td>\n",
              "      <td>0</td>\n",
              "      <td>0</td>\n",
              "      <td>0</td>\n",
              "      <td>0</td>\n",
              "      <td>0</td>\n",
              "      <td>0</td>\n",
              "      <td>0</td>\n",
              "      <td>0</td>\n",
              "      <td>0</td>\n",
              "      <td>0</td>\n",
              "      <td>0</td>\n",
              "      <td>0</td>\n",
              "      <td>1</td>\n",
              "      <td>0</td>\n",
              "      <td>0</td>\n",
              "    </tr>\n",
              "  </tbody>\n",
              "</table>\n",
              "</div>"
            ],
            "text/plain": [
              "   Lead Number  ... A free copy of Mastering The Interview_Yes\n",
              "0       660737  ...                                          0\n",
              "1       660728  ...                                          0\n",
              "2       660727  ...                                          1\n",
              "3       660719  ...                                          0\n",
              "4       660681  ...                                          0\n",
              "\n",
              "[5 rows x 44 columns]"
            ]
          },
          "metadata": {
            "tags": []
          },
          "execution_count": 212
        }
      ]
    },
    {
      "cell_type": "code",
      "metadata": {
        "colab": {
          "base_uri": "https://localhost:8080/"
        },
        "id": "0A5iZQ0u6JtH",
        "outputId": "e06d3571-6776-4ee3-e88e-51685d937963"
      },
      "source": [
        "# We have created dummies for the below variables, so we can drop them\n",
        "leads = leads.drop(['Lead Origin', 'Lead Source','Country', 'Specialization','What is your current occupation',\"A free copy of Mastering The Interview\"], axis=1)\n",
        "leads.info()"
      ],
      "execution_count": 213,
      "outputs": [
        {
          "output_type": "stream",
          "text": [
            "<class 'pandas.core.frame.DataFrame'>\n",
            "RangeIndex: 9240 entries, 0 to 9239\n",
            "Data columns (total 38 columns):\n",
            " #   Column                                                Non-Null Count  Dtype  \n",
            "---  ------                                                --------------  -----  \n",
            " 0   Lead Number                                           9240 non-null   int64  \n",
            " 1   Converted                                             9240 non-null   int64  \n",
            " 2   TotalVisits                                           9240 non-null   float64\n",
            " 3   Total Time Spent on Website                           9240 non-null   int64  \n",
            " 4   Page Views Per Visit                                  9240 non-null   float64\n",
            " 5   Lead Origin_Landing Page Submission                   9240 non-null   uint8  \n",
            " 6   Lead Origin_Lead Add Form                             9240 non-null   uint8  \n",
            " 7   Lead Origin_Lead Import                               9240 non-null   uint8  \n",
            " 8   Lead Origin_Quick Add Form                            9240 non-null   uint8  \n",
            " 9   Lead Source_Google                                    9240 non-null   uint8  \n",
            " 10  Lead Source_Olark Chat                                9240 non-null   uint8  \n",
            " 11  Lead Source_Organic Search                            9240 non-null   uint8  \n",
            " 12  Lead Source_Other Sources                             9240 non-null   uint8  \n",
            " 13  Country_Not mentioned                                 9240 non-null   uint8  \n",
            " 14  Country_Other Countries                               9240 non-null   uint8  \n",
            " 15  Specialization_Business Administration                9240 non-null   uint8  \n",
            " 16  Specialization_E-Business                             9240 non-null   uint8  \n",
            " 17  Specialization_E-COMMERCE                             9240 non-null   uint8  \n",
            " 18  Specialization_Finance Management                     9240 non-null   uint8  \n",
            " 19  Specialization_Healthcare Management                  9240 non-null   uint8  \n",
            " 20  Specialization_Hospitality Management                 9240 non-null   uint8  \n",
            " 21  Specialization_Human Resource Management              9240 non-null   uint8  \n",
            " 22  Specialization_IT Projects Management                 9240 non-null   uint8  \n",
            " 23  Specialization_International Business                 9240 non-null   uint8  \n",
            " 24  Specialization_Marketing Management                   9240 non-null   uint8  \n",
            " 25  Specialization_Media and Advertising                  9240 non-null   uint8  \n",
            " 26  Specialization_Operations Management                  9240 non-null   uint8  \n",
            " 27  Specialization_Retail Management                      9240 non-null   uint8  \n",
            " 28  Specialization_Rural and Agribusiness                 9240 non-null   uint8  \n",
            " 29  Specialization_Services Excellence                    9240 non-null   uint8  \n",
            " 30  Specialization_Supply Chain Management                9240 non-null   uint8  \n",
            " 31  Specialization_Travel and Tourism                     9240 non-null   uint8  \n",
            " 32  What is your current occupation_Housewife             9240 non-null   uint8  \n",
            " 33  What is your current occupation_Other                 9240 non-null   uint8  \n",
            " 34  What is your current occupation_Student               9240 non-null   uint8  \n",
            " 35  What is your current occupation_Unemployed            9240 non-null   uint8  \n",
            " 36  What is your current occupation_Working Professional  9240 non-null   uint8  \n",
            " 37  A free copy of Mastering The Interview_Yes            9240 non-null   uint8  \n",
            "dtypes: float64(2), int64(3), uint8(33)\n",
            "memory usage: 658.8 KB\n"
          ],
          "name": "stdout"
        }
      ]
    },
    {
      "cell_type": "markdown",
      "metadata": {
        "id": "NbonxOBx-MA5"
      },
      "source": [
        "##Step 6: Test and Train Split"
      ]
    },
    {
      "cell_type": "code",
      "metadata": {
        "id": "4r4rkG33-Liz"
      },
      "source": [
        "# splitting the data set into training and testing sets randomly \n",
        "\n",
        "lead_train, lead_test = train_test_split(leads, train_size = 0.7, test_size = 0.3, random_state = 100)"
      ],
      "execution_count": 214,
      "outputs": []
    },
    {
      "cell_type": "code",
      "metadata": {
        "id": "Gty-Obcx_H6F"
      },
      "source": [
        "# importing the necessary library\n",
        "from sklearn.preprocessing import MinMaxScaler\n",
        "scaler = MinMaxScaler()"
      ],
      "execution_count": 215,
      "outputs": []
    },
    {
      "cell_type": "code",
      "metadata": {
        "colab": {
          "base_uri": "https://localhost:8080/"
        },
        "id": "4xtEEl-XA1ln",
        "outputId": "0540ac4a-2cfd-4e83-fcef-f1c143659fd1"
      },
      "source": [
        "# checking unique count of Values\n",
        "\n",
        "leads.nunique()"
      ],
      "execution_count": 216,
      "outputs": [
        {
          "output_type": "execute_result",
          "data": {
            "text/plain": [
              "Lead Number                                             9240\n",
              "Converted                                                  2\n",
              "TotalVisits                                               41\n",
              "Total Time Spent on Website                             1731\n",
              "Page Views Per Visit                                     114\n",
              "Lead Origin_Landing Page Submission                        2\n",
              "Lead Origin_Lead Add Form                                  2\n",
              "Lead Origin_Lead Import                                    2\n",
              "Lead Origin_Quick Add Form                                 2\n",
              "Lead Source_Google                                         2\n",
              "Lead Source_Olark Chat                                     2\n",
              "Lead Source_Organic Search                                 2\n",
              "Lead Source_Other Sources                                  2\n",
              "Country_Not mentioned                                      2\n",
              "Country_Other Countries                                    2\n",
              "Specialization_Business Administration                     2\n",
              "Specialization_E-Business                                  2\n",
              "Specialization_E-COMMERCE                                  2\n",
              "Specialization_Finance Management                          2\n",
              "Specialization_Healthcare Management                       2\n",
              "Specialization_Hospitality Management                      2\n",
              "Specialization_Human Resource Management                   2\n",
              "Specialization_IT Projects Management                      2\n",
              "Specialization_International Business                      2\n",
              "Specialization_Marketing Management                        2\n",
              "Specialization_Media and Advertising                       2\n",
              "Specialization_Operations Management                       2\n",
              "Specialization_Retail Management                           2\n",
              "Specialization_Rural and Agribusiness                      2\n",
              "Specialization_Services Excellence                         2\n",
              "Specialization_Supply Chain Management                     2\n",
              "Specialization_Travel and Tourism                          2\n",
              "What is your current occupation_Housewife                  2\n",
              "What is your current occupation_Other                      2\n",
              "What is your current occupation_Student                    2\n",
              "What is your current occupation_Unemployed                 2\n",
              "What is your current occupation_Working Professional       2\n",
              "A free copy of Mastering The Interview_Yes                 2\n",
              "dtype: int64"
            ]
          },
          "metadata": {
            "tags": []
          },
          "execution_count": 216
        }
      ]
    },
    {
      "cell_type": "code",
      "metadata": {
        "colab": {
          "base_uri": "https://localhost:8080/",
          "height": 284
        },
        "id": "8UJS1TS7A0lj",
        "outputId": "a41c36ca-f2fb-4894-fb25-743ec40d889b"
      },
      "source": [
        "# scaling the numerical variables using Min-Max Scaler of the training data-set.\n",
        "\n",
        "numerical_vars = ['TotalVisits', 'Total Time Spent on Website', 'Page Views Per Visit']\n",
        "\n",
        "lead_train[numerical_vars] = scaler.fit_transform(lead_train[numerical_vars])\n",
        "\n",
        "lead_train.head()"
      ],
      "execution_count": 217,
      "outputs": [
        {
          "output_type": "execute_result",
          "data": {
            "text/html": [
              "<div>\n",
              "<style scoped>\n",
              "    .dataframe tbody tr th:only-of-type {\n",
              "        vertical-align: middle;\n",
              "    }\n",
              "\n",
              "    .dataframe tbody tr th {\n",
              "        vertical-align: top;\n",
              "    }\n",
              "\n",
              "    .dataframe thead th {\n",
              "        text-align: right;\n",
              "    }\n",
              "</style>\n",
              "<table border=\"1\" class=\"dataframe\">\n",
              "  <thead>\n",
              "    <tr style=\"text-align: right;\">\n",
              "      <th></th>\n",
              "      <th>Lead Number</th>\n",
              "      <th>Converted</th>\n",
              "      <th>TotalVisits</th>\n",
              "      <th>Total Time Spent on Website</th>\n",
              "      <th>Page Views Per Visit</th>\n",
              "      <th>Lead Origin_Landing Page Submission</th>\n",
              "      <th>Lead Origin_Lead Add Form</th>\n",
              "      <th>Lead Origin_Lead Import</th>\n",
              "      <th>Lead Origin_Quick Add Form</th>\n",
              "      <th>Lead Source_Google</th>\n",
              "      <th>Lead Source_Olark Chat</th>\n",
              "      <th>Lead Source_Organic Search</th>\n",
              "      <th>Lead Source_Other Sources</th>\n",
              "      <th>Country_Not mentioned</th>\n",
              "      <th>Country_Other Countries</th>\n",
              "      <th>Specialization_Business Administration</th>\n",
              "      <th>Specialization_E-Business</th>\n",
              "      <th>Specialization_E-COMMERCE</th>\n",
              "      <th>Specialization_Finance Management</th>\n",
              "      <th>Specialization_Healthcare Management</th>\n",
              "      <th>Specialization_Hospitality Management</th>\n",
              "      <th>Specialization_Human Resource Management</th>\n",
              "      <th>Specialization_IT Projects Management</th>\n",
              "      <th>Specialization_International Business</th>\n",
              "      <th>Specialization_Marketing Management</th>\n",
              "      <th>Specialization_Media and Advertising</th>\n",
              "      <th>Specialization_Operations Management</th>\n",
              "      <th>Specialization_Retail Management</th>\n",
              "      <th>Specialization_Rural and Agribusiness</th>\n",
              "      <th>Specialization_Services Excellence</th>\n",
              "      <th>Specialization_Supply Chain Management</th>\n",
              "      <th>Specialization_Travel and Tourism</th>\n",
              "      <th>What is your current occupation_Housewife</th>\n",
              "      <th>What is your current occupation_Other</th>\n",
              "      <th>What is your current occupation_Student</th>\n",
              "      <th>What is your current occupation_Unemployed</th>\n",
              "      <th>What is your current occupation_Working Professional</th>\n",
              "      <th>A free copy of Mastering The Interview_Yes</th>\n",
              "    </tr>\n",
              "  </thead>\n",
              "  <tbody>\n",
              "    <tr>\n",
              "      <th>1871</th>\n",
              "      <td>641410</td>\n",
              "      <td>0</td>\n",
              "      <td>0.000000</td>\n",
              "      <td>0.000000</td>\n",
              "      <td>0.000000</td>\n",
              "      <td>0</td>\n",
              "      <td>0</td>\n",
              "      <td>0</td>\n",
              "      <td>0</td>\n",
              "      <td>0</td>\n",
              "      <td>1</td>\n",
              "      <td>0</td>\n",
              "      <td>0</td>\n",
              "      <td>1</td>\n",
              "      <td>0</td>\n",
              "      <td>0</td>\n",
              "      <td>0</td>\n",
              "      <td>0</td>\n",
              "      <td>0</td>\n",
              "      <td>0</td>\n",
              "      <td>0</td>\n",
              "      <td>0</td>\n",
              "      <td>0</td>\n",
              "      <td>0</td>\n",
              "      <td>1</td>\n",
              "      <td>0</td>\n",
              "      <td>0</td>\n",
              "      <td>0</td>\n",
              "      <td>0</td>\n",
              "      <td>0</td>\n",
              "      <td>0</td>\n",
              "      <td>0</td>\n",
              "      <td>0</td>\n",
              "      <td>0</td>\n",
              "      <td>0</td>\n",
              "      <td>1</td>\n",
              "      <td>0</td>\n",
              "      <td>0</td>\n",
              "    </tr>\n",
              "    <tr>\n",
              "      <th>6795</th>\n",
              "      <td>597687</td>\n",
              "      <td>0</td>\n",
              "      <td>0.015936</td>\n",
              "      <td>0.214349</td>\n",
              "      <td>0.024182</td>\n",
              "      <td>1</td>\n",
              "      <td>0</td>\n",
              "      <td>0</td>\n",
              "      <td>0</td>\n",
              "      <td>0</td>\n",
              "      <td>0</td>\n",
              "      <td>0</td>\n",
              "      <td>0</td>\n",
              "      <td>0</td>\n",
              "      <td>0</td>\n",
              "      <td>0</td>\n",
              "      <td>0</td>\n",
              "      <td>0</td>\n",
              "      <td>1</td>\n",
              "      <td>0</td>\n",
              "      <td>0</td>\n",
              "      <td>0</td>\n",
              "      <td>0</td>\n",
              "      <td>0</td>\n",
              "      <td>0</td>\n",
              "      <td>0</td>\n",
              "      <td>0</td>\n",
              "      <td>0</td>\n",
              "      <td>0</td>\n",
              "      <td>0</td>\n",
              "      <td>0</td>\n",
              "      <td>0</td>\n",
              "      <td>0</td>\n",
              "      <td>0</td>\n",
              "      <td>0</td>\n",
              "      <td>1</td>\n",
              "      <td>0</td>\n",
              "      <td>1</td>\n",
              "    </tr>\n",
              "    <tr>\n",
              "      <th>3516</th>\n",
              "      <td>626825</td>\n",
              "      <td>0</td>\n",
              "      <td>0.019920</td>\n",
              "      <td>0.046655</td>\n",
              "      <td>0.045455</td>\n",
              "      <td>0</td>\n",
              "      <td>0</td>\n",
              "      <td>0</td>\n",
              "      <td>0</td>\n",
              "      <td>0</td>\n",
              "      <td>1</td>\n",
              "      <td>0</td>\n",
              "      <td>0</td>\n",
              "      <td>1</td>\n",
              "      <td>0</td>\n",
              "      <td>0</td>\n",
              "      <td>0</td>\n",
              "      <td>0</td>\n",
              "      <td>1</td>\n",
              "      <td>0</td>\n",
              "      <td>0</td>\n",
              "      <td>0</td>\n",
              "      <td>0</td>\n",
              "      <td>0</td>\n",
              "      <td>0</td>\n",
              "      <td>0</td>\n",
              "      <td>0</td>\n",
              "      <td>0</td>\n",
              "      <td>0</td>\n",
              "      <td>0</td>\n",
              "      <td>0</td>\n",
              "      <td>0</td>\n",
              "      <td>0</td>\n",
              "      <td>0</td>\n",
              "      <td>0</td>\n",
              "      <td>1</td>\n",
              "      <td>0</td>\n",
              "      <td>0</td>\n",
              "    </tr>\n",
              "    <tr>\n",
              "      <th>8105</th>\n",
              "      <td>587928</td>\n",
              "      <td>0</td>\n",
              "      <td>0.019920</td>\n",
              "      <td>0.541373</td>\n",
              "      <td>0.090909</td>\n",
              "      <td>1</td>\n",
              "      <td>0</td>\n",
              "      <td>0</td>\n",
              "      <td>0</td>\n",
              "      <td>1</td>\n",
              "      <td>0</td>\n",
              "      <td>0</td>\n",
              "      <td>0</td>\n",
              "      <td>0</td>\n",
              "      <td>0</td>\n",
              "      <td>0</td>\n",
              "      <td>0</td>\n",
              "      <td>0</td>\n",
              "      <td>0</td>\n",
              "      <td>0</td>\n",
              "      <td>0</td>\n",
              "      <td>0</td>\n",
              "      <td>0</td>\n",
              "      <td>0</td>\n",
              "      <td>0</td>\n",
              "      <td>0</td>\n",
              "      <td>0</td>\n",
              "      <td>0</td>\n",
              "      <td>0</td>\n",
              "      <td>1</td>\n",
              "      <td>0</td>\n",
              "      <td>0</td>\n",
              "      <td>0</td>\n",
              "      <td>0</td>\n",
              "      <td>0</td>\n",
              "      <td>1</td>\n",
              "      <td>0</td>\n",
              "      <td>0</td>\n",
              "    </tr>\n",
              "    <tr>\n",
              "      <th>3934</th>\n",
              "      <td>622366</td>\n",
              "      <td>0</td>\n",
              "      <td>0.000000</td>\n",
              "      <td>0.000000</td>\n",
              "      <td>0.000000</td>\n",
              "      <td>0</td>\n",
              "      <td>0</td>\n",
              "      <td>0</td>\n",
              "      <td>0</td>\n",
              "      <td>0</td>\n",
              "      <td>1</td>\n",
              "      <td>0</td>\n",
              "      <td>0</td>\n",
              "      <td>1</td>\n",
              "      <td>0</td>\n",
              "      <td>0</td>\n",
              "      <td>0</td>\n",
              "      <td>0</td>\n",
              "      <td>1</td>\n",
              "      <td>0</td>\n",
              "      <td>0</td>\n",
              "      <td>0</td>\n",
              "      <td>0</td>\n",
              "      <td>0</td>\n",
              "      <td>0</td>\n",
              "      <td>0</td>\n",
              "      <td>0</td>\n",
              "      <td>0</td>\n",
              "      <td>0</td>\n",
              "      <td>0</td>\n",
              "      <td>0</td>\n",
              "      <td>0</td>\n",
              "      <td>0</td>\n",
              "      <td>0</td>\n",
              "      <td>0</td>\n",
              "      <td>1</td>\n",
              "      <td>0</td>\n",
              "      <td>0</td>\n",
              "    </tr>\n",
              "  </tbody>\n",
              "</table>\n",
              "</div>"
            ],
            "text/plain": [
              "      Lead Number  ...  A free copy of Mastering The Interview_Yes\n",
              "1871       641410  ...                                           0\n",
              "6795       597687  ...                                           1\n",
              "3516       626825  ...                                           0\n",
              "8105       587928  ...                                           0\n",
              "3934       622366  ...                                           0\n",
              "\n",
              "[5 rows x 38 columns]"
            ]
          },
          "metadata": {
            "tags": []
          },
          "execution_count": 217
        }
      ]
    },
    {
      "cell_type": "code",
      "metadata": {
        "colab": {
          "base_uri": "https://localhost:8080/",
          "height": 357
        },
        "id": "_TQLc7GBGNPm",
        "outputId": "add8a2a0-e860-42cb-f35e-c0933a8fe091"
      },
      "source": [
        "#description of train data \n",
        "\n",
        "lead_train.describe()"
      ],
      "execution_count": 218,
      "outputs": [
        {
          "output_type": "execute_result",
          "data": {
            "text/html": [
              "<div>\n",
              "<style scoped>\n",
              "    .dataframe tbody tr th:only-of-type {\n",
              "        vertical-align: middle;\n",
              "    }\n",
              "\n",
              "    .dataframe tbody tr th {\n",
              "        vertical-align: top;\n",
              "    }\n",
              "\n",
              "    .dataframe thead th {\n",
              "        text-align: right;\n",
              "    }\n",
              "</style>\n",
              "<table border=\"1\" class=\"dataframe\">\n",
              "  <thead>\n",
              "    <tr style=\"text-align: right;\">\n",
              "      <th></th>\n",
              "      <th>Lead Number</th>\n",
              "      <th>Converted</th>\n",
              "      <th>TotalVisits</th>\n",
              "      <th>Total Time Spent on Website</th>\n",
              "      <th>Page Views Per Visit</th>\n",
              "      <th>Lead Origin_Landing Page Submission</th>\n",
              "      <th>Lead Origin_Lead Add Form</th>\n",
              "      <th>Lead Origin_Lead Import</th>\n",
              "      <th>Lead Origin_Quick Add Form</th>\n",
              "      <th>Lead Source_Google</th>\n",
              "      <th>Lead Source_Olark Chat</th>\n",
              "      <th>Lead Source_Organic Search</th>\n",
              "      <th>Lead Source_Other Sources</th>\n",
              "      <th>Country_Not mentioned</th>\n",
              "      <th>Country_Other Countries</th>\n",
              "      <th>Specialization_Business Administration</th>\n",
              "      <th>Specialization_E-Business</th>\n",
              "      <th>Specialization_E-COMMERCE</th>\n",
              "      <th>Specialization_Finance Management</th>\n",
              "      <th>Specialization_Healthcare Management</th>\n",
              "      <th>Specialization_Hospitality Management</th>\n",
              "      <th>Specialization_Human Resource Management</th>\n",
              "      <th>Specialization_IT Projects Management</th>\n",
              "      <th>Specialization_International Business</th>\n",
              "      <th>Specialization_Marketing Management</th>\n",
              "      <th>Specialization_Media and Advertising</th>\n",
              "      <th>Specialization_Operations Management</th>\n",
              "      <th>Specialization_Retail Management</th>\n",
              "      <th>Specialization_Rural and Agribusiness</th>\n",
              "      <th>Specialization_Services Excellence</th>\n",
              "      <th>Specialization_Supply Chain Management</th>\n",
              "      <th>Specialization_Travel and Tourism</th>\n",
              "      <th>What is your current occupation_Housewife</th>\n",
              "      <th>What is your current occupation_Other</th>\n",
              "      <th>What is your current occupation_Student</th>\n",
              "      <th>What is your current occupation_Unemployed</th>\n",
              "      <th>What is your current occupation_Working Professional</th>\n",
              "      <th>A free copy of Mastering The Interview_Yes</th>\n",
              "    </tr>\n",
              "  </thead>\n",
              "  <tbody>\n",
              "    <tr>\n",
              "      <th>count</th>\n",
              "      <td>6468.000000</td>\n",
              "      <td>6468.000000</td>\n",
              "      <td>6468.000000</td>\n",
              "      <td>6468.000000</td>\n",
              "      <td>6468.000000</td>\n",
              "      <td>6468.000000</td>\n",
              "      <td>6468.000000</td>\n",
              "      <td>6468.000000</td>\n",
              "      <td>6468.000000</td>\n",
              "      <td>6468.000000</td>\n",
              "      <td>6468.000000</td>\n",
              "      <td>6468.000000</td>\n",
              "      <td>6468.000000</td>\n",
              "      <td>6468.000000</td>\n",
              "      <td>6468.000000</td>\n",
              "      <td>6468.000000</td>\n",
              "      <td>6468.000000</td>\n",
              "      <td>6468.000000</td>\n",
              "      <td>6468.000000</td>\n",
              "      <td>6468.000000</td>\n",
              "      <td>6468.000000</td>\n",
              "      <td>6468.000000</td>\n",
              "      <td>6468.000000</td>\n",
              "      <td>6468.000000</td>\n",
              "      <td>6468.000000</td>\n",
              "      <td>6468.000000</td>\n",
              "      <td>6468.000000</td>\n",
              "      <td>6468.000000</td>\n",
              "      <td>6468.000000</td>\n",
              "      <td>6468.000000</td>\n",
              "      <td>6468.000000</td>\n",
              "      <td>6468.000000</td>\n",
              "      <td>6468.000000</td>\n",
              "      <td>6468.000000</td>\n",
              "      <td>6468.000000</td>\n",
              "      <td>6468.000000</td>\n",
              "      <td>6468.000000</td>\n",
              "      <td>6468.000000</td>\n",
              "    </tr>\n",
              "    <tr>\n",
              "      <th>mean</th>\n",
              "      <td>617186.001546</td>\n",
              "      <td>0.381262</td>\n",
              "      <td>0.013815</td>\n",
              "      <td>0.212974</td>\n",
              "      <td>0.042686</td>\n",
              "      <td>0.528139</td>\n",
              "      <td>0.079468</td>\n",
              "      <td>0.005102</td>\n",
              "      <td>0.000155</td>\n",
              "      <td>0.320810</td>\n",
              "      <td>0.190167</td>\n",
              "      <td>0.121058</td>\n",
              "      <td>0.096475</td>\n",
              "      <td>0.267007</td>\n",
              "      <td>0.031540</td>\n",
              "      <td>0.043599</td>\n",
              "      <td>0.005720</td>\n",
              "      <td>0.012987</td>\n",
              "      <td>0.472944</td>\n",
              "      <td>0.015615</td>\n",
              "      <td>0.013451</td>\n",
              "      <td>0.091682</td>\n",
              "      <td>0.037260</td>\n",
              "      <td>0.018707</td>\n",
              "      <td>0.093383</td>\n",
              "      <td>0.020563</td>\n",
              "      <td>0.057205</td>\n",
              "      <td>0.010823</td>\n",
              "      <td>0.007267</td>\n",
              "      <td>0.004793</td>\n",
              "      <td>0.037570</td>\n",
              "      <td>0.021336</td>\n",
              "      <td>0.001391</td>\n",
              "      <td>0.001237</td>\n",
              "      <td>0.021027</td>\n",
              "      <td>0.897805</td>\n",
              "      <td>0.077613</td>\n",
              "      <td>0.311843</td>\n",
              "    </tr>\n",
              "    <tr>\n",
              "      <th>std</th>\n",
              "      <td>23372.003514</td>\n",
              "      <td>0.485734</td>\n",
              "      <td>0.021048</td>\n",
              "      <td>0.240566</td>\n",
              "      <td>0.039326</td>\n",
              "      <td>0.499246</td>\n",
              "      <td>0.270489</td>\n",
              "      <td>0.071252</td>\n",
              "      <td>0.012434</td>\n",
              "      <td>0.466824</td>\n",
              "      <td>0.392463</td>\n",
              "      <td>0.326219</td>\n",
              "      <td>0.295264</td>\n",
              "      <td>0.442430</td>\n",
              "      <td>0.174785</td>\n",
              "      <td>0.204218</td>\n",
              "      <td>0.075423</td>\n",
              "      <td>0.113227</td>\n",
              "      <td>0.499306</td>\n",
              "      <td>0.123991</td>\n",
              "      <td>0.115204</td>\n",
              "      <td>0.288599</td>\n",
              "      <td>0.189414</td>\n",
              "      <td>0.135500</td>\n",
              "      <td>0.290991</td>\n",
              "      <td>0.141926</td>\n",
              "      <td>0.232251</td>\n",
              "      <td>0.103475</td>\n",
              "      <td>0.084940</td>\n",
              "      <td>0.069069</td>\n",
              "      <td>0.190168</td>\n",
              "      <td>0.144512</td>\n",
              "      <td>0.037279</td>\n",
              "      <td>0.035150</td>\n",
              "      <td>0.143484</td>\n",
              "      <td>0.302929</td>\n",
              "      <td>0.267582</td>\n",
              "      <td>0.463282</td>\n",
              "    </tr>\n",
              "    <tr>\n",
              "      <th>min</th>\n",
              "      <td>579533.000000</td>\n",
              "      <td>0.000000</td>\n",
              "      <td>0.000000</td>\n",
              "      <td>0.000000</td>\n",
              "      <td>0.000000</td>\n",
              "      <td>0.000000</td>\n",
              "      <td>0.000000</td>\n",
              "      <td>0.000000</td>\n",
              "      <td>0.000000</td>\n",
              "      <td>0.000000</td>\n",
              "      <td>0.000000</td>\n",
              "      <td>0.000000</td>\n",
              "      <td>0.000000</td>\n",
              "      <td>0.000000</td>\n",
              "      <td>0.000000</td>\n",
              "      <td>0.000000</td>\n",
              "      <td>0.000000</td>\n",
              "      <td>0.000000</td>\n",
              "      <td>0.000000</td>\n",
              "      <td>0.000000</td>\n",
              "      <td>0.000000</td>\n",
              "      <td>0.000000</td>\n",
              "      <td>0.000000</td>\n",
              "      <td>0.000000</td>\n",
              "      <td>0.000000</td>\n",
              "      <td>0.000000</td>\n",
              "      <td>0.000000</td>\n",
              "      <td>0.000000</td>\n",
              "      <td>0.000000</td>\n",
              "      <td>0.000000</td>\n",
              "      <td>0.000000</td>\n",
              "      <td>0.000000</td>\n",
              "      <td>0.000000</td>\n",
              "      <td>0.000000</td>\n",
              "      <td>0.000000</td>\n",
              "      <td>0.000000</td>\n",
              "      <td>0.000000</td>\n",
              "      <td>0.000000</td>\n",
              "    </tr>\n",
              "    <tr>\n",
              "      <th>25%</th>\n",
              "      <td>596516.250000</td>\n",
              "      <td>0.000000</td>\n",
              "      <td>0.003984</td>\n",
              "      <td>0.005282</td>\n",
              "      <td>0.018182</td>\n",
              "      <td>0.000000</td>\n",
              "      <td>0.000000</td>\n",
              "      <td>0.000000</td>\n",
              "      <td>0.000000</td>\n",
              "      <td>0.000000</td>\n",
              "      <td>0.000000</td>\n",
              "      <td>0.000000</td>\n",
              "      <td>0.000000</td>\n",
              "      <td>0.000000</td>\n",
              "      <td>0.000000</td>\n",
              "      <td>0.000000</td>\n",
              "      <td>0.000000</td>\n",
              "      <td>0.000000</td>\n",
              "      <td>0.000000</td>\n",
              "      <td>0.000000</td>\n",
              "      <td>0.000000</td>\n",
              "      <td>0.000000</td>\n",
              "      <td>0.000000</td>\n",
              "      <td>0.000000</td>\n",
              "      <td>0.000000</td>\n",
              "      <td>0.000000</td>\n",
              "      <td>0.000000</td>\n",
              "      <td>0.000000</td>\n",
              "      <td>0.000000</td>\n",
              "      <td>0.000000</td>\n",
              "      <td>0.000000</td>\n",
              "      <td>0.000000</td>\n",
              "      <td>0.000000</td>\n",
              "      <td>0.000000</td>\n",
              "      <td>0.000000</td>\n",
              "      <td>1.000000</td>\n",
              "      <td>0.000000</td>\n",
              "      <td>0.000000</td>\n",
              "    </tr>\n",
              "    <tr>\n",
              "      <th>50%</th>\n",
              "      <td>615720.500000</td>\n",
              "      <td>0.000000</td>\n",
              "      <td>0.011952</td>\n",
              "      <td>0.108275</td>\n",
              "      <td>0.036364</td>\n",
              "      <td>1.000000</td>\n",
              "      <td>0.000000</td>\n",
              "      <td>0.000000</td>\n",
              "      <td>0.000000</td>\n",
              "      <td>0.000000</td>\n",
              "      <td>0.000000</td>\n",
              "      <td>0.000000</td>\n",
              "      <td>0.000000</td>\n",
              "      <td>0.000000</td>\n",
              "      <td>0.000000</td>\n",
              "      <td>0.000000</td>\n",
              "      <td>0.000000</td>\n",
              "      <td>0.000000</td>\n",
              "      <td>0.000000</td>\n",
              "      <td>0.000000</td>\n",
              "      <td>0.000000</td>\n",
              "      <td>0.000000</td>\n",
              "      <td>0.000000</td>\n",
              "      <td>0.000000</td>\n",
              "      <td>0.000000</td>\n",
              "      <td>0.000000</td>\n",
              "      <td>0.000000</td>\n",
              "      <td>0.000000</td>\n",
              "      <td>0.000000</td>\n",
              "      <td>0.000000</td>\n",
              "      <td>0.000000</td>\n",
              "      <td>0.000000</td>\n",
              "      <td>0.000000</td>\n",
              "      <td>0.000000</td>\n",
              "      <td>0.000000</td>\n",
              "      <td>1.000000</td>\n",
              "      <td>0.000000</td>\n",
              "      <td>0.000000</td>\n",
              "    </tr>\n",
              "    <tr>\n",
              "      <th>75%</th>\n",
              "      <td>637348.750000</td>\n",
              "      <td>1.000000</td>\n",
              "      <td>0.019920</td>\n",
              "      <td>0.407790</td>\n",
              "      <td>0.054545</td>\n",
              "      <td>1.000000</td>\n",
              "      <td>0.000000</td>\n",
              "      <td>0.000000</td>\n",
              "      <td>0.000000</td>\n",
              "      <td>1.000000</td>\n",
              "      <td>0.000000</td>\n",
              "      <td>0.000000</td>\n",
              "      <td>0.000000</td>\n",
              "      <td>1.000000</td>\n",
              "      <td>0.000000</td>\n",
              "      <td>0.000000</td>\n",
              "      <td>0.000000</td>\n",
              "      <td>0.000000</td>\n",
              "      <td>1.000000</td>\n",
              "      <td>0.000000</td>\n",
              "      <td>0.000000</td>\n",
              "      <td>0.000000</td>\n",
              "      <td>0.000000</td>\n",
              "      <td>0.000000</td>\n",
              "      <td>0.000000</td>\n",
              "      <td>0.000000</td>\n",
              "      <td>0.000000</td>\n",
              "      <td>0.000000</td>\n",
              "      <td>0.000000</td>\n",
              "      <td>0.000000</td>\n",
              "      <td>0.000000</td>\n",
              "      <td>0.000000</td>\n",
              "      <td>0.000000</td>\n",
              "      <td>0.000000</td>\n",
              "      <td>0.000000</td>\n",
              "      <td>1.000000</td>\n",
              "      <td>0.000000</td>\n",
              "      <td>1.000000</td>\n",
              "    </tr>\n",
              "    <tr>\n",
              "      <th>max</th>\n",
              "      <td>660728.000000</td>\n",
              "      <td>1.000000</td>\n",
              "      <td>1.000000</td>\n",
              "      <td>1.000000</td>\n",
              "      <td>1.000000</td>\n",
              "      <td>1.000000</td>\n",
              "      <td>1.000000</td>\n",
              "      <td>1.000000</td>\n",
              "      <td>1.000000</td>\n",
              "      <td>1.000000</td>\n",
              "      <td>1.000000</td>\n",
              "      <td>1.000000</td>\n",
              "      <td>1.000000</td>\n",
              "      <td>1.000000</td>\n",
              "      <td>1.000000</td>\n",
              "      <td>1.000000</td>\n",
              "      <td>1.000000</td>\n",
              "      <td>1.000000</td>\n",
              "      <td>1.000000</td>\n",
              "      <td>1.000000</td>\n",
              "      <td>1.000000</td>\n",
              "      <td>1.000000</td>\n",
              "      <td>1.000000</td>\n",
              "      <td>1.000000</td>\n",
              "      <td>1.000000</td>\n",
              "      <td>1.000000</td>\n",
              "      <td>1.000000</td>\n",
              "      <td>1.000000</td>\n",
              "      <td>1.000000</td>\n",
              "      <td>1.000000</td>\n",
              "      <td>1.000000</td>\n",
              "      <td>1.000000</td>\n",
              "      <td>1.000000</td>\n",
              "      <td>1.000000</td>\n",
              "      <td>1.000000</td>\n",
              "      <td>1.000000</td>\n",
              "      <td>1.000000</td>\n",
              "      <td>1.000000</td>\n",
              "    </tr>\n",
              "  </tbody>\n",
              "</table>\n",
              "</div>"
            ],
            "text/plain": [
              "         Lead Number  ...  A free copy of Mastering The Interview_Yes\n",
              "count    6468.000000  ...                                 6468.000000\n",
              "mean   617186.001546  ...                                    0.311843\n",
              "std     23372.003514  ...                                    0.463282\n",
              "min    579533.000000  ...                                    0.000000\n",
              "25%    596516.250000  ...                                    0.000000\n",
              "50%    615720.500000  ...                                    0.000000\n",
              "75%    637348.750000  ...                                    1.000000\n",
              "max    660728.000000  ...                                    1.000000\n",
              "\n",
              "[8 rows x 38 columns]"
            ]
          },
          "metadata": {
            "tags": []
          },
          "execution_count": 218
        }
      ]
    },
    {
      "cell_type": "code",
      "metadata": {
        "id": "ZVu8cwalGTgs"
      },
      "source": [
        "#Dividing into X and Y set for modelling\n",
        "\n",
        "X_train = lead_train.drop(['Lead Number','Converted'],axis = 1)\n",
        "y_train = lead_train['Converted']"
      ],
      "execution_count": 219,
      "outputs": []
    },
    {
      "cell_type": "code",
      "metadata": {
        "colab": {
          "base_uri": "https://localhost:8080/",
          "height": 284
        },
        "id": "Il2RS9JSIkqD",
        "outputId": "557c5a22-9482-412c-916c-4c25adad2878"
      },
      "source": [
        "#checking x train data\n",
        "\n",
        "X_train.head()"
      ],
      "execution_count": 220,
      "outputs": [
        {
          "output_type": "execute_result",
          "data": {
            "text/html": [
              "<div>\n",
              "<style scoped>\n",
              "    .dataframe tbody tr th:only-of-type {\n",
              "        vertical-align: middle;\n",
              "    }\n",
              "\n",
              "    .dataframe tbody tr th {\n",
              "        vertical-align: top;\n",
              "    }\n",
              "\n",
              "    .dataframe thead th {\n",
              "        text-align: right;\n",
              "    }\n",
              "</style>\n",
              "<table border=\"1\" class=\"dataframe\">\n",
              "  <thead>\n",
              "    <tr style=\"text-align: right;\">\n",
              "      <th></th>\n",
              "      <th>TotalVisits</th>\n",
              "      <th>Total Time Spent on Website</th>\n",
              "      <th>Page Views Per Visit</th>\n",
              "      <th>Lead Origin_Landing Page Submission</th>\n",
              "      <th>Lead Origin_Lead Add Form</th>\n",
              "      <th>Lead Origin_Lead Import</th>\n",
              "      <th>Lead Origin_Quick Add Form</th>\n",
              "      <th>Lead Source_Google</th>\n",
              "      <th>Lead Source_Olark Chat</th>\n",
              "      <th>Lead Source_Organic Search</th>\n",
              "      <th>Lead Source_Other Sources</th>\n",
              "      <th>Country_Not mentioned</th>\n",
              "      <th>Country_Other Countries</th>\n",
              "      <th>Specialization_Business Administration</th>\n",
              "      <th>Specialization_E-Business</th>\n",
              "      <th>Specialization_E-COMMERCE</th>\n",
              "      <th>Specialization_Finance Management</th>\n",
              "      <th>Specialization_Healthcare Management</th>\n",
              "      <th>Specialization_Hospitality Management</th>\n",
              "      <th>Specialization_Human Resource Management</th>\n",
              "      <th>Specialization_IT Projects Management</th>\n",
              "      <th>Specialization_International Business</th>\n",
              "      <th>Specialization_Marketing Management</th>\n",
              "      <th>Specialization_Media and Advertising</th>\n",
              "      <th>Specialization_Operations Management</th>\n",
              "      <th>Specialization_Retail Management</th>\n",
              "      <th>Specialization_Rural and Agribusiness</th>\n",
              "      <th>Specialization_Services Excellence</th>\n",
              "      <th>Specialization_Supply Chain Management</th>\n",
              "      <th>Specialization_Travel and Tourism</th>\n",
              "      <th>What is your current occupation_Housewife</th>\n",
              "      <th>What is your current occupation_Other</th>\n",
              "      <th>What is your current occupation_Student</th>\n",
              "      <th>What is your current occupation_Unemployed</th>\n",
              "      <th>What is your current occupation_Working Professional</th>\n",
              "      <th>A free copy of Mastering The Interview_Yes</th>\n",
              "    </tr>\n",
              "  </thead>\n",
              "  <tbody>\n",
              "    <tr>\n",
              "      <th>1871</th>\n",
              "      <td>0.000000</td>\n",
              "      <td>0.000000</td>\n",
              "      <td>0.000000</td>\n",
              "      <td>0</td>\n",
              "      <td>0</td>\n",
              "      <td>0</td>\n",
              "      <td>0</td>\n",
              "      <td>0</td>\n",
              "      <td>1</td>\n",
              "      <td>0</td>\n",
              "      <td>0</td>\n",
              "      <td>1</td>\n",
              "      <td>0</td>\n",
              "      <td>0</td>\n",
              "      <td>0</td>\n",
              "      <td>0</td>\n",
              "      <td>0</td>\n",
              "      <td>0</td>\n",
              "      <td>0</td>\n",
              "      <td>0</td>\n",
              "      <td>0</td>\n",
              "      <td>0</td>\n",
              "      <td>1</td>\n",
              "      <td>0</td>\n",
              "      <td>0</td>\n",
              "      <td>0</td>\n",
              "      <td>0</td>\n",
              "      <td>0</td>\n",
              "      <td>0</td>\n",
              "      <td>0</td>\n",
              "      <td>0</td>\n",
              "      <td>0</td>\n",
              "      <td>0</td>\n",
              "      <td>1</td>\n",
              "      <td>0</td>\n",
              "      <td>0</td>\n",
              "    </tr>\n",
              "    <tr>\n",
              "      <th>6795</th>\n",
              "      <td>0.015936</td>\n",
              "      <td>0.214349</td>\n",
              "      <td>0.024182</td>\n",
              "      <td>1</td>\n",
              "      <td>0</td>\n",
              "      <td>0</td>\n",
              "      <td>0</td>\n",
              "      <td>0</td>\n",
              "      <td>0</td>\n",
              "      <td>0</td>\n",
              "      <td>0</td>\n",
              "      <td>0</td>\n",
              "      <td>0</td>\n",
              "      <td>0</td>\n",
              "      <td>0</td>\n",
              "      <td>0</td>\n",
              "      <td>1</td>\n",
              "      <td>0</td>\n",
              "      <td>0</td>\n",
              "      <td>0</td>\n",
              "      <td>0</td>\n",
              "      <td>0</td>\n",
              "      <td>0</td>\n",
              "      <td>0</td>\n",
              "      <td>0</td>\n",
              "      <td>0</td>\n",
              "      <td>0</td>\n",
              "      <td>0</td>\n",
              "      <td>0</td>\n",
              "      <td>0</td>\n",
              "      <td>0</td>\n",
              "      <td>0</td>\n",
              "      <td>0</td>\n",
              "      <td>1</td>\n",
              "      <td>0</td>\n",
              "      <td>1</td>\n",
              "    </tr>\n",
              "    <tr>\n",
              "      <th>3516</th>\n",
              "      <td>0.019920</td>\n",
              "      <td>0.046655</td>\n",
              "      <td>0.045455</td>\n",
              "      <td>0</td>\n",
              "      <td>0</td>\n",
              "      <td>0</td>\n",
              "      <td>0</td>\n",
              "      <td>0</td>\n",
              "      <td>1</td>\n",
              "      <td>0</td>\n",
              "      <td>0</td>\n",
              "      <td>1</td>\n",
              "      <td>0</td>\n",
              "      <td>0</td>\n",
              "      <td>0</td>\n",
              "      <td>0</td>\n",
              "      <td>1</td>\n",
              "      <td>0</td>\n",
              "      <td>0</td>\n",
              "      <td>0</td>\n",
              "      <td>0</td>\n",
              "      <td>0</td>\n",
              "      <td>0</td>\n",
              "      <td>0</td>\n",
              "      <td>0</td>\n",
              "      <td>0</td>\n",
              "      <td>0</td>\n",
              "      <td>0</td>\n",
              "      <td>0</td>\n",
              "      <td>0</td>\n",
              "      <td>0</td>\n",
              "      <td>0</td>\n",
              "      <td>0</td>\n",
              "      <td>1</td>\n",
              "      <td>0</td>\n",
              "      <td>0</td>\n",
              "    </tr>\n",
              "    <tr>\n",
              "      <th>8105</th>\n",
              "      <td>0.019920</td>\n",
              "      <td>0.541373</td>\n",
              "      <td>0.090909</td>\n",
              "      <td>1</td>\n",
              "      <td>0</td>\n",
              "      <td>0</td>\n",
              "      <td>0</td>\n",
              "      <td>1</td>\n",
              "      <td>0</td>\n",
              "      <td>0</td>\n",
              "      <td>0</td>\n",
              "      <td>0</td>\n",
              "      <td>0</td>\n",
              "      <td>0</td>\n",
              "      <td>0</td>\n",
              "      <td>0</td>\n",
              "      <td>0</td>\n",
              "      <td>0</td>\n",
              "      <td>0</td>\n",
              "      <td>0</td>\n",
              "      <td>0</td>\n",
              "      <td>0</td>\n",
              "      <td>0</td>\n",
              "      <td>0</td>\n",
              "      <td>0</td>\n",
              "      <td>0</td>\n",
              "      <td>0</td>\n",
              "      <td>1</td>\n",
              "      <td>0</td>\n",
              "      <td>0</td>\n",
              "      <td>0</td>\n",
              "      <td>0</td>\n",
              "      <td>0</td>\n",
              "      <td>1</td>\n",
              "      <td>0</td>\n",
              "      <td>0</td>\n",
              "    </tr>\n",
              "    <tr>\n",
              "      <th>3934</th>\n",
              "      <td>0.000000</td>\n",
              "      <td>0.000000</td>\n",
              "      <td>0.000000</td>\n",
              "      <td>0</td>\n",
              "      <td>0</td>\n",
              "      <td>0</td>\n",
              "      <td>0</td>\n",
              "      <td>0</td>\n",
              "      <td>1</td>\n",
              "      <td>0</td>\n",
              "      <td>0</td>\n",
              "      <td>1</td>\n",
              "      <td>0</td>\n",
              "      <td>0</td>\n",
              "      <td>0</td>\n",
              "      <td>0</td>\n",
              "      <td>1</td>\n",
              "      <td>0</td>\n",
              "      <td>0</td>\n",
              "      <td>0</td>\n",
              "      <td>0</td>\n",
              "      <td>0</td>\n",
              "      <td>0</td>\n",
              "      <td>0</td>\n",
              "      <td>0</td>\n",
              "      <td>0</td>\n",
              "      <td>0</td>\n",
              "      <td>0</td>\n",
              "      <td>0</td>\n",
              "      <td>0</td>\n",
              "      <td>0</td>\n",
              "      <td>0</td>\n",
              "      <td>0</td>\n",
              "      <td>1</td>\n",
              "      <td>0</td>\n",
              "      <td>0</td>\n",
              "    </tr>\n",
              "  </tbody>\n",
              "</table>\n",
              "</div>"
            ],
            "text/plain": [
              "      TotalVisits  ...  A free copy of Mastering The Interview_Yes\n",
              "1871     0.000000  ...                                           0\n",
              "6795     0.015936  ...                                           1\n",
              "3516     0.019920  ...                                           0\n",
              "8105     0.019920  ...                                           0\n",
              "3934     0.000000  ...                                           0\n",
              "\n",
              "[5 rows x 36 columns]"
            ]
          },
          "metadata": {
            "tags": []
          },
          "execution_count": 220
        }
      ]
    },
    {
      "cell_type": "code",
      "metadata": {
        "colab": {
          "base_uri": "https://localhost:8080/"
        },
        "id": "Dmlh0kWxJEj2",
        "outputId": "bc526b65-e144-46e3-96bf-7ee7555bf02b"
      },
      "source": [
        "#checking y train data\n",
        "\n",
        "y_train.head()"
      ],
      "execution_count": 221,
      "outputs": [
        {
          "output_type": "execute_result",
          "data": {
            "text/plain": [
              "1871    0\n",
              "6795    0\n",
              "3516    0\n",
              "8105    0\n",
              "3934    0\n",
              "Name: Converted, dtype: int64"
            ]
          },
          "metadata": {
            "tags": []
          },
          "execution_count": 221
        }
      ]
    },
    {
      "cell_type": "markdown",
      "metadata": {
        "id": "nQZp_O_uJUt9"
      },
      "source": [
        "##Step 7: Model Building"
      ]
    },
    {
      "cell_type": "code",
      "metadata": {
        "colab": {
          "base_uri": "https://localhost:8080/",
          "height": 853
        },
        "id": "5V3wUKsoJYp6",
        "outputId": "308f1046-fde7-4abe-d240-79fafa925bb0"
      },
      "source": [
        "logm = sm.GLM(y_train, X_train, family = sm.families.Binomial())\n",
        "res = logm.fit()\n",
        "res.summary()"
      ],
      "execution_count": 222,
      "outputs": [
        {
          "output_type": "execute_result",
          "data": {
            "text/html": [
              "<table class=\"simpletable\">\n",
              "<caption>Generalized Linear Model Regression Results</caption>\n",
              "<tr>\n",
              "  <th>Dep. Variable:</th>       <td>Converted</td>    <th>  No. Observations:  </th>  <td>  6468</td> \n",
              "</tr>\n",
              "<tr>\n",
              "  <th>Model:</th>                  <td>GLM</td>       <th>  Df Residuals:      </th>  <td>  6432</td> \n",
              "</tr>\n",
              "<tr>\n",
              "  <th>Model Family:</th>        <td>Binomial</td>     <th>  Df Model:          </th>  <td>    35</td> \n",
              "</tr>\n",
              "<tr>\n",
              "  <th>Link Function:</th>         <td>logit</td>      <th>  Scale:             </th> <td>  1.0000</td>\n",
              "</tr>\n",
              "<tr>\n",
              "  <th>Method:</th>                <td>IRLS</td>       <th>  Log-Likelihood:    </th> <td> -3038.0</td>\n",
              "</tr>\n",
              "<tr>\n",
              "  <th>Date:</th>            <td>Tue, 10 Aug 2021</td> <th>  Deviance:          </th> <td>  6076.0</td>\n",
              "</tr>\n",
              "<tr>\n",
              "  <th>Time:</th>                <td>15:41:26</td>     <th>  Pearson chi2:      </th> <td>8.68e+03</td>\n",
              "</tr>\n",
              "<tr>\n",
              "  <th>No. Iterations:</th>         <td>21</td>        <th>                     </th>     <td> </td>   \n",
              "</tr>\n",
              "<tr>\n",
              "  <th>Covariance Type:</th>     <td>nonrobust</td>    <th>                     </th>     <td> </td>   \n",
              "</tr>\n",
              "</table>\n",
              "<table class=\"simpletable\">\n",
              "<tr>\n",
              "                            <td></td>                              <th>coef</th>     <th>std err</th>      <th>z</th>      <th>P>|z|</th>  <th>[0.025</th>    <th>0.975]</th>  \n",
              "</tr>\n",
              "<tr>\n",
              "  <th>TotalVisits</th>                                          <td>    4.9091</td> <td>    1.977</td> <td>    2.483</td> <td> 0.013</td> <td>    1.034</td> <td>    8.784</td>\n",
              "</tr>\n",
              "<tr>\n",
              "  <th>Total Time Spent on Website</th>                          <td>    4.5979</td> <td>    0.157</td> <td>   29.378</td> <td> 0.000</td> <td>    4.291</td> <td>    4.905</td>\n",
              "</tr>\n",
              "<tr>\n",
              "  <th>Page Views Per Visit</th>                                 <td>   -0.7220</td> <td>    1.126</td> <td>   -0.641</td> <td> 0.522</td> <td>   -2.930</td> <td>    1.486</td>\n",
              "</tr>\n",
              "<tr>\n",
              "  <th>Lead Origin_Landing Page Submission</th>                  <td>   -0.2549</td> <td>    0.109</td> <td>   -2.336</td> <td> 0.019</td> <td>   -0.469</td> <td>   -0.041</td>\n",
              "</tr>\n",
              "<tr>\n",
              "  <th>Lead Origin_Lead Add Form</th>                            <td>    3.7187</td> <td>    0.364</td> <td>   10.216</td> <td> 0.000</td> <td>    3.005</td> <td>    4.432</td>\n",
              "</tr>\n",
              "<tr>\n",
              "  <th>Lead Origin_Lead Import</th>                              <td>   -0.4131</td> <td>    0.623</td> <td>   -0.663</td> <td> 0.507</td> <td>   -1.634</td> <td>    0.808</td>\n",
              "</tr>\n",
              "<tr>\n",
              "  <th>Lead Origin_Quick Add Form</th>                           <td>   18.9941</td> <td> 4.82e+04</td> <td>    0.000</td> <td> 1.000</td> <td>-9.44e+04</td> <td> 9.45e+04</td>\n",
              "</tr>\n",
              "<tr>\n",
              "  <th>Lead Source_Google</th>                                   <td>    0.3793</td> <td>    0.105</td> <td>    3.596</td> <td> 0.000</td> <td>    0.173</td> <td>    0.586</td>\n",
              "</tr>\n",
              "<tr>\n",
              "  <th>Lead Source_Olark Chat</th>                               <td>    0.6776</td> <td>    0.247</td> <td>    2.746</td> <td> 0.006</td> <td>    0.194</td> <td>    1.161</td>\n",
              "</tr>\n",
              "<tr>\n",
              "  <th>Lead Source_Organic Search</th>                           <td>    0.2284</td> <td>    0.121</td> <td>    1.894</td> <td> 0.058</td> <td>   -0.008</td> <td>    0.465</td>\n",
              "</tr>\n",
              "<tr>\n",
              "  <th>Lead Source_Other Sources</th>                            <td>    0.0673</td> <td>    0.257</td> <td>    0.262</td> <td> 0.794</td> <td>   -0.437</td> <td>    0.572</td>\n",
              "</tr>\n",
              "<tr>\n",
              "  <th>Country_Not mentioned</th>                                <td>    0.4217</td> <td>    0.235</td> <td>    1.792</td> <td> 0.073</td> <td>   -0.040</td> <td>    0.883</td>\n",
              "</tr>\n",
              "<tr>\n",
              "  <th>Country_Other Countries</th>                              <td>   -0.2186</td> <td>    0.197</td> <td>   -1.110</td> <td> 0.267</td> <td>   -0.604</td> <td>    0.167</td>\n",
              "</tr>\n",
              "<tr>\n",
              "  <th>Specialization_Business Administration</th>               <td>   -0.4160</td> <td>    0.227</td> <td>   -1.836</td> <td> 0.066</td> <td>   -0.860</td> <td>    0.028</td>\n",
              "</tr>\n",
              "<tr>\n",
              "  <th>Specialization_E-Business</th>                            <td>   -0.4665</td> <td>    0.451</td> <td>   -1.035</td> <td> 0.300</td> <td>   -1.350</td> <td>    0.417</td>\n",
              "</tr>\n",
              "<tr>\n",
              "  <th>Specialization_E-COMMERCE</th>                            <td>   -0.0691</td> <td>    0.313</td> <td>   -0.220</td> <td> 0.825</td> <td>   -0.683</td> <td>    0.545</td>\n",
              "</tr>\n",
              "<tr>\n",
              "  <th>Specialization_Finance Management</th>                    <td>   -0.8194</td> <td>    0.181</td> <td>   -4.532</td> <td> 0.000</td> <td>   -1.174</td> <td>   -0.465</td>\n",
              "</tr>\n",
              "<tr>\n",
              "  <th>Specialization_Healthcare Management</th>                 <td>   -0.2245</td> <td>    0.308</td> <td>   -0.729</td> <td> 0.466</td> <td>   -0.828</td> <td>    0.379</td>\n",
              "</tr>\n",
              "<tr>\n",
              "  <th>Specialization_Hospitality Management</th>                <td>   -1.4107</td> <td>    0.350</td> <td>   -4.029</td> <td> 0.000</td> <td>   -2.097</td> <td>   -0.724</td>\n",
              "</tr>\n",
              "<tr>\n",
              "  <th>Specialization_Human Resource Management</th>             <td>   -0.4187</td> <td>    0.196</td> <td>   -2.139</td> <td> 0.032</td> <td>   -0.802</td> <td>   -0.035</td>\n",
              "</tr>\n",
              "<tr>\n",
              "  <th>Specialization_IT Projects Management</th>                <td>   -0.1963</td> <td>    0.230</td> <td>   -0.855</td> <td> 0.393</td> <td>   -0.646</td> <td>    0.254</td>\n",
              "</tr>\n",
              "<tr>\n",
              "  <th>Specialization_International Business</th>                <td>   -0.6973</td> <td>    0.296</td> <td>   -2.358</td> <td> 0.018</td> <td>   -1.277</td> <td>   -0.118</td>\n",
              "</tr>\n",
              "<tr>\n",
              "  <th>Specialization_Marketing Management</th>                  <td>   -0.3680</td> <td>    0.196</td> <td>   -1.881</td> <td> 0.060</td> <td>   -0.751</td> <td>    0.015</td>\n",
              "</tr>\n",
              "<tr>\n",
              "  <th>Specialization_Media and Advertising</th>                 <td>   -0.1923</td> <td>    0.269</td> <td>   -0.716</td> <td> 0.474</td> <td>   -0.719</td> <td>    0.334</td>\n",
              "</tr>\n",
              "<tr>\n",
              "  <th>Specialization_Operations Management</th>                 <td>   -0.2866</td> <td>    0.214</td> <td>   -1.341</td> <td> 0.180</td> <td>   -0.705</td> <td>    0.132</td>\n",
              "</tr>\n",
              "<tr>\n",
              "  <th>Specialization_Retail Management</th>                     <td>   -0.7793</td> <td>    0.353</td> <td>   -2.205</td> <td> 0.027</td> <td>   -1.472</td> <td>   -0.087</td>\n",
              "</tr>\n",
              "<tr>\n",
              "  <th>Specialization_Rural and Agribusiness</th>                <td>    0.0877</td> <td>    0.396</td> <td>    0.221</td> <td> 0.825</td> <td>   -0.689</td> <td>    0.864</td>\n",
              "</tr>\n",
              "<tr>\n",
              "  <th>Specialization_Services Excellence</th>                   <td>   -0.6054</td> <td>    0.508</td> <td>   -1.191</td> <td> 0.234</td> <td>   -1.601</td> <td>    0.391</td>\n",
              "</tr>\n",
              "<tr>\n",
              "  <th>Specialization_Supply Chain Management</th>               <td>   -0.3755</td> <td>    0.234</td> <td>   -1.608</td> <td> 0.108</td> <td>   -0.833</td> <td>    0.082</td>\n",
              "</tr>\n",
              "<tr>\n",
              "  <th>Specialization_Travel and Tourism</th>                    <td>   -0.4941</td> <td>    0.274</td> <td>   -1.806</td> <td> 0.071</td> <td>   -1.030</td> <td>    0.042</td>\n",
              "</tr>\n",
              "<tr>\n",
              "  <th>What is your current occupation_Housewife</th>            <td>   20.9499</td> <td> 1.35e+04</td> <td>    0.002</td> <td> 0.999</td> <td>-2.65e+04</td> <td> 2.65e+04</td>\n",
              "</tr>\n",
              "<tr>\n",
              "  <th>What is your current occupation_Other</th>                <td>   -2.2346</td> <td>    0.824</td> <td>   -2.713</td> <td> 0.007</td> <td>   -3.849</td> <td>   -0.620</td>\n",
              "</tr>\n",
              "<tr>\n",
              "  <th>What is your current occupation_Student</th>              <td>   -1.4506</td> <td>    0.300</td> <td>   -4.834</td> <td> 0.000</td> <td>   -2.039</td> <td>   -0.862</td>\n",
              "</tr>\n",
              "<tr>\n",
              "  <th>What is your current occupation_Unemployed</th>           <td>   -1.6788</td> <td>    0.217</td> <td>   -7.740</td> <td> 0.000</td> <td>   -2.104</td> <td>   -1.254</td>\n",
              "</tr>\n",
              "<tr>\n",
              "  <th>What is your current occupation_Working Professional</th> <td>    1.1677</td> <td>    0.279</td> <td>    4.187</td> <td> 0.000</td> <td>    0.621</td> <td>    1.714</td>\n",
              "</tr>\n",
              "<tr>\n",
              "  <th>A free copy of Mastering The Interview_Yes</th>           <td>   -0.0351</td> <td>    0.099</td> <td>   -0.353</td> <td> 0.724</td> <td>   -0.230</td> <td>    0.160</td>\n",
              "</tr>\n",
              "</table>"
            ],
            "text/plain": [
              "<class 'statsmodels.iolib.summary.Summary'>\n",
              "\"\"\"\n",
              "                 Generalized Linear Model Regression Results                  \n",
              "==============================================================================\n",
              "Dep. Variable:              Converted   No. Observations:                 6468\n",
              "Model:                            GLM   Df Residuals:                     6432\n",
              "Model Family:                Binomial   Df Model:                           35\n",
              "Link Function:                  logit   Scale:                          1.0000\n",
              "Method:                          IRLS   Log-Likelihood:                -3038.0\n",
              "Date:                Tue, 10 Aug 2021   Deviance:                       6076.0\n",
              "Time:                        15:41:26   Pearson chi2:                 8.68e+03\n",
              "No. Iterations:                    21                                         \n",
              "Covariance Type:            nonrobust                                         \n",
              "========================================================================================================================\n",
              "                                                           coef    std err          z      P>|z|      [0.025      0.975]\n",
              "------------------------------------------------------------------------------------------------------------------------\n",
              "TotalVisits                                              4.9091      1.977      2.483      0.013       1.034       8.784\n",
              "Total Time Spent on Website                              4.5979      0.157     29.378      0.000       4.291       4.905\n",
              "Page Views Per Visit                                    -0.7220      1.126     -0.641      0.522      -2.930       1.486\n",
              "Lead Origin_Landing Page Submission                     -0.2549      0.109     -2.336      0.019      -0.469      -0.041\n",
              "Lead Origin_Lead Add Form                                3.7187      0.364     10.216      0.000       3.005       4.432\n",
              "Lead Origin_Lead Import                                 -0.4131      0.623     -0.663      0.507      -1.634       0.808\n",
              "Lead Origin_Quick Add Form                              18.9941   4.82e+04      0.000      1.000   -9.44e+04    9.45e+04\n",
              "Lead Source_Google                                       0.3793      0.105      3.596      0.000       0.173       0.586\n",
              "Lead Source_Olark Chat                                   0.6776      0.247      2.746      0.006       0.194       1.161\n",
              "Lead Source_Organic Search                               0.2284      0.121      1.894      0.058      -0.008       0.465\n",
              "Lead Source_Other Sources                                0.0673      0.257      0.262      0.794      -0.437       0.572\n",
              "Country_Not mentioned                                    0.4217      0.235      1.792      0.073      -0.040       0.883\n",
              "Country_Other Countries                                 -0.2186      0.197     -1.110      0.267      -0.604       0.167\n",
              "Specialization_Business Administration                  -0.4160      0.227     -1.836      0.066      -0.860       0.028\n",
              "Specialization_E-Business                               -0.4665      0.451     -1.035      0.300      -1.350       0.417\n",
              "Specialization_E-COMMERCE                               -0.0691      0.313     -0.220      0.825      -0.683       0.545\n",
              "Specialization_Finance Management                       -0.8194      0.181     -4.532      0.000      -1.174      -0.465\n",
              "Specialization_Healthcare Management                    -0.2245      0.308     -0.729      0.466      -0.828       0.379\n",
              "Specialization_Hospitality Management                   -1.4107      0.350     -4.029      0.000      -2.097      -0.724\n",
              "Specialization_Human Resource Management                -0.4187      0.196     -2.139      0.032      -0.802      -0.035\n",
              "Specialization_IT Projects Management                   -0.1963      0.230     -0.855      0.393      -0.646       0.254\n",
              "Specialization_International Business                   -0.6973      0.296     -2.358      0.018      -1.277      -0.118\n",
              "Specialization_Marketing Management                     -0.3680      0.196     -1.881      0.060      -0.751       0.015\n",
              "Specialization_Media and Advertising                    -0.1923      0.269     -0.716      0.474      -0.719       0.334\n",
              "Specialization_Operations Management                    -0.2866      0.214     -1.341      0.180      -0.705       0.132\n",
              "Specialization_Retail Management                        -0.7793      0.353     -2.205      0.027      -1.472      -0.087\n",
              "Specialization_Rural and Agribusiness                    0.0877      0.396      0.221      0.825      -0.689       0.864\n",
              "Specialization_Services Excellence                      -0.6054      0.508     -1.191      0.234      -1.601       0.391\n",
              "Specialization_Supply Chain Management                  -0.3755      0.234     -1.608      0.108      -0.833       0.082\n",
              "Specialization_Travel and Tourism                       -0.4941      0.274     -1.806      0.071      -1.030       0.042\n",
              "What is your current occupation_Housewife               20.9499   1.35e+04      0.002      0.999   -2.65e+04    2.65e+04\n",
              "What is your current occupation_Other                   -2.2346      0.824     -2.713      0.007      -3.849      -0.620\n",
              "What is your current occupation_Student                 -1.4506      0.300     -4.834      0.000      -2.039      -0.862\n",
              "What is your current occupation_Unemployed              -1.6788      0.217     -7.740      0.000      -2.104      -1.254\n",
              "What is your current occupation_Working Professional     1.1677      0.279      4.187      0.000       0.621       1.714\n",
              "A free copy of Mastering The Interview_Yes              -0.0351      0.099     -0.353      0.724      -0.230       0.160\n",
              "========================================================================================================================\n",
              "\"\"\""
            ]
          },
          "metadata": {
            "tags": []
          },
          "execution_count": 222
        }
      ]
    },
    {
      "cell_type": "markdown",
      "metadata": {
        "id": "2rj3aB92rwAX"
      },
      "source": [
        "###RFE - Recursive Feature Elimination"
      ]
    },
    {
      "cell_type": "code",
      "metadata": {
        "id": "LFEcfpeLayzw"
      },
      "source": [
        "from sklearn.feature_selection import RFE\n",
        "from sklearn.linear_model import LinearRegression"
      ],
      "execution_count": 223,
      "outputs": []
    },
    {
      "cell_type": "code",
      "metadata": {
        "id": "Ea2Dg9g7X6nH"
      },
      "source": [
        "# Running RFE with the output number of the variable equal to 18\n",
        "lm = LinearRegression()\n",
        "lm.fit(X_train, y_train)\n",
        "\n",
        "rfe = RFE(lm,18)\n",
        "rfe = rfe.fit(X_train, y_train)"
      ],
      "execution_count": 224,
      "outputs": []
    },
    {
      "cell_type": "code",
      "metadata": {
        "colab": {
          "base_uri": "https://localhost:8080/"
        },
        "id": "D2RQO0V4X6ZC",
        "outputId": "9b65f500-1c0f-47f2-df57-c4f6b7234991"
      },
      "source": [
        "list(zip(X_train.columns,rfe.support_,rfe.ranking_))"
      ],
      "execution_count": 225,
      "outputs": [
        {
          "output_type": "execute_result",
          "data": {
            "text/plain": [
              "[('TotalVisits', True, 1),\n",
              " ('Total Time Spent on Website', True, 1),\n",
              " ('Page Views Per Visit', True, 1),\n",
              " ('Lead Origin_Landing Page Submission', False, 6),\n",
              " ('Lead Origin_Lead Add Form', True, 1),\n",
              " ('Lead Origin_Lead Import', False, 5),\n",
              " ('Lead Origin_Quick Add Form', True, 1),\n",
              " ('Lead Source_Google', True, 1),\n",
              " ('Lead Source_Olark Chat', True, 1),\n",
              " ('Lead Source_Organic Search', True, 1),\n",
              " ('Lead Source_Other Sources', False, 19),\n",
              " ('Country_Not mentioned', True, 1),\n",
              " ('Country_Other Countries', False, 4),\n",
              " ('Specialization_Business Administration', False, 8),\n",
              " ('Specialization_E-Business', False, 7),\n",
              " ('Specialization_E-COMMERCE', False, 17),\n",
              " ('Specialization_Finance Management', True, 1),\n",
              " ('Specialization_Healthcare Management', False, 14),\n",
              " ('Specialization_Hospitality Management', True, 1),\n",
              " ('Specialization_Human Resource Management', False, 9),\n",
              " ('Specialization_IT Projects Management', False, 13),\n",
              " ('Specialization_International Business', True, 1),\n",
              " ('Specialization_Marketing Management', False, 11),\n",
              " ('Specialization_Media and Advertising', False, 16),\n",
              " ('Specialization_Operations Management', False, 12),\n",
              " ('Specialization_Retail Management', True, 1),\n",
              " ('Specialization_Rural and Agribusiness', True, 1),\n",
              " ('Specialization_Services Excellence', True, 1),\n",
              " ('Specialization_Supply Chain Management', False, 10),\n",
              " ('Specialization_Travel and Tourism', False, 3),\n",
              " ('What is your current occupation_Housewife', True, 1),\n",
              " ('What is your current occupation_Other', True, 1),\n",
              " ('What is your current occupation_Student', False, 2),\n",
              " ('What is your current occupation_Unemployed', False, 15),\n",
              " ('What is your current occupation_Working Professional', True, 1),\n",
              " ('A free copy of Mastering The Interview_Yes', False, 18)]"
            ]
          },
          "metadata": {
            "tags": []
          },
          "execution_count": 225
        }
      ]
    },
    {
      "cell_type": "code",
      "metadata": {
        "colab": {
          "base_uri": "https://localhost:8080/"
        },
        "id": "2oEyweFQbkgk",
        "outputId": "683db9ac-1a61-4ece-f6d6-00bfd2a3aff2"
      },
      "source": [
        "#checking supporting colmuns\n",
        "\n",
        "column = X_train.columns[rfe.support_]\n",
        "column"
      ],
      "execution_count": 226,
      "outputs": [
        {
          "output_type": "execute_result",
          "data": {
            "text/plain": [
              "Index(['TotalVisits', 'Total Time Spent on Website', 'Page Views Per Visit',\n",
              "       'Lead Origin_Lead Add Form', 'Lead Origin_Quick Add Form',\n",
              "       'Lead Source_Google', 'Lead Source_Olark Chat',\n",
              "       'Lead Source_Organic Search', 'Country_Not mentioned',\n",
              "       'Specialization_Finance Management',\n",
              "       'Specialization_Hospitality Management',\n",
              "       'Specialization_International Business',\n",
              "       'Specialization_Retail Management',\n",
              "       'Specialization_Rural and Agribusiness',\n",
              "       'Specialization_Services Excellence',\n",
              "       'What is your current occupation_Housewife',\n",
              "       'What is your current occupation_Other',\n",
              "       'What is your current occupation_Working Professional'],\n",
              "      dtype='object')"
            ]
          },
          "metadata": {
            "tags": []
          },
          "execution_count": 226
        }
      ]
    },
    {
      "cell_type": "code",
      "metadata": {
        "colab": {
          "base_uri": "https://localhost:8080/"
        },
        "id": "BC3gz0GIb_yL",
        "outputId": "c1afeb81-cb9b-47f0-8a6e-bf4fa2e8f91c"
      },
      "source": [
        "#checking Non- supporting colmuns\n",
        "\n",
        "X_train.columns[~rfe.support_]"
      ],
      "execution_count": 227,
      "outputs": [
        {
          "output_type": "execute_result",
          "data": {
            "text/plain": [
              "Index(['Lead Origin_Landing Page Submission', 'Lead Origin_Lead Import',\n",
              "       'Lead Source_Other Sources', 'Country_Other Countries',\n",
              "       'Specialization_Business Administration', 'Specialization_E-Business',\n",
              "       'Specialization_E-COMMERCE', 'Specialization_Healthcare Management',\n",
              "       'Specialization_Human Resource Management',\n",
              "       'Specialization_IT Projects Management',\n",
              "       'Specialization_Marketing Management',\n",
              "       'Specialization_Media and Advertising',\n",
              "       'Specialization_Operations Management',\n",
              "       'Specialization_Supply Chain Management',\n",
              "       'Specialization_Travel and Tourism',\n",
              "       'What is your current occupation_Student',\n",
              "       'What is your current occupation_Unemployed',\n",
              "       'A free copy of Mastering The Interview_Yes'],\n",
              "      dtype='object')"
            ]
          },
          "metadata": {
            "tags": []
          },
          "execution_count": 227
        }
      ]
    },
    {
      "cell_type": "code",
      "metadata": {
        "id": "wMVeCw7SmCEV"
      },
      "source": [
        "# Creating X_train dataframe with RFE selected variables\n",
        "X_train = X_train[column]"
      ],
      "execution_count": 228,
      "outputs": []
    },
    {
      "cell_type": "code",
      "metadata": {
        "colab": {
          "base_uri": "https://localhost:8080/",
          "height": 284
        },
        "id": "Teyi6amNnJF0",
        "outputId": "daeb83e1-60b9-4448-d4e5-2ca87233f1ec"
      },
      "source": [
        "# Adding a constant variable to X_train \n",
        "import statsmodels.api as sm  \n",
        "X_train = sm.add_constant(X_train)\n",
        "X_train.head()"
      ],
      "execution_count": 229,
      "outputs": [
        {
          "output_type": "execute_result",
          "data": {
            "text/html": [
              "<div>\n",
              "<style scoped>\n",
              "    .dataframe tbody tr th:only-of-type {\n",
              "        vertical-align: middle;\n",
              "    }\n",
              "\n",
              "    .dataframe tbody tr th {\n",
              "        vertical-align: top;\n",
              "    }\n",
              "\n",
              "    .dataframe thead th {\n",
              "        text-align: right;\n",
              "    }\n",
              "</style>\n",
              "<table border=\"1\" class=\"dataframe\">\n",
              "  <thead>\n",
              "    <tr style=\"text-align: right;\">\n",
              "      <th></th>\n",
              "      <th>const</th>\n",
              "      <th>TotalVisits</th>\n",
              "      <th>Total Time Spent on Website</th>\n",
              "      <th>Page Views Per Visit</th>\n",
              "      <th>Lead Origin_Lead Add Form</th>\n",
              "      <th>Lead Origin_Quick Add Form</th>\n",
              "      <th>Lead Source_Google</th>\n",
              "      <th>Lead Source_Olark Chat</th>\n",
              "      <th>Lead Source_Organic Search</th>\n",
              "      <th>Country_Not mentioned</th>\n",
              "      <th>Specialization_Finance Management</th>\n",
              "      <th>Specialization_Hospitality Management</th>\n",
              "      <th>Specialization_International Business</th>\n",
              "      <th>Specialization_Retail Management</th>\n",
              "      <th>Specialization_Rural and Agribusiness</th>\n",
              "      <th>Specialization_Services Excellence</th>\n",
              "      <th>What is your current occupation_Housewife</th>\n",
              "      <th>What is your current occupation_Other</th>\n",
              "      <th>What is your current occupation_Working Professional</th>\n",
              "    </tr>\n",
              "  </thead>\n",
              "  <tbody>\n",
              "    <tr>\n",
              "      <th>1871</th>\n",
              "      <td>1.0</td>\n",
              "      <td>0.000000</td>\n",
              "      <td>0.000000</td>\n",
              "      <td>0.000000</td>\n",
              "      <td>0</td>\n",
              "      <td>0</td>\n",
              "      <td>0</td>\n",
              "      <td>1</td>\n",
              "      <td>0</td>\n",
              "      <td>1</td>\n",
              "      <td>0</td>\n",
              "      <td>0</td>\n",
              "      <td>0</td>\n",
              "      <td>0</td>\n",
              "      <td>0</td>\n",
              "      <td>0</td>\n",
              "      <td>0</td>\n",
              "      <td>0</td>\n",
              "      <td>0</td>\n",
              "    </tr>\n",
              "    <tr>\n",
              "      <th>6795</th>\n",
              "      <td>1.0</td>\n",
              "      <td>0.015936</td>\n",
              "      <td>0.214349</td>\n",
              "      <td>0.024182</td>\n",
              "      <td>0</td>\n",
              "      <td>0</td>\n",
              "      <td>0</td>\n",
              "      <td>0</td>\n",
              "      <td>0</td>\n",
              "      <td>0</td>\n",
              "      <td>1</td>\n",
              "      <td>0</td>\n",
              "      <td>0</td>\n",
              "      <td>0</td>\n",
              "      <td>0</td>\n",
              "      <td>0</td>\n",
              "      <td>0</td>\n",
              "      <td>0</td>\n",
              "      <td>0</td>\n",
              "    </tr>\n",
              "    <tr>\n",
              "      <th>3516</th>\n",
              "      <td>1.0</td>\n",
              "      <td>0.019920</td>\n",
              "      <td>0.046655</td>\n",
              "      <td>0.045455</td>\n",
              "      <td>0</td>\n",
              "      <td>0</td>\n",
              "      <td>0</td>\n",
              "      <td>1</td>\n",
              "      <td>0</td>\n",
              "      <td>1</td>\n",
              "      <td>1</td>\n",
              "      <td>0</td>\n",
              "      <td>0</td>\n",
              "      <td>0</td>\n",
              "      <td>0</td>\n",
              "      <td>0</td>\n",
              "      <td>0</td>\n",
              "      <td>0</td>\n",
              "      <td>0</td>\n",
              "    </tr>\n",
              "    <tr>\n",
              "      <th>8105</th>\n",
              "      <td>1.0</td>\n",
              "      <td>0.019920</td>\n",
              "      <td>0.541373</td>\n",
              "      <td>0.090909</td>\n",
              "      <td>0</td>\n",
              "      <td>0</td>\n",
              "      <td>1</td>\n",
              "      <td>0</td>\n",
              "      <td>0</td>\n",
              "      <td>0</td>\n",
              "      <td>0</td>\n",
              "      <td>0</td>\n",
              "      <td>0</td>\n",
              "      <td>0</td>\n",
              "      <td>0</td>\n",
              "      <td>1</td>\n",
              "      <td>0</td>\n",
              "      <td>0</td>\n",
              "      <td>0</td>\n",
              "    </tr>\n",
              "    <tr>\n",
              "      <th>3934</th>\n",
              "      <td>1.0</td>\n",
              "      <td>0.000000</td>\n",
              "      <td>0.000000</td>\n",
              "      <td>0.000000</td>\n",
              "      <td>0</td>\n",
              "      <td>0</td>\n",
              "      <td>0</td>\n",
              "      <td>1</td>\n",
              "      <td>0</td>\n",
              "      <td>1</td>\n",
              "      <td>1</td>\n",
              "      <td>0</td>\n",
              "      <td>0</td>\n",
              "      <td>0</td>\n",
              "      <td>0</td>\n",
              "      <td>0</td>\n",
              "      <td>0</td>\n",
              "      <td>0</td>\n",
              "      <td>0</td>\n",
              "    </tr>\n",
              "  </tbody>\n",
              "</table>\n",
              "</div>"
            ],
            "text/plain": [
              "      const  ...  What is your current occupation_Working Professional\n",
              "1871    1.0  ...                                                  0   \n",
              "6795    1.0  ...                                                  0   \n",
              "3516    1.0  ...                                                  0   \n",
              "8105    1.0  ...                                                  0   \n",
              "3934    1.0  ...                                                  0   \n",
              "\n",
              "[5 rows x 19 columns]"
            ]
          },
          "metadata": {
            "tags": []
          },
          "execution_count": 229
        }
      ]
    },
    {
      "cell_type": "code",
      "metadata": {
        "colab": {
          "base_uri": "https://localhost:8080/",
          "height": 551
        },
        "id": "xYlTl7pan2z6",
        "outputId": "45ca99b2-750c-4be6-960f-1bfd18bce4a5"
      },
      "source": [
        "#using GLM(Generalised Linear Models) method further to check summary of Model\n",
        "\n",
        "logm = sm.GLM(y_train, X_train, family = sm.families.Binomial())\n",
        "res = logm.fit()\n",
        "res.summary()"
      ],
      "execution_count": 230,
      "outputs": [
        {
          "output_type": "execute_result",
          "data": {
            "text/html": [
              "<table class=\"simpletable\">\n",
              "<caption>Generalized Linear Model Regression Results</caption>\n",
              "<tr>\n",
              "  <th>Dep. Variable:</th>       <td>Converted</td>    <th>  No. Observations:  </th>  <td>  6468</td> \n",
              "</tr>\n",
              "<tr>\n",
              "  <th>Model:</th>                  <td>GLM</td>       <th>  Df Residuals:      </th>  <td>  6449</td> \n",
              "</tr>\n",
              "<tr>\n",
              "  <th>Model Family:</th>        <td>Binomial</td>     <th>  Df Model:          </th>  <td>    18</td> \n",
              "</tr>\n",
              "<tr>\n",
              "  <th>Link Function:</th>         <td>logit</td>      <th>  Scale:             </th> <td>  1.0000</td>\n",
              "</tr>\n",
              "<tr>\n",
              "  <th>Method:</th>                <td>IRLS</td>       <th>  Log-Likelihood:    </th> <td> -3044.3</td>\n",
              "</tr>\n",
              "<tr>\n",
              "  <th>Date:</th>            <td>Tue, 10 Aug 2021</td> <th>  Deviance:          </th> <td>  6088.5</td>\n",
              "</tr>\n",
              "<tr>\n",
              "  <th>Time:</th>                <td>15:41:26</td>     <th>  Pearson chi2:      </th> <td>8.61e+03</td>\n",
              "</tr>\n",
              "<tr>\n",
              "  <th>No. Iterations:</th>         <td>21</td>        <th>                     </th>     <td> </td>   \n",
              "</tr>\n",
              "<tr>\n",
              "  <th>Covariance Type:</th>     <td>nonrobust</td>    <th>                     </th>     <td> </td>   \n",
              "</tr>\n",
              "</table>\n",
              "<table class=\"simpletable\">\n",
              "<tr>\n",
              "                            <td></td>                              <th>coef</th>     <th>std err</th>      <th>z</th>      <th>P>|z|</th>  <th>[0.025</th>    <th>0.975]</th>  \n",
              "</tr>\n",
              "<tr>\n",
              "  <th>const</th>                                                <td>   -2.2820</td> <td>    0.101</td> <td>  -22.698</td> <td> 0.000</td> <td>   -2.479</td> <td>   -2.085</td>\n",
              "</tr>\n",
              "<tr>\n",
              "  <th>TotalVisits</th>                                          <td>    5.0267</td> <td>    2.016</td> <td>    2.493</td> <td> 0.013</td> <td>    1.075</td> <td>    8.978</td>\n",
              "</tr>\n",
              "<tr>\n",
              "  <th>Total Time Spent on Website</th>                          <td>    4.5996</td> <td>    0.156</td> <td>   29.496</td> <td> 0.000</td> <td>    4.294</td> <td>    4.905</td>\n",
              "</tr>\n",
              "<tr>\n",
              "  <th>Page Views Per Visit</th>                                 <td>   -0.9211</td> <td>    1.124</td> <td>   -0.819</td> <td> 0.413</td> <td>   -3.124</td> <td>    1.282</td>\n",
              "</tr>\n",
              "<tr>\n",
              "  <th>Lead Origin_Lead Add Form</th>                            <td>    4.0221</td> <td>    0.268</td> <td>   15.015</td> <td> 0.000</td> <td>    3.497</td> <td>    4.547</td>\n",
              "</tr>\n",
              "<tr>\n",
              "  <th>Lead Origin_Quick Add Form</th>                           <td>   19.4955</td> <td> 4.82e+04</td> <td>    0.000</td> <td> 1.000</td> <td>-9.44e+04</td> <td> 9.45e+04</td>\n",
              "</tr>\n",
              "<tr>\n",
              "  <th>Lead Source_Google</th>                                   <td>    0.4592</td> <td>    0.082</td> <td>    5.573</td> <td> 0.000</td> <td>    0.298</td> <td>    0.621</td>\n",
              "</tr>\n",
              "<tr>\n",
              "  <th>Lead Source_Olark Chat</th>                               <td>    0.9001</td> <td>    0.213</td> <td>    4.227</td> <td> 0.000</td> <td>    0.483</td> <td>    1.317</td>\n",
              "</tr>\n",
              "<tr>\n",
              "  <th>Lead Source_Organic Search</th>                           <td>    0.2968</td> <td>    0.111</td> <td>    2.674</td> <td> 0.007</td> <td>    0.079</td> <td>    0.514</td>\n",
              "</tr>\n",
              "<tr>\n",
              "  <th>Country_Not mentioned</th>                                <td>    0.3786</td> <td>    0.214</td> <td>    1.768</td> <td> 0.077</td> <td>   -0.041</td> <td>    0.798</td>\n",
              "</tr>\n",
              "<tr>\n",
              "  <th>Specialization_Finance Management</th>                    <td>   -0.3757</td> <td>    0.076</td> <td>   -4.941</td> <td> 0.000</td> <td>   -0.525</td> <td>   -0.227</td>\n",
              "</tr>\n",
              "<tr>\n",
              "  <th>Specialization_Hospitality Management</th>                <td>   -1.0736</td> <td>    0.309</td> <td>   -3.470</td> <td> 0.001</td> <td>   -1.680</td> <td>   -0.467</td>\n",
              "</tr>\n",
              "<tr>\n",
              "  <th>Specialization_International Business</th>                <td>   -0.3805</td> <td>    0.249</td> <td>   -1.528</td> <td> 0.127</td> <td>   -0.869</td> <td>    0.108</td>\n",
              "</tr>\n",
              "<tr>\n",
              "  <th>Specialization_Retail Management</th>                     <td>   -0.4673</td> <td>    0.315</td> <td>   -1.486</td> <td> 0.137</td> <td>   -1.084</td> <td>    0.149</td>\n",
              "</tr>\n",
              "<tr>\n",
              "  <th>Specialization_Rural and Agribusiness</th>                <td>    0.4236</td> <td>    0.361</td> <td>    1.173</td> <td> 0.241</td> <td>   -0.284</td> <td>    1.132</td>\n",
              "</tr>\n",
              "<tr>\n",
              "  <th>Specialization_Services Excellence</th>                   <td>   -0.2837</td> <td>    0.482</td> <td>   -0.588</td> <td> 0.557</td> <td>   -1.229</td> <td>    0.662</td>\n",
              "</tr>\n",
              "<tr>\n",
              "  <th>What is your current occupation_Housewife</th>            <td>   22.5148</td> <td> 1.35e+04</td> <td>    0.002</td> <td> 0.999</td> <td>-2.64e+04</td> <td> 2.65e+04</td>\n",
              "</tr>\n",
              "<tr>\n",
              "  <th>What is your current occupation_Other</th>                <td>   -0.5182</td> <td>    0.794</td> <td>   -0.653</td> <td> 0.514</td> <td>   -2.074</td> <td>    1.038</td>\n",
              "</tr>\n",
              "<tr>\n",
              "  <th>What is your current occupation_Working Professional</th> <td>    2.8341</td> <td>    0.181</td> <td>   15.686</td> <td> 0.000</td> <td>    2.480</td> <td>    3.188</td>\n",
              "</tr>\n",
              "</table>"
            ],
            "text/plain": [
              "<class 'statsmodels.iolib.summary.Summary'>\n",
              "\"\"\"\n",
              "                 Generalized Linear Model Regression Results                  \n",
              "==============================================================================\n",
              "Dep. Variable:              Converted   No. Observations:                 6468\n",
              "Model:                            GLM   Df Residuals:                     6449\n",
              "Model Family:                Binomial   Df Model:                           18\n",
              "Link Function:                  logit   Scale:                          1.0000\n",
              "Method:                          IRLS   Log-Likelihood:                -3044.3\n",
              "Date:                Tue, 10 Aug 2021   Deviance:                       6088.5\n",
              "Time:                        15:41:26   Pearson chi2:                 8.61e+03\n",
              "No. Iterations:                    21                                         \n",
              "Covariance Type:            nonrobust                                         \n",
              "========================================================================================================================\n",
              "                                                           coef    std err          z      P>|z|      [0.025      0.975]\n",
              "------------------------------------------------------------------------------------------------------------------------\n",
              "const                                                   -2.2820      0.101    -22.698      0.000      -2.479      -2.085\n",
              "TotalVisits                                              5.0267      2.016      2.493      0.013       1.075       8.978\n",
              "Total Time Spent on Website                              4.5996      0.156     29.496      0.000       4.294       4.905\n",
              "Page Views Per Visit                                    -0.9211      1.124     -0.819      0.413      -3.124       1.282\n",
              "Lead Origin_Lead Add Form                                4.0221      0.268     15.015      0.000       3.497       4.547\n",
              "Lead Origin_Quick Add Form                              19.4955   4.82e+04      0.000      1.000   -9.44e+04    9.45e+04\n",
              "Lead Source_Google                                       0.4592      0.082      5.573      0.000       0.298       0.621\n",
              "Lead Source_Olark Chat                                   0.9001      0.213      4.227      0.000       0.483       1.317\n",
              "Lead Source_Organic Search                               0.2968      0.111      2.674      0.007       0.079       0.514\n",
              "Country_Not mentioned                                    0.3786      0.214      1.768      0.077      -0.041       0.798\n",
              "Specialization_Finance Management                       -0.3757      0.076     -4.941      0.000      -0.525      -0.227\n",
              "Specialization_Hospitality Management                   -1.0736      0.309     -3.470      0.001      -1.680      -0.467\n",
              "Specialization_International Business                   -0.3805      0.249     -1.528      0.127      -0.869       0.108\n",
              "Specialization_Retail Management                        -0.4673      0.315     -1.486      0.137      -1.084       0.149\n",
              "Specialization_Rural and Agribusiness                    0.4236      0.361      1.173      0.241      -0.284       1.132\n",
              "Specialization_Services Excellence                      -0.2837      0.482     -0.588      0.557      -1.229       0.662\n",
              "What is your current occupation_Housewife               22.5148   1.35e+04      0.002      0.999   -2.64e+04    2.65e+04\n",
              "What is your current occupation_Other                   -0.5182      0.794     -0.653      0.514      -2.074       1.038\n",
              "What is your current occupation_Working Professional     2.8341      0.181     15.686      0.000       2.480       3.188\n",
              "========================================================================================================================\n",
              "\"\"\""
            ]
          },
          "metadata": {
            "tags": []
          },
          "execution_count": 230
        }
      ]
    },
    {
      "cell_type": "code",
      "metadata": {
        "id": "UoavwER1oQeU"
      },
      "source": [
        "#dropping constant variable\n",
        "\n",
        "X_train = X_train.drop(['const'], axis=1)"
      ],
      "execution_count": 231,
      "outputs": []
    },
    {
      "cell_type": "code",
      "metadata": {
        "colab": {
          "base_uri": "https://localhost:8080/",
          "height": 587
        },
        "id": "I7NWQIU1qSSU",
        "outputId": "66cb6d24-9bdb-43d0-d7b6-f8cb585447ca"
      },
      "source": [
        "# Make a VIF dataframe for all the variables present\n",
        "vif = pd.DataFrame()\n",
        "vif['Features'] = X_train.columns\n",
        "vif['VIF'] = [variance_inflation_factor(X_train.values, i) for i in range(X_train.shape[1])]\n",
        "vif['VIF'] = round(vif['VIF'], 2)\n",
        "vif = vif.sort_values(by = \"VIF\", ascending = False)\n",
        "vif"
      ],
      "execution_count": 232,
      "outputs": [
        {
          "output_type": "execute_result",
          "data": {
            "text/html": [
              "<div>\n",
              "<style scoped>\n",
              "    .dataframe tbody tr th:only-of-type {\n",
              "        vertical-align: middle;\n",
              "    }\n",
              "\n",
              "    .dataframe tbody tr th {\n",
              "        vertical-align: top;\n",
              "    }\n",
              "\n",
              "    .dataframe thead th {\n",
              "        text-align: right;\n",
              "    }\n",
              "</style>\n",
              "<table border=\"1\" class=\"dataframe\">\n",
              "  <thead>\n",
              "    <tr style=\"text-align: right;\">\n",
              "      <th></th>\n",
              "      <th>Features</th>\n",
              "      <th>VIF</th>\n",
              "    </tr>\n",
              "  </thead>\n",
              "  <tbody>\n",
              "    <tr>\n",
              "      <th>8</th>\n",
              "      <td>Country_Not mentioned</td>\n",
              "      <td>11.06</td>\n",
              "    </tr>\n",
              "    <tr>\n",
              "      <th>6</th>\n",
              "      <td>Lead Source_Olark Chat</td>\n",
              "      <td>7.78</td>\n",
              "    </tr>\n",
              "    <tr>\n",
              "      <th>3</th>\n",
              "      <td>Lead Origin_Lead Add Form</td>\n",
              "      <td>3.99</td>\n",
              "    </tr>\n",
              "    <tr>\n",
              "      <th>2</th>\n",
              "      <td>Page Views Per Visit</td>\n",
              "      <td>3.01</td>\n",
              "    </tr>\n",
              "    <tr>\n",
              "      <th>9</th>\n",
              "      <td>Specialization_Finance Management</td>\n",
              "      <td>2.38</td>\n",
              "    </tr>\n",
              "    <tr>\n",
              "      <th>1</th>\n",
              "      <td>Total Time Spent on Website</td>\n",
              "      <td>1.95</td>\n",
              "    </tr>\n",
              "    <tr>\n",
              "      <th>5</th>\n",
              "      <td>Lead Source_Google</td>\n",
              "      <td>1.88</td>\n",
              "    </tr>\n",
              "    <tr>\n",
              "      <th>0</th>\n",
              "      <td>TotalVisits</td>\n",
              "      <td>1.85</td>\n",
              "    </tr>\n",
              "    <tr>\n",
              "      <th>7</th>\n",
              "      <td>Lead Source_Organic Search</td>\n",
              "      <td>1.46</td>\n",
              "    </tr>\n",
              "    <tr>\n",
              "      <th>17</th>\n",
              "      <td>What is your current occupation_Working Profes...</td>\n",
              "      <td>1.17</td>\n",
              "    </tr>\n",
              "    <tr>\n",
              "      <th>10</th>\n",
              "      <td>Specialization_Hospitality Management</td>\n",
              "      <td>1.03</td>\n",
              "    </tr>\n",
              "    <tr>\n",
              "      <th>11</th>\n",
              "      <td>Specialization_International Business</td>\n",
              "      <td>1.03</td>\n",
              "    </tr>\n",
              "    <tr>\n",
              "      <th>12</th>\n",
              "      <td>Specialization_Retail Management</td>\n",
              "      <td>1.02</td>\n",
              "    </tr>\n",
              "    <tr>\n",
              "      <th>13</th>\n",
              "      <td>Specialization_Rural and Agribusiness</td>\n",
              "      <td>1.02</td>\n",
              "    </tr>\n",
              "    <tr>\n",
              "      <th>4</th>\n",
              "      <td>Lead Origin_Quick Add Form</td>\n",
              "      <td>1.01</td>\n",
              "    </tr>\n",
              "    <tr>\n",
              "      <th>14</th>\n",
              "      <td>Specialization_Services Excellence</td>\n",
              "      <td>1.01</td>\n",
              "    </tr>\n",
              "    <tr>\n",
              "      <th>15</th>\n",
              "      <td>What is your current occupation_Housewife</td>\n",
              "      <td>1.01</td>\n",
              "    </tr>\n",
              "    <tr>\n",
              "      <th>16</th>\n",
              "      <td>What is your current occupation_Other</td>\n",
              "      <td>1.00</td>\n",
              "    </tr>\n",
              "  </tbody>\n",
              "</table>\n",
              "</div>"
            ],
            "text/plain": [
              "                                             Features    VIF\n",
              "8                               Country_Not mentioned  11.06\n",
              "6                              Lead Source_Olark Chat   7.78\n",
              "3                           Lead Origin_Lead Add Form   3.99\n",
              "2                                Page Views Per Visit   3.01\n",
              "9                   Specialization_Finance Management   2.38\n",
              "1                         Total Time Spent on Website   1.95\n",
              "5                                  Lead Source_Google   1.88\n",
              "0                                         TotalVisits   1.85\n",
              "7                          Lead Source_Organic Search   1.46\n",
              "17  What is your current occupation_Working Profes...   1.17\n",
              "10              Specialization_Hospitality Management   1.03\n",
              "11              Specialization_International Business   1.03\n",
              "12                   Specialization_Retail Management   1.02\n",
              "13              Specialization_Rural and Agribusiness   1.02\n",
              "4                          Lead Origin_Quick Add Form   1.01\n",
              "14                 Specialization_Services Excellence   1.01\n",
              "15          What is your current occupation_Housewife   1.01\n",
              "16              What is your current occupation_Other   1.00"
            ]
          },
          "metadata": {
            "tags": []
          },
          "execution_count": 232
        }
      ]
    },
    {
      "cell_type": "code",
      "metadata": {
        "id": "3U7FPa2xruRr"
      },
      "source": [
        "# dropping the variable with high p-value\n",
        "X_train = X_train.drop(['Lead Origin_Quick Add Form'], axis = 1)"
      ],
      "execution_count": 233,
      "outputs": []
    },
    {
      "cell_type": "markdown",
      "metadata": {
        "id": "rz-8500esH8V"
      },
      "source": [
        "###Iteration 1"
      ]
    },
    {
      "cell_type": "code",
      "metadata": {
        "id": "yMEloyu-sMat"
      },
      "source": [
        "X_train1 = sm.add_constant(X_train)"
      ],
      "execution_count": 234,
      "outputs": []
    },
    {
      "cell_type": "code",
      "metadata": {
        "colab": {
          "base_uri": "https://localhost:8080/",
          "height": 533
        },
        "id": "jLghfTkpsjz7",
        "outputId": "6b432fcf-d8c9-49e0-b331-9d57e6d3005c"
      },
      "source": [
        "res = sm.GLM(y_train, X_train1, family = sm.families.Binomial()).fit()\n",
        "res.summary()"
      ],
      "execution_count": 235,
      "outputs": [
        {
          "output_type": "execute_result",
          "data": {
            "text/html": [
              "<table class=\"simpletable\">\n",
              "<caption>Generalized Linear Model Regression Results</caption>\n",
              "<tr>\n",
              "  <th>Dep. Variable:</th>       <td>Converted</td>    <th>  No. Observations:  </th>  <td>  6468</td> \n",
              "</tr>\n",
              "<tr>\n",
              "  <th>Model:</th>                  <td>GLM</td>       <th>  Df Residuals:      </th>  <td>  6450</td> \n",
              "</tr>\n",
              "<tr>\n",
              "  <th>Model Family:</th>        <td>Binomial</td>     <th>  Df Model:          </th>  <td>    17</td> \n",
              "</tr>\n",
              "<tr>\n",
              "  <th>Link Function:</th>         <td>logit</td>      <th>  Scale:             </th> <td>  1.0000</td>\n",
              "</tr>\n",
              "<tr>\n",
              "  <th>Method:</th>                <td>IRLS</td>       <th>  Log-Likelihood:    </th> <td> -3044.3</td>\n",
              "</tr>\n",
              "<tr>\n",
              "  <th>Date:</th>            <td>Tue, 10 Aug 2021</td> <th>  Deviance:          </th> <td>  6088.6</td>\n",
              "</tr>\n",
              "<tr>\n",
              "  <th>Time:</th>                <td>15:41:26</td>     <th>  Pearson chi2:      </th> <td>8.61e+03</td>\n",
              "</tr>\n",
              "<tr>\n",
              "  <th>No. Iterations:</th>         <td>21</td>        <th>                     </th>     <td> </td>   \n",
              "</tr>\n",
              "<tr>\n",
              "  <th>Covariance Type:</th>     <td>nonrobust</td>    <th>                     </th>     <td> </td>   \n",
              "</tr>\n",
              "</table>\n",
              "<table class=\"simpletable\">\n",
              "<tr>\n",
              "                            <td></td>                              <th>coef</th>     <th>std err</th>      <th>z</th>      <th>P>|z|</th>  <th>[0.025</th>    <th>0.975]</th>  \n",
              "</tr>\n",
              "<tr>\n",
              "  <th>const</th>                                                <td>   -2.2823</td> <td>    0.101</td> <td>  -22.701</td> <td> 0.000</td> <td>   -2.479</td> <td>   -2.085</td>\n",
              "</tr>\n",
              "<tr>\n",
              "  <th>TotalVisits</th>                                          <td>    5.0276</td> <td>    2.016</td> <td>    2.493</td> <td> 0.013</td> <td>    1.076</td> <td>    8.980</td>\n",
              "</tr>\n",
              "<tr>\n",
              "  <th>Total Time Spent on Website</th>                          <td>    4.6005</td> <td>    0.156</td> <td>   29.512</td> <td> 0.000</td> <td>    4.295</td> <td>    4.906</td>\n",
              "</tr>\n",
              "<tr>\n",
              "  <th>Page Views Per Visit</th>                                 <td>   -0.9218</td> <td>    1.124</td> <td>   -0.820</td> <td> 0.412</td> <td>   -3.125</td> <td>    1.282</td>\n",
              "</tr>\n",
              "<tr>\n",
              "  <th>Lead Origin_Lead Add Form</th>                            <td>    4.0203</td> <td>    0.268</td> <td>   15.017</td> <td> 0.000</td> <td>    3.496</td> <td>    4.545</td>\n",
              "</tr>\n",
              "<tr>\n",
              "  <th>Lead Source_Google</th>                                   <td>    0.4594</td> <td>    0.082</td> <td>    5.576</td> <td> 0.000</td> <td>    0.298</td> <td>    0.621</td>\n",
              "</tr>\n",
              "<tr>\n",
              "  <th>Lead Source_Olark Chat</th>                               <td>    0.8985</td> <td>    0.213</td> <td>    4.222</td> <td> 0.000</td> <td>    0.481</td> <td>    1.316</td>\n",
              "</tr>\n",
              "<tr>\n",
              "  <th>Lead Source_Organic Search</th>                           <td>    0.2969</td> <td>    0.111</td> <td>    2.675</td> <td> 0.007</td> <td>    0.079</td> <td>    0.514</td>\n",
              "</tr>\n",
              "<tr>\n",
              "  <th>Country_Not mentioned</th>                                <td>    0.3808</td> <td>    0.214</td> <td>    1.780</td> <td> 0.075</td> <td>   -0.039</td> <td>    0.800</td>\n",
              "</tr>\n",
              "<tr>\n",
              "  <th>Specialization_Finance Management</th>                    <td>   -0.3760</td> <td>    0.076</td> <td>   -4.945</td> <td> 0.000</td> <td>   -0.525</td> <td>   -0.227</td>\n",
              "</tr>\n",
              "<tr>\n",
              "  <th>Specialization_Hospitality Management</th>                <td>   -1.0739</td> <td>    0.309</td> <td>   -3.470</td> <td> 0.001</td> <td>   -1.680</td> <td>   -0.467</td>\n",
              "</tr>\n",
              "<tr>\n",
              "  <th>Specialization_International Business</th>                <td>   -0.3807</td> <td>    0.249</td> <td>   -1.528</td> <td> 0.126</td> <td>   -0.869</td> <td>    0.108</td>\n",
              "</tr>\n",
              "<tr>\n",
              "  <th>Specialization_Retail Management</th>                     <td>   -0.4674</td> <td>    0.315</td> <td>   -1.486</td> <td> 0.137</td> <td>   -1.084</td> <td>    0.149</td>\n",
              "</tr>\n",
              "<tr>\n",
              "  <th>Specialization_Rural and Agribusiness</th>                <td>    0.4235</td> <td>    0.361</td> <td>    1.172</td> <td> 0.241</td> <td>   -0.284</td> <td>    1.131</td>\n",
              "</tr>\n",
              "<tr>\n",
              "  <th>Specialization_Services Excellence</th>                   <td>   -0.2837</td> <td>    0.482</td> <td>   -0.588</td> <td> 0.557</td> <td>   -1.229</td> <td>    0.662</td>\n",
              "</tr>\n",
              "<tr>\n",
              "  <th>What is your current occupation_Housewife</th>            <td>   22.5149</td> <td> 1.35e+04</td> <td>    0.002</td> <td> 0.999</td> <td>-2.64e+04</td> <td> 2.65e+04</td>\n",
              "</tr>\n",
              "<tr>\n",
              "  <th>What is your current occupation_Other</th>                <td>   -0.5184</td> <td>    0.794</td> <td>   -0.653</td> <td> 0.514</td> <td>   -2.074</td> <td>    1.038</td>\n",
              "</tr>\n",
              "<tr>\n",
              "  <th>What is your current occupation_Working Professional</th> <td>    2.8341</td> <td>    0.181</td> <td>   15.686</td> <td> 0.000</td> <td>    2.480</td> <td>    3.188</td>\n",
              "</tr>\n",
              "</table>"
            ],
            "text/plain": [
              "<class 'statsmodels.iolib.summary.Summary'>\n",
              "\"\"\"\n",
              "                 Generalized Linear Model Regression Results                  \n",
              "==============================================================================\n",
              "Dep. Variable:              Converted   No. Observations:                 6468\n",
              "Model:                            GLM   Df Residuals:                     6450\n",
              "Model Family:                Binomial   Df Model:                           17\n",
              "Link Function:                  logit   Scale:                          1.0000\n",
              "Method:                          IRLS   Log-Likelihood:                -3044.3\n",
              "Date:                Tue, 10 Aug 2021   Deviance:                       6088.6\n",
              "Time:                        15:41:26   Pearson chi2:                 8.61e+03\n",
              "No. Iterations:                    21                                         \n",
              "Covariance Type:            nonrobust                                         \n",
              "========================================================================================================================\n",
              "                                                           coef    std err          z      P>|z|      [0.025      0.975]\n",
              "------------------------------------------------------------------------------------------------------------------------\n",
              "const                                                   -2.2823      0.101    -22.701      0.000      -2.479      -2.085\n",
              "TotalVisits                                              5.0276      2.016      2.493      0.013       1.076       8.980\n",
              "Total Time Spent on Website                              4.6005      0.156     29.512      0.000       4.295       4.906\n",
              "Page Views Per Visit                                    -0.9218      1.124     -0.820      0.412      -3.125       1.282\n",
              "Lead Origin_Lead Add Form                                4.0203      0.268     15.017      0.000       3.496       4.545\n",
              "Lead Source_Google                                       0.4594      0.082      5.576      0.000       0.298       0.621\n",
              "Lead Source_Olark Chat                                   0.8985      0.213      4.222      0.000       0.481       1.316\n",
              "Lead Source_Organic Search                               0.2969      0.111      2.675      0.007       0.079       0.514\n",
              "Country_Not mentioned                                    0.3808      0.214      1.780      0.075      -0.039       0.800\n",
              "Specialization_Finance Management                       -0.3760      0.076     -4.945      0.000      -0.525      -0.227\n",
              "Specialization_Hospitality Management                   -1.0739      0.309     -3.470      0.001      -1.680      -0.467\n",
              "Specialization_International Business                   -0.3807      0.249     -1.528      0.126      -0.869       0.108\n",
              "Specialization_Retail Management                        -0.4674      0.315     -1.486      0.137      -1.084       0.149\n",
              "Specialization_Rural and Agribusiness                    0.4235      0.361      1.172      0.241      -0.284       1.131\n",
              "Specialization_Services Excellence                      -0.2837      0.482     -0.588      0.557      -1.229       0.662\n",
              "What is your current occupation_Housewife               22.5149   1.35e+04      0.002      0.999   -2.64e+04    2.65e+04\n",
              "What is your current occupation_Other                   -0.5184      0.794     -0.653      0.514      -2.074       1.038\n",
              "What is your current occupation_Working Professional     2.8341      0.181     15.686      0.000       2.480       3.188\n",
              "========================================================================================================================\n",
              "\"\"\""
            ]
          },
          "metadata": {
            "tags": []
          },
          "execution_count": 235
        }
      ]
    },
    {
      "cell_type": "code",
      "metadata": {
        "id": "aUv4tHR8xzT8"
      },
      "source": [
        "X_train1 = X_train1.drop(['const'], axis=1)"
      ],
      "execution_count": 236,
      "outputs": []
    },
    {
      "cell_type": "code",
      "metadata": {
        "colab": {
          "base_uri": "https://localhost:8080/",
          "height": 557
        },
        "id": "fD1slJdWx4g1",
        "outputId": "fa07d67e-6802-4637-80aa-8e4fc2231006"
      },
      "source": [
        "# Make a VIF dataframe for all the variables present\n",
        "vif = pd.DataFrame()\n",
        "vif['Features'] = X_train1.columns\n",
        "vif['VIF'] = [variance_inflation_factor(X_train1.values, i) for i in range(X_train1.shape[1])]\n",
        "vif['VIF'] = round(vif['VIF'], 2)\n",
        "vif = vif.sort_values(by = \"VIF\", ascending = False)\n",
        "vif"
      ],
      "execution_count": 237,
      "outputs": [
        {
          "output_type": "execute_result",
          "data": {
            "text/html": [
              "<div>\n",
              "<style scoped>\n",
              "    .dataframe tbody tr th:only-of-type {\n",
              "        vertical-align: middle;\n",
              "    }\n",
              "\n",
              "    .dataframe tbody tr th {\n",
              "        vertical-align: top;\n",
              "    }\n",
              "\n",
              "    .dataframe thead th {\n",
              "        text-align: right;\n",
              "    }\n",
              "</style>\n",
              "<table border=\"1\" class=\"dataframe\">\n",
              "  <thead>\n",
              "    <tr style=\"text-align: right;\">\n",
              "      <th></th>\n",
              "      <th>Features</th>\n",
              "      <th>VIF</th>\n",
              "    </tr>\n",
              "  </thead>\n",
              "  <tbody>\n",
              "    <tr>\n",
              "      <th>7</th>\n",
              "      <td>Country_Not mentioned</td>\n",
              "      <td>10.98</td>\n",
              "    </tr>\n",
              "    <tr>\n",
              "      <th>5</th>\n",
              "      <td>Lead Source_Olark Chat</td>\n",
              "      <td>7.74</td>\n",
              "    </tr>\n",
              "    <tr>\n",
              "      <th>3</th>\n",
              "      <td>Lead Origin_Lead Add Form</td>\n",
              "      <td>3.97</td>\n",
              "    </tr>\n",
              "    <tr>\n",
              "      <th>2</th>\n",
              "      <td>Page Views Per Visit</td>\n",
              "      <td>3.00</td>\n",
              "    </tr>\n",
              "    <tr>\n",
              "      <th>8</th>\n",
              "      <td>Specialization_Finance Management</td>\n",
              "      <td>2.37</td>\n",
              "    </tr>\n",
              "    <tr>\n",
              "      <th>1</th>\n",
              "      <td>Total Time Spent on Website</td>\n",
              "      <td>1.94</td>\n",
              "    </tr>\n",
              "    <tr>\n",
              "      <th>4</th>\n",
              "      <td>Lead Source_Google</td>\n",
              "      <td>1.87</td>\n",
              "    </tr>\n",
              "    <tr>\n",
              "      <th>0</th>\n",
              "      <td>TotalVisits</td>\n",
              "      <td>1.85</td>\n",
              "    </tr>\n",
              "    <tr>\n",
              "      <th>6</th>\n",
              "      <td>Lead Source_Organic Search</td>\n",
              "      <td>1.46</td>\n",
              "    </tr>\n",
              "    <tr>\n",
              "      <th>16</th>\n",
              "      <td>What is your current occupation_Working Profes...</td>\n",
              "      <td>1.17</td>\n",
              "    </tr>\n",
              "    <tr>\n",
              "      <th>9</th>\n",
              "      <td>Specialization_Hospitality Management</td>\n",
              "      <td>1.03</td>\n",
              "    </tr>\n",
              "    <tr>\n",
              "      <th>10</th>\n",
              "      <td>Specialization_International Business</td>\n",
              "      <td>1.03</td>\n",
              "    </tr>\n",
              "    <tr>\n",
              "      <th>11</th>\n",
              "      <td>Specialization_Retail Management</td>\n",
              "      <td>1.02</td>\n",
              "    </tr>\n",
              "    <tr>\n",
              "      <th>12</th>\n",
              "      <td>Specialization_Rural and Agribusiness</td>\n",
              "      <td>1.02</td>\n",
              "    </tr>\n",
              "    <tr>\n",
              "      <th>13</th>\n",
              "      <td>Specialization_Services Excellence</td>\n",
              "      <td>1.01</td>\n",
              "    </tr>\n",
              "    <tr>\n",
              "      <th>14</th>\n",
              "      <td>What is your current occupation_Housewife</td>\n",
              "      <td>1.01</td>\n",
              "    </tr>\n",
              "    <tr>\n",
              "      <th>15</th>\n",
              "      <td>What is your current occupation_Other</td>\n",
              "      <td>1.00</td>\n",
              "    </tr>\n",
              "  </tbody>\n",
              "</table>\n",
              "</div>"
            ],
            "text/plain": [
              "                                             Features    VIF\n",
              "7                               Country_Not mentioned  10.98\n",
              "5                              Lead Source_Olark Chat   7.74\n",
              "3                           Lead Origin_Lead Add Form   3.97\n",
              "2                                Page Views Per Visit   3.00\n",
              "8                   Specialization_Finance Management   2.37\n",
              "1                         Total Time Spent on Website   1.94\n",
              "4                                  Lead Source_Google   1.87\n",
              "0                                         TotalVisits   1.85\n",
              "6                          Lead Source_Organic Search   1.46\n",
              "16  What is your current occupation_Working Profes...   1.17\n",
              "9               Specialization_Hospitality Management   1.03\n",
              "10              Specialization_International Business   1.03\n",
              "11                   Specialization_Retail Management   1.02\n",
              "12              Specialization_Rural and Agribusiness   1.02\n",
              "13                 Specialization_Services Excellence   1.01\n",
              "14          What is your current occupation_Housewife   1.01\n",
              "15              What is your current occupation_Other   1.00"
            ]
          },
          "metadata": {
            "tags": []
          },
          "execution_count": 237
        }
      ]
    },
    {
      "cell_type": "code",
      "metadata": {
        "id": "1hO1tGeZysai"
      },
      "source": [
        "X_train1 = X_train1.drop(['Country_Not mentioned'], axis = 1)"
      ],
      "execution_count": 238,
      "outputs": []
    },
    {
      "cell_type": "markdown",
      "metadata": {
        "id": "wbZOAAt2yyAp"
      },
      "source": [
        "###Iteration 2:"
      ]
    },
    {
      "cell_type": "code",
      "metadata": {
        "id": "PJN9dwwzy1Nb"
      },
      "source": [
        "X_train2 = sm.add_constant(X_train1)"
      ],
      "execution_count": 239,
      "outputs": []
    },
    {
      "cell_type": "code",
      "metadata": {
        "colab": {
          "base_uri": "https://localhost:8080/",
          "height": 515
        },
        "id": "thuv6VaYzUhK",
        "outputId": "422c0b41-0b33-4fee-fa74-05ed824862de"
      },
      "source": [
        "res = sm.GLM(y_train, X_train2, family = sm.families.Binomial()).fit()\n",
        "res.summary()"
      ],
      "execution_count": 240,
      "outputs": [
        {
          "output_type": "execute_result",
          "data": {
            "text/html": [
              "<table class=\"simpletable\">\n",
              "<caption>Generalized Linear Model Regression Results</caption>\n",
              "<tr>\n",
              "  <th>Dep. Variable:</th>       <td>Converted</td>    <th>  No. Observations:  </th>  <td>  6468</td> \n",
              "</tr>\n",
              "<tr>\n",
              "  <th>Model:</th>                  <td>GLM</td>       <th>  Df Residuals:      </th>  <td>  6451</td> \n",
              "</tr>\n",
              "<tr>\n",
              "  <th>Model Family:</th>        <td>Binomial</td>     <th>  Df Model:          </th>  <td>    16</td> \n",
              "</tr>\n",
              "<tr>\n",
              "  <th>Link Function:</th>         <td>logit</td>      <th>  Scale:             </th> <td>  1.0000</td>\n",
              "</tr>\n",
              "<tr>\n",
              "  <th>Method:</th>                <td>IRLS</td>       <th>  Log-Likelihood:    </th> <td> -3045.9</td>\n",
              "</tr>\n",
              "<tr>\n",
              "  <th>Date:</th>            <td>Tue, 10 Aug 2021</td> <th>  Deviance:          </th> <td>  6091.7</td>\n",
              "</tr>\n",
              "<tr>\n",
              "  <th>Time:</th>                <td>15:41:27</td>     <th>  Pearson chi2:      </th> <td>8.55e+03</td>\n",
              "</tr>\n",
              "<tr>\n",
              "  <th>No. Iterations:</th>         <td>21</td>        <th>                     </th>     <td> </td>   \n",
              "</tr>\n",
              "<tr>\n",
              "  <th>Covariance Type:</th>     <td>nonrobust</td>    <th>                     </th>     <td> </td>   \n",
              "</tr>\n",
              "</table>\n",
              "<table class=\"simpletable\">\n",
              "<tr>\n",
              "                            <td></td>                              <th>coef</th>     <th>std err</th>      <th>z</th>      <th>P>|z|</th>  <th>[0.025</th>    <th>0.975]</th>  \n",
              "</tr>\n",
              "<tr>\n",
              "  <th>const</th>                                                <td>   -2.2586</td> <td>    0.100</td> <td>  -22.686</td> <td> 0.000</td> <td>   -2.454</td> <td>   -2.063</td>\n",
              "</tr>\n",
              "<tr>\n",
              "  <th>TotalVisits</th>                                          <td>    4.8200</td> <td>    1.960</td> <td>    2.459</td> <td> 0.014</td> <td>    0.978</td> <td>    8.662</td>\n",
              "</tr>\n",
              "<tr>\n",
              "  <th>Total Time Spent on Website</th>                          <td>    4.5635</td> <td>    0.154</td> <td>   29.594</td> <td> 0.000</td> <td>    4.261</td> <td>    4.866</td>\n",
              "</tr>\n",
              "<tr>\n",
              "  <th>Page Views Per Visit</th>                                 <td>   -1.0124</td> <td>    1.123</td> <td>   -0.901</td> <td> 0.367</td> <td>   -3.214</td> <td>    1.189</td>\n",
              "</tr>\n",
              "<tr>\n",
              "  <th>Lead Origin_Lead Add Form</th>                            <td>    4.3597</td> <td>    0.190</td> <td>   22.965</td> <td> 0.000</td> <td>    3.988</td> <td>    4.732</td>\n",
              "</tr>\n",
              "<tr>\n",
              "  <th>Lead Source_Google</th>                                   <td>    0.4495</td> <td>    0.082</td> <td>    5.480</td> <td> 0.000</td> <td>    0.289</td> <td>    0.610</td>\n",
              "</tr>\n",
              "<tr>\n",
              "  <th>Lead Source_Olark Chat</th>                               <td>    1.2133</td> <td>    0.121</td> <td>   10.032</td> <td> 0.000</td> <td>    0.976</td> <td>    1.450</td>\n",
              "</tr>\n",
              "<tr>\n",
              "  <th>Lead Source_Organic Search</th>                           <td>    0.2911</td> <td>    0.111</td> <td>    2.629</td> <td> 0.009</td> <td>    0.074</td> <td>    0.508</td>\n",
              "</tr>\n",
              "<tr>\n",
              "  <th>Specialization_Finance Management</th>                    <td>   -0.3548</td> <td>    0.075</td> <td>   -4.734</td> <td> 0.000</td> <td>   -0.502</td> <td>   -0.208</td>\n",
              "</tr>\n",
              "<tr>\n",
              "  <th>Specialization_Hospitality Management</th>                <td>   -1.0625</td> <td>    0.309</td> <td>   -3.440</td> <td> 0.001</td> <td>   -1.668</td> <td>   -0.457</td>\n",
              "</tr>\n",
              "<tr>\n",
              "  <th>Specialization_International Business</th>                <td>   -0.3749</td> <td>    0.248</td> <td>   -1.509</td> <td> 0.131</td> <td>   -0.862</td> <td>    0.112</td>\n",
              "</tr>\n",
              "<tr>\n",
              "  <th>Specialization_Retail Management</th>                     <td>   -0.4681</td> <td>    0.314</td> <td>   -1.489</td> <td> 0.136</td> <td>   -1.084</td> <td>    0.148</td>\n",
              "</tr>\n",
              "<tr>\n",
              "  <th>Specialization_Rural and Agribusiness</th>                <td>    0.4300</td> <td>    0.360</td> <td>    1.193</td> <td> 0.233</td> <td>   -0.276</td> <td>    1.136</td>\n",
              "</tr>\n",
              "<tr>\n",
              "  <th>Specialization_Services Excellence</th>                   <td>   -0.2841</td> <td>    0.482</td> <td>   -0.590</td> <td> 0.555</td> <td>   -1.228</td> <td>    0.660</td>\n",
              "</tr>\n",
              "<tr>\n",
              "  <th>What is your current occupation_Housewife</th>            <td>   22.4979</td> <td> 1.35e+04</td> <td>    0.002</td> <td> 0.999</td> <td>-2.64e+04</td> <td> 2.64e+04</td>\n",
              "</tr>\n",
              "<tr>\n",
              "  <th>What is your current occupation_Other</th>                <td>   -0.5122</td> <td>    0.792</td> <td>   -0.646</td> <td> 0.518</td> <td>   -2.065</td> <td>    1.041</td>\n",
              "</tr>\n",
              "<tr>\n",
              "  <th>What is your current occupation_Working Professional</th> <td>    2.8378</td> <td>    0.181</td> <td>   15.715</td> <td> 0.000</td> <td>    2.484</td> <td>    3.192</td>\n",
              "</tr>\n",
              "</table>"
            ],
            "text/plain": [
              "<class 'statsmodels.iolib.summary.Summary'>\n",
              "\"\"\"\n",
              "                 Generalized Linear Model Regression Results                  \n",
              "==============================================================================\n",
              "Dep. Variable:              Converted   No. Observations:                 6468\n",
              "Model:                            GLM   Df Residuals:                     6451\n",
              "Model Family:                Binomial   Df Model:                           16\n",
              "Link Function:                  logit   Scale:                          1.0000\n",
              "Method:                          IRLS   Log-Likelihood:                -3045.9\n",
              "Date:                Tue, 10 Aug 2021   Deviance:                       6091.7\n",
              "Time:                        15:41:27   Pearson chi2:                 8.55e+03\n",
              "No. Iterations:                    21                                         \n",
              "Covariance Type:            nonrobust                                         \n",
              "========================================================================================================================\n",
              "                                                           coef    std err          z      P>|z|      [0.025      0.975]\n",
              "------------------------------------------------------------------------------------------------------------------------\n",
              "const                                                   -2.2586      0.100    -22.686      0.000      -2.454      -2.063\n",
              "TotalVisits                                              4.8200      1.960      2.459      0.014       0.978       8.662\n",
              "Total Time Spent on Website                              4.5635      0.154     29.594      0.000       4.261       4.866\n",
              "Page Views Per Visit                                    -1.0124      1.123     -0.901      0.367      -3.214       1.189\n",
              "Lead Origin_Lead Add Form                                4.3597      0.190     22.965      0.000       3.988       4.732\n",
              "Lead Source_Google                                       0.4495      0.082      5.480      0.000       0.289       0.610\n",
              "Lead Source_Olark Chat                                   1.2133      0.121     10.032      0.000       0.976       1.450\n",
              "Lead Source_Organic Search                               0.2911      0.111      2.629      0.009       0.074       0.508\n",
              "Specialization_Finance Management                       -0.3548      0.075     -4.734      0.000      -0.502      -0.208\n",
              "Specialization_Hospitality Management                   -1.0625      0.309     -3.440      0.001      -1.668      -0.457\n",
              "Specialization_International Business                   -0.3749      0.248     -1.509      0.131      -0.862       0.112\n",
              "Specialization_Retail Management                        -0.4681      0.314     -1.489      0.136      -1.084       0.148\n",
              "Specialization_Rural and Agribusiness                    0.4300      0.360      1.193      0.233      -0.276       1.136\n",
              "Specialization_Services Excellence                      -0.2841      0.482     -0.590      0.555      -1.228       0.660\n",
              "What is your current occupation_Housewife               22.4979   1.35e+04      0.002      0.999   -2.64e+04    2.64e+04\n",
              "What is your current occupation_Other                   -0.5122      0.792     -0.646      0.518      -2.065       1.041\n",
              "What is your current occupation_Working Professional     2.8378      0.181     15.715      0.000       2.484       3.192\n",
              "========================================================================================================================\n",
              "\"\"\""
            ]
          },
          "metadata": {
            "tags": []
          },
          "execution_count": 240
        }
      ]
    },
    {
      "cell_type": "code",
      "metadata": {
        "id": "c-93U65gzfF4"
      },
      "source": [
        "X_train2 = X_train2.drop(['const'], axis=1)"
      ],
      "execution_count": 241,
      "outputs": []
    },
    {
      "cell_type": "code",
      "metadata": {
        "colab": {
          "base_uri": "https://localhost:8080/",
          "height": 527
        },
        "id": "H-0EdoY1zh_6",
        "outputId": "87d94a3b-14bb-42b9-bfb4-e4a00aeb34f9"
      },
      "source": [
        "# Make a VIF dataframe for all the variables present\n",
        "vif = pd.DataFrame()\n",
        "vif['Features'] = X_train2.columns\n",
        "vif['VIF'] = [variance_inflation_factor(X_train2.values, i) for i in range(X_train2.shape[1])]\n",
        "vif['VIF'] = round(vif['VIF'], 2)\n",
        "vif = vif.sort_values(by = \"VIF\", ascending = False)\n",
        "vif"
      ],
      "execution_count": 242,
      "outputs": [
        {
          "output_type": "execute_result",
          "data": {
            "text/html": [
              "<div>\n",
              "<style scoped>\n",
              "    .dataframe tbody tr th:only-of-type {\n",
              "        vertical-align: middle;\n",
              "    }\n",
              "\n",
              "    .dataframe tbody tr th {\n",
              "        vertical-align: top;\n",
              "    }\n",
              "\n",
              "    .dataframe thead th {\n",
              "        text-align: right;\n",
              "    }\n",
              "</style>\n",
              "<table border=\"1\" class=\"dataframe\">\n",
              "  <thead>\n",
              "    <tr style=\"text-align: right;\">\n",
              "      <th></th>\n",
              "      <th>Features</th>\n",
              "      <th>VIF</th>\n",
              "    </tr>\n",
              "  </thead>\n",
              "  <tbody>\n",
              "    <tr>\n",
              "      <th>2</th>\n",
              "      <td>Page Views Per Visit</td>\n",
              "      <td>3.00</td>\n",
              "    </tr>\n",
              "    <tr>\n",
              "      <th>7</th>\n",
              "      <td>Specialization_Finance Management</td>\n",
              "      <td>2.28</td>\n",
              "    </tr>\n",
              "    <tr>\n",
              "      <th>1</th>\n",
              "      <td>Total Time Spent on Website</td>\n",
              "      <td>1.93</td>\n",
              "    </tr>\n",
              "    <tr>\n",
              "      <th>4</th>\n",
              "      <td>Lead Source_Google</td>\n",
              "      <td>1.87</td>\n",
              "    </tr>\n",
              "    <tr>\n",
              "      <th>0</th>\n",
              "      <td>TotalVisits</td>\n",
              "      <td>1.85</td>\n",
              "    </tr>\n",
              "    <tr>\n",
              "      <th>5</th>\n",
              "      <td>Lead Source_Olark Chat</td>\n",
              "      <td>1.72</td>\n",
              "    </tr>\n",
              "    <tr>\n",
              "      <th>6</th>\n",
              "      <td>Lead Source_Organic Search</td>\n",
              "      <td>1.46</td>\n",
              "    </tr>\n",
              "    <tr>\n",
              "      <th>3</th>\n",
              "      <td>Lead Origin_Lead Add Form</td>\n",
              "      <td>1.20</td>\n",
              "    </tr>\n",
              "    <tr>\n",
              "      <th>15</th>\n",
              "      <td>What is your current occupation_Working Profes...</td>\n",
              "      <td>1.17</td>\n",
              "    </tr>\n",
              "    <tr>\n",
              "      <th>9</th>\n",
              "      <td>Specialization_International Business</td>\n",
              "      <td>1.03</td>\n",
              "    </tr>\n",
              "    <tr>\n",
              "      <th>8</th>\n",
              "      <td>Specialization_Hospitality Management</td>\n",
              "      <td>1.02</td>\n",
              "    </tr>\n",
              "    <tr>\n",
              "      <th>10</th>\n",
              "      <td>Specialization_Retail Management</td>\n",
              "      <td>1.02</td>\n",
              "    </tr>\n",
              "    <tr>\n",
              "      <th>11</th>\n",
              "      <td>Specialization_Rural and Agribusiness</td>\n",
              "      <td>1.02</td>\n",
              "    </tr>\n",
              "    <tr>\n",
              "      <th>12</th>\n",
              "      <td>Specialization_Services Excellence</td>\n",
              "      <td>1.01</td>\n",
              "    </tr>\n",
              "    <tr>\n",
              "      <th>13</th>\n",
              "      <td>What is your current occupation_Housewife</td>\n",
              "      <td>1.00</td>\n",
              "    </tr>\n",
              "    <tr>\n",
              "      <th>14</th>\n",
              "      <td>What is your current occupation_Other</td>\n",
              "      <td>1.00</td>\n",
              "    </tr>\n",
              "  </tbody>\n",
              "</table>\n",
              "</div>"
            ],
            "text/plain": [
              "                                             Features   VIF\n",
              "2                                Page Views Per Visit  3.00\n",
              "7                   Specialization_Finance Management  2.28\n",
              "1                         Total Time Spent on Website  1.93\n",
              "4                                  Lead Source_Google  1.87\n",
              "0                                         TotalVisits  1.85\n",
              "5                              Lead Source_Olark Chat  1.72\n",
              "6                          Lead Source_Organic Search  1.46\n",
              "3                           Lead Origin_Lead Add Form  1.20\n",
              "15  What is your current occupation_Working Profes...  1.17\n",
              "9               Specialization_International Business  1.03\n",
              "8               Specialization_Hospitality Management  1.02\n",
              "10                   Specialization_Retail Management  1.02\n",
              "11              Specialization_Rural and Agribusiness  1.02\n",
              "12                 Specialization_Services Excellence  1.01\n",
              "13          What is your current occupation_Housewife  1.00\n",
              "14              What is your current occupation_Other  1.00"
            ]
          },
          "metadata": {
            "tags": []
          },
          "execution_count": 242
        }
      ]
    },
    {
      "cell_type": "code",
      "metadata": {
        "id": "pZgqFmEEzmtW"
      },
      "source": [
        "X_train2 = X_train2.drop(['What is your current occupation_Housewife'], axis = 1)"
      ],
      "execution_count": 243,
      "outputs": []
    },
    {
      "cell_type": "markdown",
      "metadata": {
        "id": "5yH9ebczz2DF"
      },
      "source": [
        "###Iteration 3"
      ]
    },
    {
      "cell_type": "code",
      "metadata": {
        "id": "ikw7yR9Dz3FS"
      },
      "source": [
        "X_train3 = sm.add_constant(X_train2)"
      ],
      "execution_count": 244,
      "outputs": []
    },
    {
      "cell_type": "code",
      "metadata": {
        "colab": {
          "base_uri": "https://localhost:8080/",
          "height": 497
        },
        "id": "szSA0lzDz561",
        "outputId": "f2b5beb0-1412-40b3-fb62-30d26d87a35a"
      },
      "source": [
        "res = sm.GLM(y_train, X_train3, family = sm.families.Binomial()).fit()\n",
        "res.summary()"
      ],
      "execution_count": 245,
      "outputs": [
        {
          "output_type": "execute_result",
          "data": {
            "text/html": [
              "<table class=\"simpletable\">\n",
              "<caption>Generalized Linear Model Regression Results</caption>\n",
              "<tr>\n",
              "  <th>Dep. Variable:</th>       <td>Converted</td>    <th>  No. Observations:  </th>  <td>  6468</td> \n",
              "</tr>\n",
              "<tr>\n",
              "  <th>Model:</th>                  <td>GLM</td>       <th>  Df Residuals:      </th>  <td>  6452</td> \n",
              "</tr>\n",
              "<tr>\n",
              "  <th>Model Family:</th>        <td>Binomial</td>     <th>  Df Model:          </th>  <td>    15</td> \n",
              "</tr>\n",
              "<tr>\n",
              "  <th>Link Function:</th>         <td>logit</td>      <th>  Scale:             </th> <td>  1.0000</td>\n",
              "</tr>\n",
              "<tr>\n",
              "  <th>Method:</th>                <td>IRLS</td>       <th>  Log-Likelihood:    </th> <td> -3051.4</td>\n",
              "</tr>\n",
              "<tr>\n",
              "  <th>Date:</th>            <td>Tue, 10 Aug 2021</td> <th>  Deviance:          </th> <td>  6102.7</td>\n",
              "</tr>\n",
              "<tr>\n",
              "  <th>Time:</th>                <td>15:41:27</td>     <th>  Pearson chi2:      </th> <td>8.58e+03</td>\n",
              "</tr>\n",
              "<tr>\n",
              "  <th>No. Iterations:</th>          <td>6</td>        <th>                     </th>     <td> </td>   \n",
              "</tr>\n",
              "<tr>\n",
              "  <th>Covariance Type:</th>     <td>nonrobust</td>    <th>                     </th>     <td> </td>   \n",
              "</tr>\n",
              "</table>\n",
              "<table class=\"simpletable\">\n",
              "<tr>\n",
              "                            <td></td>                              <th>coef</th>     <th>std err</th>      <th>z</th>      <th>P>|z|</th>  <th>[0.025</th>    <th>0.975]</th>  \n",
              "</tr>\n",
              "<tr>\n",
              "  <th>const</th>                                                <td>   -2.2502</td> <td>    0.099</td> <td>  -22.633</td> <td> 0.000</td> <td>   -2.445</td> <td>   -2.055</td>\n",
              "</tr>\n",
              "<tr>\n",
              "  <th>TotalVisits</th>                                          <td>    4.7701</td> <td>    1.947</td> <td>    2.450</td> <td> 0.014</td> <td>    0.954</td> <td>    8.587</td>\n",
              "</tr>\n",
              "<tr>\n",
              "  <th>Total Time Spent on Website</th>                          <td>    4.5614</td> <td>    0.154</td> <td>   29.602</td> <td> 0.000</td> <td>    4.259</td> <td>    4.863</td>\n",
              "</tr>\n",
              "<tr>\n",
              "  <th>Page Views Per Visit</th>                                 <td>   -1.0600</td> <td>    1.124</td> <td>   -0.943</td> <td> 0.346</td> <td>   -3.263</td> <td>    1.143</td>\n",
              "</tr>\n",
              "<tr>\n",
              "  <th>Lead Origin_Lead Add Form</th>                            <td>    4.3671</td> <td>    0.190</td> <td>   23.021</td> <td> 0.000</td> <td>    3.995</td> <td>    4.739</td>\n",
              "</tr>\n",
              "<tr>\n",
              "  <th>Lead Source_Google</th>                                   <td>    0.4523</td> <td>    0.082</td> <td>    5.519</td> <td> 0.000</td> <td>    0.292</td> <td>    0.613</td>\n",
              "</tr>\n",
              "<tr>\n",
              "  <th>Lead Source_Olark Chat</th>                               <td>    1.2104</td> <td>    0.121</td> <td>   10.013</td> <td> 0.000</td> <td>    0.973</td> <td>    1.447</td>\n",
              "</tr>\n",
              "<tr>\n",
              "  <th>Lead Source_Organic Search</th>                           <td>    0.2978</td> <td>    0.111</td> <td>    2.692</td> <td> 0.007</td> <td>    0.081</td> <td>    0.515</td>\n",
              "</tr>\n",
              "<tr>\n",
              "  <th>Specialization_Finance Management</th>                    <td>   -0.3605</td> <td>    0.075</td> <td>   -4.816</td> <td> 0.000</td> <td>   -0.507</td> <td>   -0.214</td>\n",
              "</tr>\n",
              "<tr>\n",
              "  <th>Specialization_Hospitality Management</th>                <td>   -1.0693</td> <td>    0.309</td> <td>   -3.461</td> <td> 0.001</td> <td>   -1.675</td> <td>   -0.464</td>\n",
              "</tr>\n",
              "<tr>\n",
              "  <th>Specialization_International Business</th>                <td>   -0.3807</td> <td>    0.248</td> <td>   -1.532</td> <td> 0.125</td> <td>   -0.868</td> <td>    0.106</td>\n",
              "</tr>\n",
              "<tr>\n",
              "  <th>Specialization_Retail Management</th>                     <td>   -0.4735</td> <td>    0.314</td> <td>   -1.507</td> <td> 0.132</td> <td>   -1.089</td> <td>    0.142</td>\n",
              "</tr>\n",
              "<tr>\n",
              "  <th>Specialization_Rural and Agribusiness</th>                <td>    0.4237</td> <td>    0.360</td> <td>    1.176</td> <td> 0.240</td> <td>   -0.282</td> <td>    1.130</td>\n",
              "</tr>\n",
              "<tr>\n",
              "  <th>Specialization_Services Excellence</th>                   <td>   -0.2893</td> <td>    0.482</td> <td>   -0.601</td> <td> 0.548</td> <td>   -1.234</td> <td>    0.655</td>\n",
              "</tr>\n",
              "<tr>\n",
              "  <th>What is your current occupation_Other</th>                <td>   -0.5152</td> <td>    0.792</td> <td>   -0.650</td> <td> 0.516</td> <td>   -2.068</td> <td>    1.038</td>\n",
              "</tr>\n",
              "<tr>\n",
              "  <th>What is your current occupation_Working Professional</th> <td>    2.8335</td> <td>    0.181</td> <td>   15.691</td> <td> 0.000</td> <td>    2.480</td> <td>    3.187</td>\n",
              "</tr>\n",
              "</table>"
            ],
            "text/plain": [
              "<class 'statsmodels.iolib.summary.Summary'>\n",
              "\"\"\"\n",
              "                 Generalized Linear Model Regression Results                  \n",
              "==============================================================================\n",
              "Dep. Variable:              Converted   No. Observations:                 6468\n",
              "Model:                            GLM   Df Residuals:                     6452\n",
              "Model Family:                Binomial   Df Model:                           15\n",
              "Link Function:                  logit   Scale:                          1.0000\n",
              "Method:                          IRLS   Log-Likelihood:                -3051.4\n",
              "Date:                Tue, 10 Aug 2021   Deviance:                       6102.7\n",
              "Time:                        15:41:27   Pearson chi2:                 8.58e+03\n",
              "No. Iterations:                     6                                         \n",
              "Covariance Type:            nonrobust                                         \n",
              "========================================================================================================================\n",
              "                                                           coef    std err          z      P>|z|      [0.025      0.975]\n",
              "------------------------------------------------------------------------------------------------------------------------\n",
              "const                                                   -2.2502      0.099    -22.633      0.000      -2.445      -2.055\n",
              "TotalVisits                                              4.7701      1.947      2.450      0.014       0.954       8.587\n",
              "Total Time Spent on Website                              4.5614      0.154     29.602      0.000       4.259       4.863\n",
              "Page Views Per Visit                                    -1.0600      1.124     -0.943      0.346      -3.263       1.143\n",
              "Lead Origin_Lead Add Form                                4.3671      0.190     23.021      0.000       3.995       4.739\n",
              "Lead Source_Google                                       0.4523      0.082      5.519      0.000       0.292       0.613\n",
              "Lead Source_Olark Chat                                   1.2104      0.121     10.013      0.000       0.973       1.447\n",
              "Lead Source_Organic Search                               0.2978      0.111      2.692      0.007       0.081       0.515\n",
              "Specialization_Finance Management                       -0.3605      0.075     -4.816      0.000      -0.507      -0.214\n",
              "Specialization_Hospitality Management                   -1.0693      0.309     -3.461      0.001      -1.675      -0.464\n",
              "Specialization_International Business                   -0.3807      0.248     -1.532      0.125      -0.868       0.106\n",
              "Specialization_Retail Management                        -0.4735      0.314     -1.507      0.132      -1.089       0.142\n",
              "Specialization_Rural and Agribusiness                    0.4237      0.360      1.176      0.240      -0.282       1.130\n",
              "Specialization_Services Excellence                      -0.2893      0.482     -0.601      0.548      -1.234       0.655\n",
              "What is your current occupation_Other                   -0.5152      0.792     -0.650      0.516      -2.068       1.038\n",
              "What is your current occupation_Working Professional     2.8335      0.181     15.691      0.000       2.480       3.187\n",
              "========================================================================================================================\n",
              "\"\"\""
            ]
          },
          "metadata": {
            "tags": []
          },
          "execution_count": 245
        }
      ]
    },
    {
      "cell_type": "code",
      "metadata": {
        "id": "eF6Ewo020e7Z"
      },
      "source": [
        "X_train3 = X_train3.drop(['const'], axis=1)"
      ],
      "execution_count": 246,
      "outputs": []
    },
    {
      "cell_type": "code",
      "metadata": {
        "colab": {
          "base_uri": "https://localhost:8080/",
          "height": 497
        },
        "id": "1A6IcqBr0g2y",
        "outputId": "aac9ce51-f10e-47b7-9755-59d58b82501d"
      },
      "source": [
        "vif = pd.DataFrame()\n",
        "vif['Features'] = X_train3.columns\n",
        "vif['VIF'] = [variance_inflation_factor(X_train3.values, i) for i in range(X_train3.shape[1])]\n",
        "vif['VIF'] = round(vif['VIF'], 2)\n",
        "vif = vif.sort_values(by = \"VIF\", ascending = False)\n",
        "vif"
      ],
      "execution_count": 247,
      "outputs": [
        {
          "output_type": "execute_result",
          "data": {
            "text/html": [
              "<div>\n",
              "<style scoped>\n",
              "    .dataframe tbody tr th:only-of-type {\n",
              "        vertical-align: middle;\n",
              "    }\n",
              "\n",
              "    .dataframe tbody tr th {\n",
              "        vertical-align: top;\n",
              "    }\n",
              "\n",
              "    .dataframe thead th {\n",
              "        text-align: right;\n",
              "    }\n",
              "</style>\n",
              "<table border=\"1\" class=\"dataframe\">\n",
              "  <thead>\n",
              "    <tr style=\"text-align: right;\">\n",
              "      <th></th>\n",
              "      <th>Features</th>\n",
              "      <th>VIF</th>\n",
              "    </tr>\n",
              "  </thead>\n",
              "  <tbody>\n",
              "    <tr>\n",
              "      <th>2</th>\n",
              "      <td>Page Views Per Visit</td>\n",
              "      <td>3.00</td>\n",
              "    </tr>\n",
              "    <tr>\n",
              "      <th>7</th>\n",
              "      <td>Specialization_Finance Management</td>\n",
              "      <td>2.28</td>\n",
              "    </tr>\n",
              "    <tr>\n",
              "      <th>1</th>\n",
              "      <td>Total Time Spent on Website</td>\n",
              "      <td>1.93</td>\n",
              "    </tr>\n",
              "    <tr>\n",
              "      <th>4</th>\n",
              "      <td>Lead Source_Google</td>\n",
              "      <td>1.87</td>\n",
              "    </tr>\n",
              "    <tr>\n",
              "      <th>0</th>\n",
              "      <td>TotalVisits</td>\n",
              "      <td>1.85</td>\n",
              "    </tr>\n",
              "    <tr>\n",
              "      <th>5</th>\n",
              "      <td>Lead Source_Olark Chat</td>\n",
              "      <td>1.72</td>\n",
              "    </tr>\n",
              "    <tr>\n",
              "      <th>6</th>\n",
              "      <td>Lead Source_Organic Search</td>\n",
              "      <td>1.46</td>\n",
              "    </tr>\n",
              "    <tr>\n",
              "      <th>3</th>\n",
              "      <td>Lead Origin_Lead Add Form</td>\n",
              "      <td>1.19</td>\n",
              "    </tr>\n",
              "    <tr>\n",
              "      <th>14</th>\n",
              "      <td>What is your current occupation_Working Profes...</td>\n",
              "      <td>1.16</td>\n",
              "    </tr>\n",
              "    <tr>\n",
              "      <th>9</th>\n",
              "      <td>Specialization_International Business</td>\n",
              "      <td>1.03</td>\n",
              "    </tr>\n",
              "    <tr>\n",
              "      <th>8</th>\n",
              "      <td>Specialization_Hospitality Management</td>\n",
              "      <td>1.02</td>\n",
              "    </tr>\n",
              "    <tr>\n",
              "      <th>10</th>\n",
              "      <td>Specialization_Retail Management</td>\n",
              "      <td>1.02</td>\n",
              "    </tr>\n",
              "    <tr>\n",
              "      <th>11</th>\n",
              "      <td>Specialization_Rural and Agribusiness</td>\n",
              "      <td>1.02</td>\n",
              "    </tr>\n",
              "    <tr>\n",
              "      <th>12</th>\n",
              "      <td>Specialization_Services Excellence</td>\n",
              "      <td>1.01</td>\n",
              "    </tr>\n",
              "    <tr>\n",
              "      <th>13</th>\n",
              "      <td>What is your current occupation_Other</td>\n",
              "      <td>1.00</td>\n",
              "    </tr>\n",
              "  </tbody>\n",
              "</table>\n",
              "</div>"
            ],
            "text/plain": [
              "                                             Features   VIF\n",
              "2                                Page Views Per Visit  3.00\n",
              "7                   Specialization_Finance Management  2.28\n",
              "1                         Total Time Spent on Website  1.93\n",
              "4                                  Lead Source_Google  1.87\n",
              "0                                         TotalVisits  1.85\n",
              "5                              Lead Source_Olark Chat  1.72\n",
              "6                          Lead Source_Organic Search  1.46\n",
              "3                           Lead Origin_Lead Add Form  1.19\n",
              "14  What is your current occupation_Working Profes...  1.16\n",
              "9               Specialization_International Business  1.03\n",
              "8               Specialization_Hospitality Management  1.02\n",
              "10                   Specialization_Retail Management  1.02\n",
              "11              Specialization_Rural and Agribusiness  1.02\n",
              "12                 Specialization_Services Excellence  1.01\n",
              "13              What is your current occupation_Other  1.00"
            ]
          },
          "metadata": {
            "tags": []
          },
          "execution_count": 247
        }
      ]
    },
    {
      "cell_type": "code",
      "metadata": {
        "id": "fCZC3syV0jxM"
      },
      "source": [
        "X_train3 = X_train3.drop(['Specialization_Services Excellence'], axis = 1)"
      ],
      "execution_count": 248,
      "outputs": []
    },
    {
      "cell_type": "markdown",
      "metadata": {
        "id": "jBWqsdfx7yyY"
      },
      "source": [
        "###Iteration 4:"
      ]
    },
    {
      "cell_type": "code",
      "metadata": {
        "id": "iC27amNi70sc"
      },
      "source": [
        "X_train4 = sm.add_constant(X_train3)"
      ],
      "execution_count": 249,
      "outputs": []
    },
    {
      "cell_type": "code",
      "metadata": {
        "colab": {
          "base_uri": "https://localhost:8080/",
          "height": 480
        },
        "id": "636HHvE274Jw",
        "outputId": "43f8ac18-741c-4f3d-b758-1ba1680ee7f6"
      },
      "source": [
        "res = sm.GLM(y_train, X_train4, family = sm.families.Binomial()).fit()\n",
        "res.summary()"
      ],
      "execution_count": 250,
      "outputs": [
        {
          "output_type": "execute_result",
          "data": {
            "text/html": [
              "<table class=\"simpletable\">\n",
              "<caption>Generalized Linear Model Regression Results</caption>\n",
              "<tr>\n",
              "  <th>Dep. Variable:</th>       <td>Converted</td>    <th>  No. Observations:  </th>  <td>  6468</td> \n",
              "</tr>\n",
              "<tr>\n",
              "  <th>Model:</th>                  <td>GLM</td>       <th>  Df Residuals:      </th>  <td>  6453</td> \n",
              "</tr>\n",
              "<tr>\n",
              "  <th>Model Family:</th>        <td>Binomial</td>     <th>  Df Model:          </th>  <td>    14</td> \n",
              "</tr>\n",
              "<tr>\n",
              "  <th>Link Function:</th>         <td>logit</td>      <th>  Scale:             </th> <td>  1.0000</td>\n",
              "</tr>\n",
              "<tr>\n",
              "  <th>Method:</th>                <td>IRLS</td>       <th>  Log-Likelihood:    </th> <td> -3051.5</td>\n",
              "</tr>\n",
              "<tr>\n",
              "  <th>Date:</th>            <td>Tue, 10 Aug 2021</td> <th>  Deviance:          </th> <td>  6103.1</td>\n",
              "</tr>\n",
              "<tr>\n",
              "  <th>Time:</th>                <td>15:41:27</td>     <th>  Pearson chi2:      </th> <td>8.57e+03</td>\n",
              "</tr>\n",
              "<tr>\n",
              "  <th>No. Iterations:</th>          <td>6</td>        <th>                     </th>     <td> </td>   \n",
              "</tr>\n",
              "<tr>\n",
              "  <th>Covariance Type:</th>     <td>nonrobust</td>    <th>                     </th>     <td> </td>   \n",
              "</tr>\n",
              "</table>\n",
              "<table class=\"simpletable\">\n",
              "<tr>\n",
              "                            <td></td>                              <th>coef</th>     <th>std err</th>      <th>z</th>      <th>P>|z|</th>  <th>[0.025</th>    <th>0.975]</th>  \n",
              "</tr>\n",
              "<tr>\n",
              "  <th>const</th>                                                <td>   -2.2542</td> <td>    0.099</td> <td>  -22.719</td> <td> 0.000</td> <td>   -2.449</td> <td>   -2.060</td>\n",
              "</tr>\n",
              "<tr>\n",
              "  <th>TotalVisits</th>                                          <td>    4.7670</td> <td>    1.945</td> <td>    2.451</td> <td> 0.014</td> <td>    0.955</td> <td>    8.579</td>\n",
              "</tr>\n",
              "<tr>\n",
              "  <th>Total Time Spent on Website</th>                          <td>    4.5628</td> <td>    0.154</td> <td>   29.613</td> <td> 0.000</td> <td>    4.261</td> <td>    4.865</td>\n",
              "</tr>\n",
              "<tr>\n",
              "  <th>Page Views Per Visit</th>                                 <td>   -1.0620</td> <td>    1.124</td> <td>   -0.945</td> <td> 0.345</td> <td>   -3.265</td> <td>    1.141</td>\n",
              "</tr>\n",
              "<tr>\n",
              "  <th>Lead Origin_Lead Add Form</th>                            <td>    4.3693</td> <td>    0.190</td> <td>   23.038</td> <td> 0.000</td> <td>    3.998</td> <td>    4.741</td>\n",
              "</tr>\n",
              "<tr>\n",
              "  <th>Lead Source_Google</th>                                   <td>    0.4539</td> <td>    0.082</td> <td>    5.542</td> <td> 0.000</td> <td>    0.293</td> <td>    0.614</td>\n",
              "</tr>\n",
              "<tr>\n",
              "  <th>Lead Source_Olark Chat</th>                               <td>    1.2123</td> <td>    0.121</td> <td>   10.032</td> <td> 0.000</td> <td>    0.975</td> <td>    1.449</td>\n",
              "</tr>\n",
              "<tr>\n",
              "  <th>Lead Source_Organic Search</th>                           <td>    0.2988</td> <td>    0.111</td> <td>    2.701</td> <td> 0.007</td> <td>    0.082</td> <td>    0.516</td>\n",
              "</tr>\n",
              "<tr>\n",
              "  <th>Specialization_Finance Management</th>                    <td>   -0.3583</td> <td>    0.075</td> <td>   -4.791</td> <td> 0.000</td> <td>   -0.505</td> <td>   -0.212</td>\n",
              "</tr>\n",
              "<tr>\n",
              "  <th>Specialization_Hospitality Management</th>                <td>   -1.0668</td> <td>    0.309</td> <td>   -3.453</td> <td> 0.001</td> <td>   -1.672</td> <td>   -0.461</td>\n",
              "</tr>\n",
              "<tr>\n",
              "  <th>Specialization_International Business</th>                <td>   -0.3781</td> <td>    0.248</td> <td>   -1.522</td> <td> 0.128</td> <td>   -0.865</td> <td>    0.109</td>\n",
              "</tr>\n",
              "<tr>\n",
              "  <th>Specialization_Retail Management</th>                     <td>   -0.4709</td> <td>    0.314</td> <td>   -1.498</td> <td> 0.134</td> <td>   -1.087</td> <td>    0.145</td>\n",
              "</tr>\n",
              "<tr>\n",
              "  <th>Specialization_Rural and Agribusiness</th>                <td>    0.4267</td> <td>    0.360</td> <td>    1.184</td> <td> 0.236</td> <td>   -0.279</td> <td>    1.133</td>\n",
              "</tr>\n",
              "<tr>\n",
              "  <th>What is your current occupation_Other</th>                <td>   -0.5127</td> <td>    0.792</td> <td>   -0.647</td> <td> 0.518</td> <td>   -2.066</td> <td>    1.040</td>\n",
              "</tr>\n",
              "<tr>\n",
              "  <th>What is your current occupation_Working Professional</th> <td>    2.8333</td> <td>    0.181</td> <td>   15.689</td> <td> 0.000</td> <td>    2.479</td> <td>    3.187</td>\n",
              "</tr>\n",
              "</table>"
            ],
            "text/plain": [
              "<class 'statsmodels.iolib.summary.Summary'>\n",
              "\"\"\"\n",
              "                 Generalized Linear Model Regression Results                  \n",
              "==============================================================================\n",
              "Dep. Variable:              Converted   No. Observations:                 6468\n",
              "Model:                            GLM   Df Residuals:                     6453\n",
              "Model Family:                Binomial   Df Model:                           14\n",
              "Link Function:                  logit   Scale:                          1.0000\n",
              "Method:                          IRLS   Log-Likelihood:                -3051.5\n",
              "Date:                Tue, 10 Aug 2021   Deviance:                       6103.1\n",
              "Time:                        15:41:27   Pearson chi2:                 8.57e+03\n",
              "No. Iterations:                     6                                         \n",
              "Covariance Type:            nonrobust                                         \n",
              "========================================================================================================================\n",
              "                                                           coef    std err          z      P>|z|      [0.025      0.975]\n",
              "------------------------------------------------------------------------------------------------------------------------\n",
              "const                                                   -2.2542      0.099    -22.719      0.000      -2.449      -2.060\n",
              "TotalVisits                                              4.7670      1.945      2.451      0.014       0.955       8.579\n",
              "Total Time Spent on Website                              4.5628      0.154     29.613      0.000       4.261       4.865\n",
              "Page Views Per Visit                                    -1.0620      1.124     -0.945      0.345      -3.265       1.141\n",
              "Lead Origin_Lead Add Form                                4.3693      0.190     23.038      0.000       3.998       4.741\n",
              "Lead Source_Google                                       0.4539      0.082      5.542      0.000       0.293       0.614\n",
              "Lead Source_Olark Chat                                   1.2123      0.121     10.032      0.000       0.975       1.449\n",
              "Lead Source_Organic Search                               0.2988      0.111      2.701      0.007       0.082       0.516\n",
              "Specialization_Finance Management                       -0.3583      0.075     -4.791      0.000      -0.505      -0.212\n",
              "Specialization_Hospitality Management                   -1.0668      0.309     -3.453      0.001      -1.672      -0.461\n",
              "Specialization_International Business                   -0.3781      0.248     -1.522      0.128      -0.865       0.109\n",
              "Specialization_Retail Management                        -0.4709      0.314     -1.498      0.134      -1.087       0.145\n",
              "Specialization_Rural and Agribusiness                    0.4267      0.360      1.184      0.236      -0.279       1.133\n",
              "What is your current occupation_Other                   -0.5127      0.792     -0.647      0.518      -2.066       1.040\n",
              "What is your current occupation_Working Professional     2.8333      0.181     15.689      0.000       2.479       3.187\n",
              "========================================================================================================================\n",
              "\"\"\""
            ]
          },
          "metadata": {
            "tags": []
          },
          "execution_count": 250
        }
      ]
    },
    {
      "cell_type": "code",
      "metadata": {
        "id": "ZDgFUIX984Kc"
      },
      "source": [
        "X_train4 = X_train4.drop(['const'], axis=1)"
      ],
      "execution_count": 251,
      "outputs": []
    },
    {
      "cell_type": "code",
      "metadata": {
        "colab": {
          "base_uri": "https://localhost:8080/",
          "height": 467
        },
        "id": "-FlPVwMP89kq",
        "outputId": "d3e2dde4-7c75-4494-8638-69f5a81c96df"
      },
      "source": [
        "vif = pd.DataFrame()\n",
        "vif['Features'] = X_train4.columns\n",
        "vif['VIF'] = [variance_inflation_factor(X_train4.values, i) for i in range(X_train4.shape[1])]\n",
        "vif['VIF'] = round(vif['VIF'], 2)\n",
        "vif = vif.sort_values(by = \"VIF\", ascending = False)\n",
        "vif"
      ],
      "execution_count": 252,
      "outputs": [
        {
          "output_type": "execute_result",
          "data": {
            "text/html": [
              "<div>\n",
              "<style scoped>\n",
              "    .dataframe tbody tr th:only-of-type {\n",
              "        vertical-align: middle;\n",
              "    }\n",
              "\n",
              "    .dataframe tbody tr th {\n",
              "        vertical-align: top;\n",
              "    }\n",
              "\n",
              "    .dataframe thead th {\n",
              "        text-align: right;\n",
              "    }\n",
              "</style>\n",
              "<table border=\"1\" class=\"dataframe\">\n",
              "  <thead>\n",
              "    <tr style=\"text-align: right;\">\n",
              "      <th></th>\n",
              "      <th>Features</th>\n",
              "      <th>VIF</th>\n",
              "    </tr>\n",
              "  </thead>\n",
              "  <tbody>\n",
              "    <tr>\n",
              "      <th>2</th>\n",
              "      <td>Page Views Per Visit</td>\n",
              "      <td>3.00</td>\n",
              "    </tr>\n",
              "    <tr>\n",
              "      <th>7</th>\n",
              "      <td>Specialization_Finance Management</td>\n",
              "      <td>2.27</td>\n",
              "    </tr>\n",
              "    <tr>\n",
              "      <th>1</th>\n",
              "      <td>Total Time Spent on Website</td>\n",
              "      <td>1.93</td>\n",
              "    </tr>\n",
              "    <tr>\n",
              "      <th>4</th>\n",
              "      <td>Lead Source_Google</td>\n",
              "      <td>1.87</td>\n",
              "    </tr>\n",
              "    <tr>\n",
              "      <th>0</th>\n",
              "      <td>TotalVisits</td>\n",
              "      <td>1.85</td>\n",
              "    </tr>\n",
              "    <tr>\n",
              "      <th>5</th>\n",
              "      <td>Lead Source_Olark Chat</td>\n",
              "      <td>1.72</td>\n",
              "    </tr>\n",
              "    <tr>\n",
              "      <th>6</th>\n",
              "      <td>Lead Source_Organic Search</td>\n",
              "      <td>1.46</td>\n",
              "    </tr>\n",
              "    <tr>\n",
              "      <th>3</th>\n",
              "      <td>Lead Origin_Lead Add Form</td>\n",
              "      <td>1.19</td>\n",
              "    </tr>\n",
              "    <tr>\n",
              "      <th>13</th>\n",
              "      <td>What is your current occupation_Working Profes...</td>\n",
              "      <td>1.16</td>\n",
              "    </tr>\n",
              "    <tr>\n",
              "      <th>9</th>\n",
              "      <td>Specialization_International Business</td>\n",
              "      <td>1.03</td>\n",
              "    </tr>\n",
              "    <tr>\n",
              "      <th>8</th>\n",
              "      <td>Specialization_Hospitality Management</td>\n",
              "      <td>1.02</td>\n",
              "    </tr>\n",
              "    <tr>\n",
              "      <th>10</th>\n",
              "      <td>Specialization_Retail Management</td>\n",
              "      <td>1.02</td>\n",
              "    </tr>\n",
              "    <tr>\n",
              "      <th>11</th>\n",
              "      <td>Specialization_Rural and Agribusiness</td>\n",
              "      <td>1.02</td>\n",
              "    </tr>\n",
              "    <tr>\n",
              "      <th>12</th>\n",
              "      <td>What is your current occupation_Other</td>\n",
              "      <td>1.00</td>\n",
              "    </tr>\n",
              "  </tbody>\n",
              "</table>\n",
              "</div>"
            ],
            "text/plain": [
              "                                             Features   VIF\n",
              "2                                Page Views Per Visit  3.00\n",
              "7                   Specialization_Finance Management  2.27\n",
              "1                         Total Time Spent on Website  1.93\n",
              "4                                  Lead Source_Google  1.87\n",
              "0                                         TotalVisits  1.85\n",
              "5                              Lead Source_Olark Chat  1.72\n",
              "6                          Lead Source_Organic Search  1.46\n",
              "3                           Lead Origin_Lead Add Form  1.19\n",
              "13  What is your current occupation_Working Profes...  1.16\n",
              "9               Specialization_International Business  1.03\n",
              "8               Specialization_Hospitality Management  1.02\n",
              "10                   Specialization_Retail Management  1.02\n",
              "11              Specialization_Rural and Agribusiness  1.02\n",
              "12              What is your current occupation_Other  1.00"
            ]
          },
          "metadata": {
            "tags": []
          },
          "execution_count": 252
        }
      ]
    },
    {
      "cell_type": "code",
      "metadata": {
        "id": "Nx9w0SPC9ifw"
      },
      "source": [
        "X_train4 = X_train4.drop(['What is your current occupation_Other'], axis = 1)"
      ],
      "execution_count": 253,
      "outputs": []
    },
    {
      "cell_type": "markdown",
      "metadata": {
        "id": "0U0MS2yl9tNd"
      },
      "source": [
        "###Iteration 5:"
      ]
    },
    {
      "cell_type": "code",
      "metadata": {
        "id": "7PfrD5T29vEa"
      },
      "source": [
        "X_train5 = sm.add_constant(X_train4)"
      ],
      "execution_count": 254,
      "outputs": []
    },
    {
      "cell_type": "code",
      "metadata": {
        "colab": {
          "base_uri": "https://localhost:8080/",
          "height": 462
        },
        "id": "9gZto4ff9yQZ",
        "outputId": "4fd43f90-a0d1-4ec9-86c9-8d6cc9216982"
      },
      "source": [
        "res = sm.GLM(y_train, X_train5, family = sm.families.Binomial()).fit()\n",
        "res.summary()"
      ],
      "execution_count": 255,
      "outputs": [
        {
          "output_type": "execute_result",
          "data": {
            "text/html": [
              "<table class=\"simpletable\">\n",
              "<caption>Generalized Linear Model Regression Results</caption>\n",
              "<tr>\n",
              "  <th>Dep. Variable:</th>       <td>Converted</td>    <th>  No. Observations:  </th>  <td>  6468</td> \n",
              "</tr>\n",
              "<tr>\n",
              "  <th>Model:</th>                  <td>GLM</td>       <th>  Df Residuals:      </th>  <td>  6454</td> \n",
              "</tr>\n",
              "<tr>\n",
              "  <th>Model Family:</th>        <td>Binomial</td>     <th>  Df Model:          </th>  <td>    13</td> \n",
              "</tr>\n",
              "<tr>\n",
              "  <th>Link Function:</th>         <td>logit</td>      <th>  Scale:             </th> <td>  1.0000</td>\n",
              "</tr>\n",
              "<tr>\n",
              "  <th>Method:</th>                <td>IRLS</td>       <th>  Log-Likelihood:    </th> <td> -3051.8</td>\n",
              "</tr>\n",
              "<tr>\n",
              "  <th>Date:</th>            <td>Tue, 10 Aug 2021</td> <th>  Deviance:          </th> <td>  6103.5</td>\n",
              "</tr>\n",
              "<tr>\n",
              "  <th>Time:</th>                <td>15:41:28</td>     <th>  Pearson chi2:      </th> <td>8.57e+03</td>\n",
              "</tr>\n",
              "<tr>\n",
              "  <th>No. Iterations:</th>          <td>6</td>        <th>                     </th>     <td> </td>   \n",
              "</tr>\n",
              "<tr>\n",
              "  <th>Covariance Type:</th>     <td>nonrobust</td>    <th>                     </th>     <td> </td>   \n",
              "</tr>\n",
              "</table>\n",
              "<table class=\"simpletable\">\n",
              "<tr>\n",
              "                            <td></td>                              <th>coef</th>     <th>std err</th>      <th>z</th>      <th>P>|z|</th>  <th>[0.025</th>    <th>0.975]</th>  \n",
              "</tr>\n",
              "<tr>\n",
              "  <th>const</th>                                                <td>   -2.2546</td> <td>    0.099</td> <td>  -22.722</td> <td> 0.000</td> <td>   -2.449</td> <td>   -2.060</td>\n",
              "</tr>\n",
              "<tr>\n",
              "  <th>TotalVisits</th>                                          <td>    4.7324</td> <td>    1.935</td> <td>    2.446</td> <td> 0.014</td> <td>    0.940</td> <td>    8.525</td>\n",
              "</tr>\n",
              "<tr>\n",
              "  <th>Total Time Spent on Website</th>                          <td>    4.5597</td> <td>    0.154</td> <td>   29.613</td> <td> 0.000</td> <td>    4.258</td> <td>    4.862</td>\n",
              "</tr>\n",
              "<tr>\n",
              "  <th>Page Views Per Visit</th>                                 <td>   -1.0632</td> <td>    1.124</td> <td>   -0.946</td> <td> 0.344</td> <td>   -3.265</td> <td>    1.139</td>\n",
              "</tr>\n",
              "<tr>\n",
              "  <th>Lead Origin_Lead Add Form</th>                            <td>    4.3695</td> <td>    0.190</td> <td>   23.039</td> <td> 0.000</td> <td>    3.998</td> <td>    4.741</td>\n",
              "</tr>\n",
              "<tr>\n",
              "  <th>Lead Source_Google</th>                                   <td>    0.4554</td> <td>    0.082</td> <td>    5.563</td> <td> 0.000</td> <td>    0.295</td> <td>    0.616</td>\n",
              "</tr>\n",
              "<tr>\n",
              "  <th>Lead Source_Olark Chat</th>                               <td>    1.2126</td> <td>    0.121</td> <td>   10.035</td> <td> 0.000</td> <td>    0.976</td> <td>    1.449</td>\n",
              "</tr>\n",
              "<tr>\n",
              "  <th>Lead Source_Organic Search</th>                           <td>    0.2995</td> <td>    0.111</td> <td>    2.707</td> <td> 0.007</td> <td>    0.083</td> <td>    0.516</td>\n",
              "</tr>\n",
              "<tr>\n",
              "  <th>Specialization_Finance Management</th>                    <td>   -0.3580</td> <td>    0.075</td> <td>   -4.788</td> <td> 0.000</td> <td>   -0.505</td> <td>   -0.211</td>\n",
              "</tr>\n",
              "<tr>\n",
              "  <th>Specialization_Hospitality Management</th>                <td>   -1.0652</td> <td>    0.309</td> <td>   -3.448</td> <td> 0.001</td> <td>   -1.671</td> <td>   -0.460</td>\n",
              "</tr>\n",
              "<tr>\n",
              "  <th>Specialization_International Business</th>                <td>   -0.3768</td> <td>    0.248</td> <td>   -1.517</td> <td> 0.129</td> <td>   -0.864</td> <td>    0.110</td>\n",
              "</tr>\n",
              "<tr>\n",
              "  <th>Specialization_Retail Management</th>                     <td>   -0.4693</td> <td>    0.314</td> <td>   -1.494</td> <td> 0.135</td> <td>   -1.085</td> <td>    0.147</td>\n",
              "</tr>\n",
              "<tr>\n",
              "  <th>Specialization_Rural and Agribusiness</th>                <td>    0.4286</td> <td>    0.360</td> <td>    1.190</td> <td> 0.234</td> <td>   -0.277</td> <td>    1.134</td>\n",
              "</tr>\n",
              "<tr>\n",
              "  <th>What is your current occupation_Working Professional</th> <td>    2.8342</td> <td>    0.181</td> <td>   15.695</td> <td> 0.000</td> <td>    2.480</td> <td>    3.188</td>\n",
              "</tr>\n",
              "</table>"
            ],
            "text/plain": [
              "<class 'statsmodels.iolib.summary.Summary'>\n",
              "\"\"\"\n",
              "                 Generalized Linear Model Regression Results                  \n",
              "==============================================================================\n",
              "Dep. Variable:              Converted   No. Observations:                 6468\n",
              "Model:                            GLM   Df Residuals:                     6454\n",
              "Model Family:                Binomial   Df Model:                           13\n",
              "Link Function:                  logit   Scale:                          1.0000\n",
              "Method:                          IRLS   Log-Likelihood:                -3051.8\n",
              "Date:                Tue, 10 Aug 2021   Deviance:                       6103.5\n",
              "Time:                        15:41:28   Pearson chi2:                 8.57e+03\n",
              "No. Iterations:                     6                                         \n",
              "Covariance Type:            nonrobust                                         \n",
              "========================================================================================================================\n",
              "                                                           coef    std err          z      P>|z|      [0.025      0.975]\n",
              "------------------------------------------------------------------------------------------------------------------------\n",
              "const                                                   -2.2546      0.099    -22.722      0.000      -2.449      -2.060\n",
              "TotalVisits                                              4.7324      1.935      2.446      0.014       0.940       8.525\n",
              "Total Time Spent on Website                              4.5597      0.154     29.613      0.000       4.258       4.862\n",
              "Page Views Per Visit                                    -1.0632      1.124     -0.946      0.344      -3.265       1.139\n",
              "Lead Origin_Lead Add Form                                4.3695      0.190     23.039      0.000       3.998       4.741\n",
              "Lead Source_Google                                       0.4554      0.082      5.563      0.000       0.295       0.616\n",
              "Lead Source_Olark Chat                                   1.2126      0.121     10.035      0.000       0.976       1.449\n",
              "Lead Source_Organic Search                               0.2995      0.111      2.707      0.007       0.083       0.516\n",
              "Specialization_Finance Management                       -0.3580      0.075     -4.788      0.000      -0.505      -0.211\n",
              "Specialization_Hospitality Management                   -1.0652      0.309     -3.448      0.001      -1.671      -0.460\n",
              "Specialization_International Business                   -0.3768      0.248     -1.517      0.129      -0.864       0.110\n",
              "Specialization_Retail Management                        -0.4693      0.314     -1.494      0.135      -1.085       0.147\n",
              "Specialization_Rural and Agribusiness                    0.4286      0.360      1.190      0.234      -0.277       1.134\n",
              "What is your current occupation_Working Professional     2.8342      0.181     15.695      0.000       2.480       3.188\n",
              "========================================================================================================================\n",
              "\"\"\""
            ]
          },
          "metadata": {
            "tags": []
          },
          "execution_count": 255
        }
      ]
    },
    {
      "cell_type": "code",
      "metadata": {
        "id": "ENERQJuM95zZ"
      },
      "source": [
        "X_train5 = X_train5.drop(['const'], axis=1)"
      ],
      "execution_count": 256,
      "outputs": []
    },
    {
      "cell_type": "code",
      "metadata": {
        "colab": {
          "base_uri": "https://localhost:8080/",
          "height": 437
        },
        "id": "4p7BMf3x98VQ",
        "outputId": "c991a68c-6f46-4cb1-b363-9b056726d608"
      },
      "source": [
        "vif = pd.DataFrame()\n",
        "vif['Features'] = X_train5.columns\n",
        "vif['VIF'] = [variance_inflation_factor(X_train5.values, i) for i in range(X_train5.shape[1])]\n",
        "vif['VIF'] = round(vif['VIF'], 2)\n",
        "vif = vif.sort_values(by = \"VIF\", ascending = False)\n",
        "vif"
      ],
      "execution_count": 257,
      "outputs": [
        {
          "output_type": "execute_result",
          "data": {
            "text/html": [
              "<div>\n",
              "<style scoped>\n",
              "    .dataframe tbody tr th:only-of-type {\n",
              "        vertical-align: middle;\n",
              "    }\n",
              "\n",
              "    .dataframe tbody tr th {\n",
              "        vertical-align: top;\n",
              "    }\n",
              "\n",
              "    .dataframe thead th {\n",
              "        text-align: right;\n",
              "    }\n",
              "</style>\n",
              "<table border=\"1\" class=\"dataframe\">\n",
              "  <thead>\n",
              "    <tr style=\"text-align: right;\">\n",
              "      <th></th>\n",
              "      <th>Features</th>\n",
              "      <th>VIF</th>\n",
              "    </tr>\n",
              "  </thead>\n",
              "  <tbody>\n",
              "    <tr>\n",
              "      <th>2</th>\n",
              "      <td>Page Views Per Visit</td>\n",
              "      <td>3.00</td>\n",
              "    </tr>\n",
              "    <tr>\n",
              "      <th>7</th>\n",
              "      <td>Specialization_Finance Management</td>\n",
              "      <td>2.27</td>\n",
              "    </tr>\n",
              "    <tr>\n",
              "      <th>1</th>\n",
              "      <td>Total Time Spent on Website</td>\n",
              "      <td>1.92</td>\n",
              "    </tr>\n",
              "    <tr>\n",
              "      <th>4</th>\n",
              "      <td>Lead Source_Google</td>\n",
              "      <td>1.87</td>\n",
              "    </tr>\n",
              "    <tr>\n",
              "      <th>0</th>\n",
              "      <td>TotalVisits</td>\n",
              "      <td>1.85</td>\n",
              "    </tr>\n",
              "    <tr>\n",
              "      <th>5</th>\n",
              "      <td>Lead Source_Olark Chat</td>\n",
              "      <td>1.72</td>\n",
              "    </tr>\n",
              "    <tr>\n",
              "      <th>6</th>\n",
              "      <td>Lead Source_Organic Search</td>\n",
              "      <td>1.46</td>\n",
              "    </tr>\n",
              "    <tr>\n",
              "      <th>3</th>\n",
              "      <td>Lead Origin_Lead Add Form</td>\n",
              "      <td>1.19</td>\n",
              "    </tr>\n",
              "    <tr>\n",
              "      <th>12</th>\n",
              "      <td>What is your current occupation_Working Profes...</td>\n",
              "      <td>1.16</td>\n",
              "    </tr>\n",
              "    <tr>\n",
              "      <th>9</th>\n",
              "      <td>Specialization_International Business</td>\n",
              "      <td>1.03</td>\n",
              "    </tr>\n",
              "    <tr>\n",
              "      <th>8</th>\n",
              "      <td>Specialization_Hospitality Management</td>\n",
              "      <td>1.02</td>\n",
              "    </tr>\n",
              "    <tr>\n",
              "      <th>10</th>\n",
              "      <td>Specialization_Retail Management</td>\n",
              "      <td>1.02</td>\n",
              "    </tr>\n",
              "    <tr>\n",
              "      <th>11</th>\n",
              "      <td>Specialization_Rural and Agribusiness</td>\n",
              "      <td>1.02</td>\n",
              "    </tr>\n",
              "  </tbody>\n",
              "</table>\n",
              "</div>"
            ],
            "text/plain": [
              "                                             Features   VIF\n",
              "2                                Page Views Per Visit  3.00\n",
              "7                   Specialization_Finance Management  2.27\n",
              "1                         Total Time Spent on Website  1.92\n",
              "4                                  Lead Source_Google  1.87\n",
              "0                                         TotalVisits  1.85\n",
              "5                              Lead Source_Olark Chat  1.72\n",
              "6                          Lead Source_Organic Search  1.46\n",
              "3                           Lead Origin_Lead Add Form  1.19\n",
              "12  What is your current occupation_Working Profes...  1.16\n",
              "9               Specialization_International Business  1.03\n",
              "8               Specialization_Hospitality Management  1.02\n",
              "10                   Specialization_Retail Management  1.02\n",
              "11              Specialization_Rural and Agribusiness  1.02"
            ]
          },
          "metadata": {
            "tags": []
          },
          "execution_count": 257
        }
      ]
    },
    {
      "cell_type": "code",
      "metadata": {
        "id": "EI7X-_vH-FW1"
      },
      "source": [
        "X_train5 = X_train5.drop(['Page Views Per Visit'], axis = 1)"
      ],
      "execution_count": 258,
      "outputs": []
    },
    {
      "cell_type": "markdown",
      "metadata": {
        "id": "wIowmSWz-NR2"
      },
      "source": [
        "###Iteration 6:"
      ]
    },
    {
      "cell_type": "code",
      "metadata": {
        "id": "Q5Fy2Oe5-OTK"
      },
      "source": [
        "X_train6 = sm.add_constant(X_train5)"
      ],
      "execution_count": 259,
      "outputs": []
    },
    {
      "cell_type": "code",
      "metadata": {
        "colab": {
          "base_uri": "https://localhost:8080/",
          "height": 444
        },
        "id": "A_9Aut2m-TTC",
        "outputId": "47c4aee8-73fa-4e53-a937-941355ee90b5"
      },
      "source": [
        "res = sm.GLM(y_train, X_train6, family = sm.families.Binomial()).fit()\n",
        "res.summary()"
      ],
      "execution_count": 260,
      "outputs": [
        {
          "output_type": "execute_result",
          "data": {
            "text/html": [
              "<table class=\"simpletable\">\n",
              "<caption>Generalized Linear Model Regression Results</caption>\n",
              "<tr>\n",
              "  <th>Dep. Variable:</th>       <td>Converted</td>    <th>  No. Observations:  </th>  <td>  6468</td> \n",
              "</tr>\n",
              "<tr>\n",
              "  <th>Model:</th>                  <td>GLM</td>       <th>  Df Residuals:      </th>  <td>  6455</td> \n",
              "</tr>\n",
              "<tr>\n",
              "  <th>Model Family:</th>        <td>Binomial</td>     <th>  Df Model:          </th>  <td>    12</td> \n",
              "</tr>\n",
              "<tr>\n",
              "  <th>Link Function:</th>         <td>logit</td>      <th>  Scale:             </th> <td>  1.0000</td>\n",
              "</tr>\n",
              "<tr>\n",
              "  <th>Method:</th>                <td>IRLS</td>       <th>  Log-Likelihood:    </th> <td> -3052.2</td>\n",
              "</tr>\n",
              "<tr>\n",
              "  <th>Date:</th>            <td>Tue, 10 Aug 2021</td> <th>  Deviance:          </th> <td>  6104.4</td>\n",
              "</tr>\n",
              "<tr>\n",
              "  <th>Time:</th>                <td>15:41:28</td>     <th>  Pearson chi2:      </th> <td>8.61e+03</td>\n",
              "</tr>\n",
              "<tr>\n",
              "  <th>No. Iterations:</th>          <td>6</td>        <th>                     </th>     <td> </td>   \n",
              "</tr>\n",
              "<tr>\n",
              "  <th>Covariance Type:</th>     <td>nonrobust</td>    <th>                     </th>     <td> </td>   \n",
              "</tr>\n",
              "</table>\n",
              "<table class=\"simpletable\">\n",
              "<tr>\n",
              "                            <td></td>                              <th>coef</th>     <th>std err</th>      <th>z</th>      <th>P>|z|</th>  <th>[0.025</th>    <th>0.975]</th>  \n",
              "</tr>\n",
              "<tr>\n",
              "  <th>const</th>                                                <td>   -2.3003</td> <td>    0.087</td> <td>  -26.550</td> <td> 0.000</td> <td>   -2.470</td> <td>   -2.131</td>\n",
              "</tr>\n",
              "<tr>\n",
              "  <th>TotalVisits</th>                                          <td>    4.0802</td> <td>    1.649</td> <td>    2.474</td> <td> 0.013</td> <td>    0.848</td> <td>    7.313</td>\n",
              "</tr>\n",
              "<tr>\n",
              "  <th>Total Time Spent on Website</th>                          <td>    4.5545</td> <td>    0.154</td> <td>   29.608</td> <td> 0.000</td> <td>    4.253</td> <td>    4.856</td>\n",
              "</tr>\n",
              "<tr>\n",
              "  <th>Lead Origin_Lead Add Form</th>                            <td>    4.4059</td> <td>    0.186</td> <td>   23.721</td> <td> 0.000</td> <td>    4.042</td> <td>    4.770</td>\n",
              "</tr>\n",
              "<tr>\n",
              "  <th>Lead Source_Google</th>                                   <td>    0.4507</td> <td>    0.082</td> <td>    5.517</td> <td> 0.000</td> <td>    0.291</td> <td>    0.611</td>\n",
              "</tr>\n",
              "<tr>\n",
              "  <th>Lead Source_Olark Chat</th>                               <td>    1.2466</td> <td>    0.115</td> <td>   10.801</td> <td> 0.000</td> <td>    1.020</td> <td>    1.473</td>\n",
              "</tr>\n",
              "<tr>\n",
              "  <th>Lead Source_Organic Search</th>                           <td>    0.2790</td> <td>    0.108</td> <td>    2.575</td> <td> 0.010</td> <td>    0.067</td> <td>    0.491</td>\n",
              "</tr>\n",
              "<tr>\n",
              "  <th>Specialization_Finance Management</th>                    <td>   -0.3470</td> <td>    0.074</td> <td>   -4.699</td> <td> 0.000</td> <td>   -0.492</td> <td>   -0.202</td>\n",
              "</tr>\n",
              "<tr>\n",
              "  <th>Specialization_Hospitality Management</th>                <td>   -1.0652</td> <td>    0.309</td> <td>   -3.449</td> <td> 0.001</td> <td>   -1.671</td> <td>   -0.460</td>\n",
              "</tr>\n",
              "<tr>\n",
              "  <th>Specialization_International Business</th>                <td>   -0.3817</td> <td>    0.248</td> <td>   -1.537</td> <td> 0.124</td> <td>   -0.868</td> <td>    0.105</td>\n",
              "</tr>\n",
              "<tr>\n",
              "  <th>Specialization_Retail Management</th>                     <td>   -0.4701</td> <td>    0.315</td> <td>   -1.495</td> <td> 0.135</td> <td>   -1.087</td> <td>    0.146</td>\n",
              "</tr>\n",
              "<tr>\n",
              "  <th>Specialization_Rural and Agribusiness</th>                <td>    0.4472</td> <td>    0.359</td> <td>    1.246</td> <td> 0.213</td> <td>   -0.256</td> <td>    1.151</td>\n",
              "</tr>\n",
              "<tr>\n",
              "  <th>What is your current occupation_Working Professional</th> <td>    2.8333</td> <td>    0.181</td> <td>   15.693</td> <td> 0.000</td> <td>    2.479</td> <td>    3.187</td>\n",
              "</tr>\n",
              "</table>"
            ],
            "text/plain": [
              "<class 'statsmodels.iolib.summary.Summary'>\n",
              "\"\"\"\n",
              "                 Generalized Linear Model Regression Results                  \n",
              "==============================================================================\n",
              "Dep. Variable:              Converted   No. Observations:                 6468\n",
              "Model:                            GLM   Df Residuals:                     6455\n",
              "Model Family:                Binomial   Df Model:                           12\n",
              "Link Function:                  logit   Scale:                          1.0000\n",
              "Method:                          IRLS   Log-Likelihood:                -3052.2\n",
              "Date:                Tue, 10 Aug 2021   Deviance:                       6104.4\n",
              "Time:                        15:41:28   Pearson chi2:                 8.61e+03\n",
              "No. Iterations:                     6                                         \n",
              "Covariance Type:            nonrobust                                         \n",
              "========================================================================================================================\n",
              "                                                           coef    std err          z      P>|z|      [0.025      0.975]\n",
              "------------------------------------------------------------------------------------------------------------------------\n",
              "const                                                   -2.3003      0.087    -26.550      0.000      -2.470      -2.131\n",
              "TotalVisits                                              4.0802      1.649      2.474      0.013       0.848       7.313\n",
              "Total Time Spent on Website                              4.5545      0.154     29.608      0.000       4.253       4.856\n",
              "Lead Origin_Lead Add Form                                4.4059      0.186     23.721      0.000       4.042       4.770\n",
              "Lead Source_Google                                       0.4507      0.082      5.517      0.000       0.291       0.611\n",
              "Lead Source_Olark Chat                                   1.2466      0.115     10.801      0.000       1.020       1.473\n",
              "Lead Source_Organic Search                               0.2790      0.108      2.575      0.010       0.067       0.491\n",
              "Specialization_Finance Management                       -0.3470      0.074     -4.699      0.000      -0.492      -0.202\n",
              "Specialization_Hospitality Management                   -1.0652      0.309     -3.449      0.001      -1.671      -0.460\n",
              "Specialization_International Business                   -0.3817      0.248     -1.537      0.124      -0.868       0.105\n",
              "Specialization_Retail Management                        -0.4701      0.315     -1.495      0.135      -1.087       0.146\n",
              "Specialization_Rural and Agribusiness                    0.4472      0.359      1.246      0.213      -0.256       1.151\n",
              "What is your current occupation_Working Professional     2.8333      0.181     15.693      0.000       2.479       3.187\n",
              "========================================================================================================================\n",
              "\"\"\""
            ]
          },
          "metadata": {
            "tags": []
          },
          "execution_count": 260
        }
      ]
    },
    {
      "cell_type": "code",
      "metadata": {
        "id": "j6zi8hKl-k6w"
      },
      "source": [
        "X_train6 = X_train6.drop(['const'], axis=1)"
      ],
      "execution_count": 261,
      "outputs": []
    },
    {
      "cell_type": "code",
      "metadata": {
        "colab": {
          "base_uri": "https://localhost:8080/",
          "height": 407
        },
        "id": "AmTR5ir3-oVH",
        "outputId": "b9f7a99d-a0a4-474a-f236-5e17e181a74e"
      },
      "source": [
        "vif = pd.DataFrame()\n",
        "vif['Features'] = X_train6.columns\n",
        "vif['VIF'] = [variance_inflation_factor(X_train6.values, i) for i in range(X_train6.shape[1])]\n",
        "vif['VIF'] = round(vif['VIF'], 2)\n",
        "vif = vif.sort_values(by = \"VIF\", ascending = False)\n",
        "vif"
      ],
      "execution_count": 262,
      "outputs": [
        {
          "output_type": "execute_result",
          "data": {
            "text/html": [
              "<div>\n",
              "<style scoped>\n",
              "    .dataframe tbody tr th:only-of-type {\n",
              "        vertical-align: middle;\n",
              "    }\n",
              "\n",
              "    .dataframe tbody tr th {\n",
              "        vertical-align: top;\n",
              "    }\n",
              "\n",
              "    .dataframe thead th {\n",
              "        text-align: right;\n",
              "    }\n",
              "</style>\n",
              "<table border=\"1\" class=\"dataframe\">\n",
              "  <thead>\n",
              "    <tr style=\"text-align: right;\">\n",
              "      <th></th>\n",
              "      <th>Features</th>\n",
              "      <th>VIF</th>\n",
              "    </tr>\n",
              "  </thead>\n",
              "  <tbody>\n",
              "    <tr>\n",
              "      <th>6</th>\n",
              "      <td>Specialization_Finance Management</td>\n",
              "      <td>2.27</td>\n",
              "    </tr>\n",
              "    <tr>\n",
              "      <th>1</th>\n",
              "      <td>Total Time Spent on Website</td>\n",
              "      <td>1.73</td>\n",
              "    </tr>\n",
              "    <tr>\n",
              "      <th>4</th>\n",
              "      <td>Lead Source_Olark Chat</td>\n",
              "      <td>1.72</td>\n",
              "    </tr>\n",
              "    <tr>\n",
              "      <th>3</th>\n",
              "      <td>Lead Source_Google</td>\n",
              "      <td>1.71</td>\n",
              "    </tr>\n",
              "    <tr>\n",
              "      <th>0</th>\n",
              "      <td>TotalVisits</td>\n",
              "      <td>1.46</td>\n",
              "    </tr>\n",
              "    <tr>\n",
              "      <th>5</th>\n",
              "      <td>Lead Source_Organic Search</td>\n",
              "      <td>1.29</td>\n",
              "    </tr>\n",
              "    <tr>\n",
              "      <th>2</th>\n",
              "      <td>Lead Origin_Lead Add Form</td>\n",
              "      <td>1.19</td>\n",
              "    </tr>\n",
              "    <tr>\n",
              "      <th>11</th>\n",
              "      <td>What is your current occupation_Working Profes...</td>\n",
              "      <td>1.16</td>\n",
              "    </tr>\n",
              "    <tr>\n",
              "      <th>7</th>\n",
              "      <td>Specialization_Hospitality Management</td>\n",
              "      <td>1.02</td>\n",
              "    </tr>\n",
              "    <tr>\n",
              "      <th>8</th>\n",
              "      <td>Specialization_International Business</td>\n",
              "      <td>1.02</td>\n",
              "    </tr>\n",
              "    <tr>\n",
              "      <th>9</th>\n",
              "      <td>Specialization_Retail Management</td>\n",
              "      <td>1.02</td>\n",
              "    </tr>\n",
              "    <tr>\n",
              "      <th>10</th>\n",
              "      <td>Specialization_Rural and Agribusiness</td>\n",
              "      <td>1.02</td>\n",
              "    </tr>\n",
              "  </tbody>\n",
              "</table>\n",
              "</div>"
            ],
            "text/plain": [
              "                                             Features   VIF\n",
              "6                   Specialization_Finance Management  2.27\n",
              "1                         Total Time Spent on Website  1.73\n",
              "4                              Lead Source_Olark Chat  1.72\n",
              "3                                  Lead Source_Google  1.71\n",
              "0                                         TotalVisits  1.46\n",
              "5                          Lead Source_Organic Search  1.29\n",
              "2                           Lead Origin_Lead Add Form  1.19\n",
              "11  What is your current occupation_Working Profes...  1.16\n",
              "7               Specialization_Hospitality Management  1.02\n",
              "8               Specialization_International Business  1.02\n",
              "9                    Specialization_Retail Management  1.02\n",
              "10              Specialization_Rural and Agribusiness  1.02"
            ]
          },
          "metadata": {
            "tags": []
          },
          "execution_count": 262
        }
      ]
    },
    {
      "cell_type": "code",
      "metadata": {
        "id": "L-mpl8qk-rR0"
      },
      "source": [
        "X_train6 = X_train6.drop(['Specialization_Rural and Agribusiness'], axis = 1)"
      ],
      "execution_count": 263,
      "outputs": []
    },
    {
      "cell_type": "markdown",
      "metadata": {
        "id": "5ExvuYRL-0Fh"
      },
      "source": [
        "###Iteration 7:"
      ]
    },
    {
      "cell_type": "code",
      "metadata": {
        "id": "kYUAXZaO-0-S"
      },
      "source": [
        "X_train7 = sm.add_constant(X_train6)"
      ],
      "execution_count": 264,
      "outputs": []
    },
    {
      "cell_type": "code",
      "metadata": {
        "colab": {
          "base_uri": "https://localhost:8080/",
          "height": 426
        },
        "id": "MSyd0Dkl-3ps",
        "outputId": "7dfe048b-8ab0-405d-c6fd-80639717f6a1"
      },
      "source": [
        "res = sm.GLM(y_train, X_train7, family = sm.families.Binomial()).fit()\n",
        "res.summary()"
      ],
      "execution_count": 265,
      "outputs": [
        {
          "output_type": "execute_result",
          "data": {
            "text/html": [
              "<table class=\"simpletable\">\n",
              "<caption>Generalized Linear Model Regression Results</caption>\n",
              "<tr>\n",
              "  <th>Dep. Variable:</th>       <td>Converted</td>    <th>  No. Observations:  </th>  <td>  6468</td> \n",
              "</tr>\n",
              "<tr>\n",
              "  <th>Model:</th>                  <td>GLM</td>       <th>  Df Residuals:      </th>  <td>  6456</td> \n",
              "</tr>\n",
              "<tr>\n",
              "  <th>Model Family:</th>        <td>Binomial</td>     <th>  Df Model:          </th>  <td>    11</td> \n",
              "</tr>\n",
              "<tr>\n",
              "  <th>Link Function:</th>         <td>logit</td>      <th>  Scale:             </th> <td>  1.0000</td>\n",
              "</tr>\n",
              "<tr>\n",
              "  <th>Method:</th>                <td>IRLS</td>       <th>  Log-Likelihood:    </th> <td> -3053.0</td>\n",
              "</tr>\n",
              "<tr>\n",
              "  <th>Date:</th>            <td>Tue, 10 Aug 2021</td> <th>  Deviance:          </th> <td>  6106.0</td>\n",
              "</tr>\n",
              "<tr>\n",
              "  <th>Time:</th>                <td>15:41:28</td>     <th>  Pearson chi2:      </th> <td>8.63e+03</td>\n",
              "</tr>\n",
              "<tr>\n",
              "  <th>No. Iterations:</th>          <td>6</td>        <th>                     </th>     <td> </td>   \n",
              "</tr>\n",
              "<tr>\n",
              "  <th>Covariance Type:</th>     <td>nonrobust</td>    <th>                     </th>     <td> </td>   \n",
              "</tr>\n",
              "</table>\n",
              "<table class=\"simpletable\">\n",
              "<tr>\n",
              "                            <td></td>                              <th>coef</th>     <th>std err</th>      <th>z</th>      <th>P>|z|</th>  <th>[0.025</th>    <th>0.975]</th>  \n",
              "</tr>\n",
              "<tr>\n",
              "  <th>const</th>                                                <td>   -2.2953</td> <td>    0.087</td> <td>  -26.488</td> <td> 0.000</td> <td>   -2.465</td> <td>   -2.125</td>\n",
              "</tr>\n",
              "<tr>\n",
              "  <th>TotalVisits</th>                                          <td>    4.2204</td> <td>    1.673</td> <td>    2.523</td> <td> 0.012</td> <td>    0.942</td> <td>    7.499</td>\n",
              "</tr>\n",
              "<tr>\n",
              "  <th>Total Time Spent on Website</th>                          <td>    4.5519</td> <td>    0.154</td> <td>   29.605</td> <td> 0.000</td> <td>    4.251</td> <td>    4.853</td>\n",
              "</tr>\n",
              "<tr>\n",
              "  <th>Lead Origin_Lead Add Form</th>                            <td>    4.4077</td> <td>    0.186</td> <td>   23.726</td> <td> 0.000</td> <td>    4.044</td> <td>    4.772</td>\n",
              "</tr>\n",
              "<tr>\n",
              "  <th>Lead Source_Google</th>                                   <td>    0.4492</td> <td>    0.082</td> <td>    5.500</td> <td> 0.000</td> <td>    0.289</td> <td>    0.609</td>\n",
              "</tr>\n",
              "<tr>\n",
              "  <th>Lead Source_Olark Chat</th>                               <td>    1.2489</td> <td>    0.115</td> <td>   10.814</td> <td> 0.000</td> <td>    1.023</td> <td>    1.475</td>\n",
              "</tr>\n",
              "<tr>\n",
              "  <th>Lead Source_Organic Search</th>                           <td>    0.2835</td> <td>    0.108</td> <td>    2.619</td> <td> 0.009</td> <td>    0.071</td> <td>    0.496</td>\n",
              "</tr>\n",
              "<tr>\n",
              "  <th>Specialization_Finance Management</th>                    <td>   -0.3538</td> <td>    0.074</td> <td>   -4.805</td> <td> 0.000</td> <td>   -0.498</td> <td>   -0.209</td>\n",
              "</tr>\n",
              "<tr>\n",
              "  <th>Specialization_Hospitality Management</th>                <td>   -1.0720</td> <td>    0.309</td> <td>   -3.472</td> <td> 0.001</td> <td>   -1.677</td> <td>   -0.467</td>\n",
              "</tr>\n",
              "<tr>\n",
              "  <th>Specialization_International Business</th>                <td>   -0.3886</td> <td>    0.248</td> <td>   -1.565</td> <td> 0.117</td> <td>   -0.875</td> <td>    0.098</td>\n",
              "</tr>\n",
              "<tr>\n",
              "  <th>Specialization_Retail Management</th>                     <td>   -0.4772</td> <td>    0.314</td> <td>   -1.518</td> <td> 0.129</td> <td>   -1.093</td> <td>    0.139</td>\n",
              "</tr>\n",
              "<tr>\n",
              "  <th>What is your current occupation_Working Professional</th> <td>    2.8306</td> <td>    0.180</td> <td>   15.683</td> <td> 0.000</td> <td>    2.477</td> <td>    3.184</td>\n",
              "</tr>\n",
              "</table>"
            ],
            "text/plain": [
              "<class 'statsmodels.iolib.summary.Summary'>\n",
              "\"\"\"\n",
              "                 Generalized Linear Model Regression Results                  \n",
              "==============================================================================\n",
              "Dep. Variable:              Converted   No. Observations:                 6468\n",
              "Model:                            GLM   Df Residuals:                     6456\n",
              "Model Family:                Binomial   Df Model:                           11\n",
              "Link Function:                  logit   Scale:                          1.0000\n",
              "Method:                          IRLS   Log-Likelihood:                -3053.0\n",
              "Date:                Tue, 10 Aug 2021   Deviance:                       6106.0\n",
              "Time:                        15:41:28   Pearson chi2:                 8.63e+03\n",
              "No. Iterations:                     6                                         \n",
              "Covariance Type:            nonrobust                                         \n",
              "========================================================================================================================\n",
              "                                                           coef    std err          z      P>|z|      [0.025      0.975]\n",
              "------------------------------------------------------------------------------------------------------------------------\n",
              "const                                                   -2.2953      0.087    -26.488      0.000      -2.465      -2.125\n",
              "TotalVisits                                              4.2204      1.673      2.523      0.012       0.942       7.499\n",
              "Total Time Spent on Website                              4.5519      0.154     29.605      0.000       4.251       4.853\n",
              "Lead Origin_Lead Add Form                                4.4077      0.186     23.726      0.000       4.044       4.772\n",
              "Lead Source_Google                                       0.4492      0.082      5.500      0.000       0.289       0.609\n",
              "Lead Source_Olark Chat                                   1.2489      0.115     10.814      0.000       1.023       1.475\n",
              "Lead Source_Organic Search                               0.2835      0.108      2.619      0.009       0.071       0.496\n",
              "Specialization_Finance Management                       -0.3538      0.074     -4.805      0.000      -0.498      -0.209\n",
              "Specialization_Hospitality Management                   -1.0720      0.309     -3.472      0.001      -1.677      -0.467\n",
              "Specialization_International Business                   -0.3886      0.248     -1.565      0.117      -0.875       0.098\n",
              "Specialization_Retail Management                        -0.4772      0.314     -1.518      0.129      -1.093       0.139\n",
              "What is your current occupation_Working Professional     2.8306      0.180     15.683      0.000       2.477       3.184\n",
              "========================================================================================================================\n",
              "\"\"\""
            ]
          },
          "metadata": {
            "tags": []
          },
          "execution_count": 265
        }
      ]
    },
    {
      "cell_type": "code",
      "metadata": {
        "id": "RrdyHZT4-96z"
      },
      "source": [
        "X_train7 = X_train7.drop(['const'], axis=1)"
      ],
      "execution_count": 266,
      "outputs": []
    },
    {
      "cell_type": "code",
      "metadata": {
        "colab": {
          "base_uri": "https://localhost:8080/",
          "height": 377
        },
        "id": "LdkQWYCH-_Vw",
        "outputId": "2dbffa7b-9963-4ea2-d3e7-106991bfafc2"
      },
      "source": [
        "vif = pd.DataFrame()\n",
        "vif['Features'] = X_train7.columns\n",
        "vif['VIF'] = [variance_inflation_factor(X_train7.values, i) for i in range(X_train7.shape[1])]\n",
        "vif['VIF'] = round(vif['VIF'], 2)\n",
        "vif = vif.sort_values(by = \"VIF\", ascending = False)\n",
        "vif"
      ],
      "execution_count": 267,
      "outputs": [
        {
          "output_type": "execute_result",
          "data": {
            "text/html": [
              "<div>\n",
              "<style scoped>\n",
              "    .dataframe tbody tr th:only-of-type {\n",
              "        vertical-align: middle;\n",
              "    }\n",
              "\n",
              "    .dataframe tbody tr th {\n",
              "        vertical-align: top;\n",
              "    }\n",
              "\n",
              "    .dataframe thead th {\n",
              "        text-align: right;\n",
              "    }\n",
              "</style>\n",
              "<table border=\"1\" class=\"dataframe\">\n",
              "  <thead>\n",
              "    <tr style=\"text-align: right;\">\n",
              "      <th></th>\n",
              "      <th>Features</th>\n",
              "      <th>VIF</th>\n",
              "    </tr>\n",
              "  </thead>\n",
              "  <tbody>\n",
              "    <tr>\n",
              "      <th>6</th>\n",
              "      <td>Specialization_Finance Management</td>\n",
              "      <td>2.26</td>\n",
              "    </tr>\n",
              "    <tr>\n",
              "      <th>1</th>\n",
              "      <td>Total Time Spent on Website</td>\n",
              "      <td>1.73</td>\n",
              "    </tr>\n",
              "    <tr>\n",
              "      <th>3</th>\n",
              "      <td>Lead Source_Google</td>\n",
              "      <td>1.71</td>\n",
              "    </tr>\n",
              "    <tr>\n",
              "      <th>4</th>\n",
              "      <td>Lead Source_Olark Chat</td>\n",
              "      <td>1.71</td>\n",
              "    </tr>\n",
              "    <tr>\n",
              "      <th>0</th>\n",
              "      <td>TotalVisits</td>\n",
              "      <td>1.45</td>\n",
              "    </tr>\n",
              "    <tr>\n",
              "      <th>5</th>\n",
              "      <td>Lead Source_Organic Search</td>\n",
              "      <td>1.28</td>\n",
              "    </tr>\n",
              "    <tr>\n",
              "      <th>2</th>\n",
              "      <td>Lead Origin_Lead Add Form</td>\n",
              "      <td>1.19</td>\n",
              "    </tr>\n",
              "    <tr>\n",
              "      <th>10</th>\n",
              "      <td>What is your current occupation_Working Profes...</td>\n",
              "      <td>1.16</td>\n",
              "    </tr>\n",
              "    <tr>\n",
              "      <th>7</th>\n",
              "      <td>Specialization_Hospitality Management</td>\n",
              "      <td>1.02</td>\n",
              "    </tr>\n",
              "    <tr>\n",
              "      <th>8</th>\n",
              "      <td>Specialization_International Business</td>\n",
              "      <td>1.02</td>\n",
              "    </tr>\n",
              "    <tr>\n",
              "      <th>9</th>\n",
              "      <td>Specialization_Retail Management</td>\n",
              "      <td>1.02</td>\n",
              "    </tr>\n",
              "  </tbody>\n",
              "</table>\n",
              "</div>"
            ],
            "text/plain": [
              "                                             Features   VIF\n",
              "6                   Specialization_Finance Management  2.26\n",
              "1                         Total Time Spent on Website  1.73\n",
              "3                                  Lead Source_Google  1.71\n",
              "4                              Lead Source_Olark Chat  1.71\n",
              "0                                         TotalVisits  1.45\n",
              "5                          Lead Source_Organic Search  1.28\n",
              "2                           Lead Origin_Lead Add Form  1.19\n",
              "10  What is your current occupation_Working Profes...  1.16\n",
              "7               Specialization_Hospitality Management  1.02\n",
              "8               Specialization_International Business  1.02\n",
              "9                    Specialization_Retail Management  1.02"
            ]
          },
          "metadata": {
            "tags": []
          },
          "execution_count": 267
        }
      ]
    },
    {
      "cell_type": "code",
      "metadata": {
        "id": "BI02oAp__CTN"
      },
      "source": [
        "X_train7 = X_train7.drop(['Specialization_Retail Management'], axis = 1)"
      ],
      "execution_count": 268,
      "outputs": []
    },
    {
      "cell_type": "markdown",
      "metadata": {
        "id": "pFZev4IT_M-T"
      },
      "source": [
        "###Iteration 8:"
      ]
    },
    {
      "cell_type": "code",
      "metadata": {
        "id": "GT3SyjAN_MkL"
      },
      "source": [
        "X_train8 = sm.add_constant(X_train7)"
      ],
      "execution_count": 269,
      "outputs": []
    },
    {
      "cell_type": "code",
      "metadata": {
        "colab": {
          "base_uri": "https://localhost:8080/",
          "height": 408
        },
        "id": "y4CrypgN_P5H",
        "outputId": "75b01bbb-332b-4526-ac2a-39be5bf96d7f"
      },
      "source": [
        "res = sm.GLM(y_train, X_train8, family = sm.families.Binomial()).fit()\n",
        "res.summary()"
      ],
      "execution_count": 270,
      "outputs": [
        {
          "output_type": "execute_result",
          "data": {
            "text/html": [
              "<table class=\"simpletable\">\n",
              "<caption>Generalized Linear Model Regression Results</caption>\n",
              "<tr>\n",
              "  <th>Dep. Variable:</th>       <td>Converted</td>    <th>  No. Observations:  </th>  <td>  6468</td> \n",
              "</tr>\n",
              "<tr>\n",
              "  <th>Model:</th>                  <td>GLM</td>       <th>  Df Residuals:      </th>  <td>  6457</td> \n",
              "</tr>\n",
              "<tr>\n",
              "  <th>Model Family:</th>        <td>Binomial</td>     <th>  Df Model:          </th>  <td>    10</td> \n",
              "</tr>\n",
              "<tr>\n",
              "  <th>Link Function:</th>         <td>logit</td>      <th>  Scale:             </th> <td>  1.0000</td>\n",
              "</tr>\n",
              "<tr>\n",
              "  <th>Method:</th>                <td>IRLS</td>       <th>  Log-Likelihood:    </th> <td> -3054.2</td>\n",
              "</tr>\n",
              "<tr>\n",
              "  <th>Date:</th>            <td>Tue, 10 Aug 2021</td> <th>  Deviance:          </th> <td>  6108.3</td>\n",
              "</tr>\n",
              "<tr>\n",
              "  <th>Time:</th>                <td>15:41:28</td>     <th>  Pearson chi2:      </th> <td>8.62e+03</td>\n",
              "</tr>\n",
              "<tr>\n",
              "  <th>No. Iterations:</th>          <td>6</td>        <th>                     </th>     <td> </td>   \n",
              "</tr>\n",
              "<tr>\n",
              "  <th>Covariance Type:</th>     <td>nonrobust</td>    <th>                     </th>     <td> </td>   \n",
              "</tr>\n",
              "</table>\n",
              "<table class=\"simpletable\">\n",
              "<tr>\n",
              "                            <td></td>                              <th>coef</th>     <th>std err</th>      <th>z</th>      <th>P>|z|</th>  <th>[0.025</th>    <th>0.975]</th>  \n",
              "</tr>\n",
              "<tr>\n",
              "  <th>const</th>                                                <td>   -2.3029</td> <td>    0.086</td> <td>  -26.625</td> <td> 0.000</td> <td>   -2.472</td> <td>   -2.133</td>\n",
              "</tr>\n",
              "<tr>\n",
              "  <th>TotalVisits</th>                                          <td>    4.1911</td> <td>    1.662</td> <td>    2.522</td> <td> 0.012</td> <td>    0.934</td> <td>    7.448</td>\n",
              "</tr>\n",
              "<tr>\n",
              "  <th>Total Time Spent on Website</th>                          <td>    4.5475</td> <td>    0.154</td> <td>   29.591</td> <td> 0.000</td> <td>    4.246</td> <td>    4.849</td>\n",
              "</tr>\n",
              "<tr>\n",
              "  <th>Lead Origin_Lead Add Form</th>                            <td>    4.4068</td> <td>    0.186</td> <td>   23.728</td> <td> 0.000</td> <td>    4.043</td> <td>    4.771</td>\n",
              "</tr>\n",
              "<tr>\n",
              "  <th>Lead Source_Google</th>                                   <td>    0.4480</td> <td>    0.082</td> <td>    5.487</td> <td> 0.000</td> <td>    0.288</td> <td>    0.608</td>\n",
              "</tr>\n",
              "<tr>\n",
              "  <th>Lead Source_Olark Chat</th>                               <td>    1.2466</td> <td>    0.115</td> <td>   10.798</td> <td> 0.000</td> <td>    1.020</td> <td>    1.473</td>\n",
              "</tr>\n",
              "<tr>\n",
              "  <th>Lead Source_Organic Search</th>                           <td>    0.2827</td> <td>    0.108</td> <td>    2.613</td> <td> 0.009</td> <td>    0.071</td> <td>    0.495</td>\n",
              "</tr>\n",
              "<tr>\n",
              "  <th>Specialization_Finance Management</th>                    <td>   -0.3436</td> <td>    0.073</td> <td>   -4.686</td> <td> 0.000</td> <td>   -0.487</td> <td>   -0.200</td>\n",
              "</tr>\n",
              "<tr>\n",
              "  <th>Specialization_Hospitality Management</th>                <td>   -1.0611</td> <td>    0.309</td> <td>   -3.438</td> <td> 0.001</td> <td>   -1.666</td> <td>   -0.456</td>\n",
              "</tr>\n",
              "<tr>\n",
              "  <th>Specialization_International Business</th>                <td>   -0.3782</td> <td>    0.248</td> <td>   -1.525</td> <td> 0.127</td> <td>   -0.864</td> <td>    0.108</td>\n",
              "</tr>\n",
              "<tr>\n",
              "  <th>What is your current occupation_Working Professional</th> <td>    2.8273</td> <td>    0.180</td> <td>   15.670</td> <td> 0.000</td> <td>    2.474</td> <td>    3.181</td>\n",
              "</tr>\n",
              "</table>"
            ],
            "text/plain": [
              "<class 'statsmodels.iolib.summary.Summary'>\n",
              "\"\"\"\n",
              "                 Generalized Linear Model Regression Results                  \n",
              "==============================================================================\n",
              "Dep. Variable:              Converted   No. Observations:                 6468\n",
              "Model:                            GLM   Df Residuals:                     6457\n",
              "Model Family:                Binomial   Df Model:                           10\n",
              "Link Function:                  logit   Scale:                          1.0000\n",
              "Method:                          IRLS   Log-Likelihood:                -3054.2\n",
              "Date:                Tue, 10 Aug 2021   Deviance:                       6108.3\n",
              "Time:                        15:41:28   Pearson chi2:                 8.62e+03\n",
              "No. Iterations:                     6                                         \n",
              "Covariance Type:            nonrobust                                         \n",
              "========================================================================================================================\n",
              "                                                           coef    std err          z      P>|z|      [0.025      0.975]\n",
              "------------------------------------------------------------------------------------------------------------------------\n",
              "const                                                   -2.3029      0.086    -26.625      0.000      -2.472      -2.133\n",
              "TotalVisits                                              4.1911      1.662      2.522      0.012       0.934       7.448\n",
              "Total Time Spent on Website                              4.5475      0.154     29.591      0.000       4.246       4.849\n",
              "Lead Origin_Lead Add Form                                4.4068      0.186     23.728      0.000       4.043       4.771\n",
              "Lead Source_Google                                       0.4480      0.082      5.487      0.000       0.288       0.608\n",
              "Lead Source_Olark Chat                                   1.2466      0.115     10.798      0.000       1.020       1.473\n",
              "Lead Source_Organic Search                               0.2827      0.108      2.613      0.009       0.071       0.495\n",
              "Specialization_Finance Management                       -0.3436      0.073     -4.686      0.000      -0.487      -0.200\n",
              "Specialization_Hospitality Management                   -1.0611      0.309     -3.438      0.001      -1.666      -0.456\n",
              "Specialization_International Business                   -0.3782      0.248     -1.525      0.127      -0.864       0.108\n",
              "What is your current occupation_Working Professional     2.8273      0.180     15.670      0.000       2.474       3.181\n",
              "========================================================================================================================\n",
              "\"\"\""
            ]
          },
          "metadata": {
            "tags": []
          },
          "execution_count": 270
        }
      ]
    },
    {
      "cell_type": "code",
      "metadata": {
        "id": "CRITIIyP_ade"
      },
      "source": [
        "X_train8 = X_train8.drop(['const'], axis=1)"
      ],
      "execution_count": 271,
      "outputs": []
    },
    {
      "cell_type": "code",
      "metadata": {
        "colab": {
          "base_uri": "https://localhost:8080/",
          "height": 347
        },
        "id": "NHukvNHz_cqM",
        "outputId": "3fe65e77-036e-44eb-98fd-cd1af24a13d8"
      },
      "source": [
        "vif = pd.DataFrame()\n",
        "vif['Features'] = X_train8.columns\n",
        "vif['VIF'] = [variance_inflation_factor(X_train8.values, i) for i in range(X_train8.shape[1])]\n",
        "vif['VIF'] = round(vif['VIF'], 2)\n",
        "vif = vif.sort_values(by = \"VIF\", ascending = False)\n",
        "vif"
      ],
      "execution_count": 272,
      "outputs": [
        {
          "output_type": "execute_result",
          "data": {
            "text/html": [
              "<div>\n",
              "<style scoped>\n",
              "    .dataframe tbody tr th:only-of-type {\n",
              "        vertical-align: middle;\n",
              "    }\n",
              "\n",
              "    .dataframe tbody tr th {\n",
              "        vertical-align: top;\n",
              "    }\n",
              "\n",
              "    .dataframe thead th {\n",
              "        text-align: right;\n",
              "    }\n",
              "</style>\n",
              "<table border=\"1\" class=\"dataframe\">\n",
              "  <thead>\n",
              "    <tr style=\"text-align: right;\">\n",
              "      <th></th>\n",
              "      <th>Features</th>\n",
              "      <th>VIF</th>\n",
              "    </tr>\n",
              "  </thead>\n",
              "  <tbody>\n",
              "    <tr>\n",
              "      <th>6</th>\n",
              "      <td>Specialization_Finance Management</td>\n",
              "      <td>2.25</td>\n",
              "    </tr>\n",
              "    <tr>\n",
              "      <th>1</th>\n",
              "      <td>Total Time Spent on Website</td>\n",
              "      <td>1.73</td>\n",
              "    </tr>\n",
              "    <tr>\n",
              "      <th>3</th>\n",
              "      <td>Lead Source_Google</td>\n",
              "      <td>1.71</td>\n",
              "    </tr>\n",
              "    <tr>\n",
              "      <th>4</th>\n",
              "      <td>Lead Source_Olark Chat</td>\n",
              "      <td>1.71</td>\n",
              "    </tr>\n",
              "    <tr>\n",
              "      <th>0</th>\n",
              "      <td>TotalVisits</td>\n",
              "      <td>1.45</td>\n",
              "    </tr>\n",
              "    <tr>\n",
              "      <th>5</th>\n",
              "      <td>Lead Source_Organic Search</td>\n",
              "      <td>1.28</td>\n",
              "    </tr>\n",
              "    <tr>\n",
              "      <th>2</th>\n",
              "      <td>Lead Origin_Lead Add Form</td>\n",
              "      <td>1.19</td>\n",
              "    </tr>\n",
              "    <tr>\n",
              "      <th>9</th>\n",
              "      <td>What is your current occupation_Working Profes...</td>\n",
              "      <td>1.16</td>\n",
              "    </tr>\n",
              "    <tr>\n",
              "      <th>7</th>\n",
              "      <td>Specialization_Hospitality Management</td>\n",
              "      <td>1.02</td>\n",
              "    </tr>\n",
              "    <tr>\n",
              "      <th>8</th>\n",
              "      <td>Specialization_International Business</td>\n",
              "      <td>1.02</td>\n",
              "    </tr>\n",
              "  </tbody>\n",
              "</table>\n",
              "</div>"
            ],
            "text/plain": [
              "                                            Features   VIF\n",
              "6                  Specialization_Finance Management  2.25\n",
              "1                        Total Time Spent on Website  1.73\n",
              "3                                 Lead Source_Google  1.71\n",
              "4                             Lead Source_Olark Chat  1.71\n",
              "0                                        TotalVisits  1.45\n",
              "5                         Lead Source_Organic Search  1.28\n",
              "2                          Lead Origin_Lead Add Form  1.19\n",
              "9  What is your current occupation_Working Profes...  1.16\n",
              "7              Specialization_Hospitality Management  1.02\n",
              "8              Specialization_International Business  1.02"
            ]
          },
          "metadata": {
            "tags": []
          },
          "execution_count": 272
        }
      ]
    },
    {
      "cell_type": "code",
      "metadata": {
        "id": "-s6ZXFUz_gQY"
      },
      "source": [
        "X_train8 = X_train8.drop(['Specialization_International Business'], axis = 1)"
      ],
      "execution_count": 273,
      "outputs": []
    },
    {
      "cell_type": "markdown",
      "metadata": {
        "id": "cYmdy8kO_zn-"
      },
      "source": [
        "###Iteration 9:"
      ]
    },
    {
      "cell_type": "code",
      "metadata": {
        "id": "PqHRDibJ_w2I"
      },
      "source": [
        "X_train9 = sm.add_constant(X_train8)"
      ],
      "execution_count": 274,
      "outputs": []
    },
    {
      "cell_type": "code",
      "metadata": {
        "colab": {
          "base_uri": "https://localhost:8080/",
          "height": 391
        },
        "id": "wFBI-iCR_3Mz",
        "outputId": "ee94a1dc-5b7e-445d-e033-c045d469419f"
      },
      "source": [
        "res = sm.GLM(y_train, X_train9, family = sm.families.Binomial()).fit()\n",
        "res.summary()"
      ],
      "execution_count": 275,
      "outputs": [
        {
          "output_type": "execute_result",
          "data": {
            "text/html": [
              "<table class=\"simpletable\">\n",
              "<caption>Generalized Linear Model Regression Results</caption>\n",
              "<tr>\n",
              "  <th>Dep. Variable:</th>       <td>Converted</td>    <th>  No. Observations:  </th>  <td>  6468</td> \n",
              "</tr>\n",
              "<tr>\n",
              "  <th>Model:</th>                  <td>GLM</td>       <th>  Df Residuals:      </th>  <td>  6458</td> \n",
              "</tr>\n",
              "<tr>\n",
              "  <th>Model Family:</th>        <td>Binomial</td>     <th>  Df Model:          </th>  <td>     9</td> \n",
              "</tr>\n",
              "<tr>\n",
              "  <th>Link Function:</th>         <td>logit</td>      <th>  Scale:             </th> <td>  1.0000</td>\n",
              "</tr>\n",
              "<tr>\n",
              "  <th>Method:</th>                <td>IRLS</td>       <th>  Log-Likelihood:    </th> <td> -3055.4</td>\n",
              "</tr>\n",
              "<tr>\n",
              "  <th>Date:</th>            <td>Tue, 10 Aug 2021</td> <th>  Deviance:          </th> <td>  6110.7</td>\n",
              "</tr>\n",
              "<tr>\n",
              "  <th>Time:</th>                <td>15:41:28</td>     <th>  Pearson chi2:      </th> <td>8.60e+03</td>\n",
              "</tr>\n",
              "<tr>\n",
              "  <th>No. Iterations:</th>          <td>6</td>        <th>                     </th>     <td> </td>   \n",
              "</tr>\n",
              "<tr>\n",
              "  <th>Covariance Type:</th>     <td>nonrobust</td>    <th>                     </th>     <td> </td>   \n",
              "</tr>\n",
              "</table>\n",
              "<table class=\"simpletable\">\n",
              "<tr>\n",
              "                            <td></td>                              <th>coef</th>     <th>std err</th>      <th>z</th>      <th>P>|z|</th>  <th>[0.025</th>    <th>0.975]</th>  \n",
              "</tr>\n",
              "<tr>\n",
              "  <th>const</th>                                                <td>   -2.3157</td> <td>    0.086</td> <td>  -26.886</td> <td> 0.000</td> <td>   -2.484</td> <td>   -2.147</td>\n",
              "</tr>\n",
              "<tr>\n",
              "  <th>TotalVisits</th>                                          <td>    4.1950</td> <td>    1.659</td> <td>    2.528</td> <td> 0.011</td> <td>    0.942</td> <td>    7.447</td>\n",
              "</tr>\n",
              "<tr>\n",
              "  <th>Total Time Spent on Website</th>                          <td>    4.5505</td> <td>    0.154</td> <td>   29.615</td> <td> 0.000</td> <td>    4.249</td> <td>    4.852</td>\n",
              "</tr>\n",
              "<tr>\n",
              "  <th>Lead Origin_Lead Add Form</th>                            <td>    4.4082</td> <td>    0.186</td> <td>   23.740</td> <td> 0.000</td> <td>    4.044</td> <td>    4.772</td>\n",
              "</tr>\n",
              "<tr>\n",
              "  <th>Lead Source_Google</th>                                   <td>    0.4449</td> <td>    0.082</td> <td>    5.453</td> <td> 0.000</td> <td>    0.285</td> <td>    0.605</td>\n",
              "</tr>\n",
              "<tr>\n",
              "  <th>Lead Source_Olark Chat</th>                               <td>    1.2462</td> <td>    0.115</td> <td>   10.799</td> <td> 0.000</td> <td>    1.020</td> <td>    1.472</td>\n",
              "</tr>\n",
              "<tr>\n",
              "  <th>Lead Source_Organic Search</th>                           <td>    0.2815</td> <td>    0.108</td> <td>    2.602</td> <td> 0.009</td> <td>    0.070</td> <td>    0.494</td>\n",
              "</tr>\n",
              "<tr>\n",
              "  <th>Specialization_Finance Management</th>                    <td>   -0.3303</td> <td>    0.073</td> <td>   -4.534</td> <td> 0.000</td> <td>   -0.473</td> <td>   -0.187</td>\n",
              "</tr>\n",
              "<tr>\n",
              "  <th>Specialization_Hospitality Management</th>                <td>   -1.0488</td> <td>    0.309</td> <td>   -3.398</td> <td> 0.001</td> <td>   -1.654</td> <td>   -0.444</td>\n",
              "</tr>\n",
              "<tr>\n",
              "  <th>What is your current occupation_Working Professional</th> <td>    2.8318</td> <td>    0.180</td> <td>   15.695</td> <td> 0.000</td> <td>    2.478</td> <td>    3.185</td>\n",
              "</tr>\n",
              "</table>"
            ],
            "text/plain": [
              "<class 'statsmodels.iolib.summary.Summary'>\n",
              "\"\"\"\n",
              "                 Generalized Linear Model Regression Results                  \n",
              "==============================================================================\n",
              "Dep. Variable:              Converted   No. Observations:                 6468\n",
              "Model:                            GLM   Df Residuals:                     6458\n",
              "Model Family:                Binomial   Df Model:                            9\n",
              "Link Function:                  logit   Scale:                          1.0000\n",
              "Method:                          IRLS   Log-Likelihood:                -3055.4\n",
              "Date:                Tue, 10 Aug 2021   Deviance:                       6110.7\n",
              "Time:                        15:41:28   Pearson chi2:                 8.60e+03\n",
              "No. Iterations:                     6                                         \n",
              "Covariance Type:            nonrobust                                         \n",
              "========================================================================================================================\n",
              "                                                           coef    std err          z      P>|z|      [0.025      0.975]\n",
              "------------------------------------------------------------------------------------------------------------------------\n",
              "const                                                   -2.3157      0.086    -26.886      0.000      -2.484      -2.147\n",
              "TotalVisits                                              4.1950      1.659      2.528      0.011       0.942       7.447\n",
              "Total Time Spent on Website                              4.5505      0.154     29.615      0.000       4.249       4.852\n",
              "Lead Origin_Lead Add Form                                4.4082      0.186     23.740      0.000       4.044       4.772\n",
              "Lead Source_Google                                       0.4449      0.082      5.453      0.000       0.285       0.605\n",
              "Lead Source_Olark Chat                                   1.2462      0.115     10.799      0.000       1.020       1.472\n",
              "Lead Source_Organic Search                               0.2815      0.108      2.602      0.009       0.070       0.494\n",
              "Specialization_Finance Management                       -0.3303      0.073     -4.534      0.000      -0.473      -0.187\n",
              "Specialization_Hospitality Management                   -1.0488      0.309     -3.398      0.001      -1.654      -0.444\n",
              "What is your current occupation_Working Professional     2.8318      0.180     15.695      0.000       2.478       3.185\n",
              "========================================================================================================================\n",
              "\"\"\""
            ]
          },
          "metadata": {
            "tags": []
          },
          "execution_count": 275
        }
      ]
    },
    {
      "cell_type": "code",
      "metadata": {
        "id": "gqGVn5HXADHn"
      },
      "source": [
        "X_train9 = X_train9.drop(['const'], axis=1)"
      ],
      "execution_count": 276,
      "outputs": []
    },
    {
      "cell_type": "code",
      "metadata": {
        "colab": {
          "base_uri": "https://localhost:8080/",
          "height": 317
        },
        "id": "uQHw3Fq4AF4E",
        "outputId": "502c06f8-b2b7-417b-b7c6-6226f4e5a7ec"
      },
      "source": [
        "vif = pd.DataFrame()\n",
        "vif['Features'] = X_train9.columns\n",
        "vif['VIF'] = [variance_inflation_factor(X_train9.values, i) for i in range(X_train9.shape[1])]\n",
        "vif['VIF'] = round(vif['VIF'], 2)\n",
        "vif = vif.sort_values(by = \"VIF\", ascending = False)\n",
        "vif"
      ],
      "execution_count": 277,
      "outputs": [
        {
          "output_type": "execute_result",
          "data": {
            "text/html": [
              "<div>\n",
              "<style scoped>\n",
              "    .dataframe tbody tr th:only-of-type {\n",
              "        vertical-align: middle;\n",
              "    }\n",
              "\n",
              "    .dataframe tbody tr th {\n",
              "        vertical-align: top;\n",
              "    }\n",
              "\n",
              "    .dataframe thead th {\n",
              "        text-align: right;\n",
              "    }\n",
              "</style>\n",
              "<table border=\"1\" class=\"dataframe\">\n",
              "  <thead>\n",
              "    <tr style=\"text-align: right;\">\n",
              "      <th></th>\n",
              "      <th>Features</th>\n",
              "      <th>VIF</th>\n",
              "    </tr>\n",
              "  </thead>\n",
              "  <tbody>\n",
              "    <tr>\n",
              "      <th>6</th>\n",
              "      <td>Specialization_Finance Management</td>\n",
              "      <td>2.23</td>\n",
              "    </tr>\n",
              "    <tr>\n",
              "      <th>1</th>\n",
              "      <td>Total Time Spent on Website</td>\n",
              "      <td>1.72</td>\n",
              "    </tr>\n",
              "    <tr>\n",
              "      <th>3</th>\n",
              "      <td>Lead Source_Google</td>\n",
              "      <td>1.70</td>\n",
              "    </tr>\n",
              "    <tr>\n",
              "      <th>4</th>\n",
              "      <td>Lead Source_Olark Chat</td>\n",
              "      <td>1.70</td>\n",
              "    </tr>\n",
              "    <tr>\n",
              "      <th>0</th>\n",
              "      <td>TotalVisits</td>\n",
              "      <td>1.44</td>\n",
              "    </tr>\n",
              "    <tr>\n",
              "      <th>5</th>\n",
              "      <td>Lead Source_Organic Search</td>\n",
              "      <td>1.28</td>\n",
              "    </tr>\n",
              "    <tr>\n",
              "      <th>2</th>\n",
              "      <td>Lead Origin_Lead Add Form</td>\n",
              "      <td>1.19</td>\n",
              "    </tr>\n",
              "    <tr>\n",
              "      <th>8</th>\n",
              "      <td>What is your current occupation_Working Profes...</td>\n",
              "      <td>1.16</td>\n",
              "    </tr>\n",
              "    <tr>\n",
              "      <th>7</th>\n",
              "      <td>Specialization_Hospitality Management</td>\n",
              "      <td>1.02</td>\n",
              "    </tr>\n",
              "  </tbody>\n",
              "</table>\n",
              "</div>"
            ],
            "text/plain": [
              "                                            Features   VIF\n",
              "6                  Specialization_Finance Management  2.23\n",
              "1                        Total Time Spent on Website  1.72\n",
              "3                                 Lead Source_Google  1.70\n",
              "4                             Lead Source_Olark Chat  1.70\n",
              "0                                        TotalVisits  1.44\n",
              "5                         Lead Source_Organic Search  1.28\n",
              "2                          Lead Origin_Lead Add Form  1.19\n",
              "8  What is your current occupation_Working Profes...  1.16\n",
              "7              Specialization_Hospitality Management  1.02"
            ]
          },
          "metadata": {
            "tags": []
          },
          "execution_count": 277
        }
      ]
    },
    {
      "cell_type": "markdown",
      "metadata": {
        "id": "CR2TLC-7CnLc"
      },
      "source": [
        "###Generating Predictions"
      ]
    },
    {
      "cell_type": "code",
      "metadata": {
        "id": "RUZuzbgJCpUk"
      },
      "source": [
        "X_train9 =  sm.add_constant(X_train9)"
      ],
      "execution_count": 278,
      "outputs": []
    },
    {
      "cell_type": "code",
      "metadata": {
        "colab": {
          "base_uri": "https://localhost:8080/"
        },
        "id": "4WvHHDHaC37m",
        "outputId": "46eedd8d-4037-42bc-8d92-07023e30016c"
      },
      "source": [
        "# Predicting the probabilities on the train set\n",
        "y_train_pred = res.predict(X_train9)\n",
        "y_train_pred"
      ],
      "execution_count": 279,
      "outputs": [
        {
          "output_type": "execute_result",
          "data": {
            "text/plain": [
              "1871    0.255499\n",
              "6795    0.167465\n",
              "3516    0.249011\n",
              "8105    0.662904\n",
              "3934    0.197854\n",
              "          ...   \n",
              "350     0.926725\n",
              "79      0.995216\n",
              "8039    0.197854\n",
              "6936    0.204128\n",
              "5640    0.197854\n",
              "Length: 6468, dtype: float64"
            ]
          },
          "metadata": {
            "tags": []
          },
          "execution_count": 279
        }
      ]
    },
    {
      "cell_type": "code",
      "metadata": {
        "colab": {
          "base_uri": "https://localhost:8080/"
        },
        "id": "nEqU8fOpDFLt",
        "outputId": "ac555e12-3651-45af-b56a-257f30cbf056"
      },
      "source": [
        "# Reshaping to an array\n",
        "y_train_pred = y_train_pred.values.reshape(-1)\n",
        "y_train_pred[:10]"
      ],
      "execution_count": 280,
      "outputs": [
        {
          "output_type": "execute_result",
          "data": {
            "text/plain": [
              "array([0.2554986 , 0.16746532, 0.24901116, 0.66290434, 0.19785433,\n",
              "       0.97317488, 0.14843543, 0.99652073, 0.26955017, 0.72701343])"
            ]
          },
          "metadata": {
            "tags": []
          },
          "execution_count": 280
        }
      ]
    },
    {
      "cell_type": "code",
      "metadata": {
        "colab": {
          "base_uri": "https://localhost:8080/",
          "height": 197
        },
        "id": "RWUZTpteawSB",
        "outputId": "7d4921bf-b6e5-4324-d26e-98c7609cad42"
      },
      "source": [
        "# Data frame with given convertion rate and probablity of predicted ones\n",
        "y_train_pred_final = pd.DataFrame({'Converted':y_train.values, 'Conversion_Prob':y_train_pred})\n",
        "y_train_pred_final.head()"
      ],
      "execution_count": 281,
      "outputs": [
        {
          "output_type": "execute_result",
          "data": {
            "text/html": [
              "<div>\n",
              "<style scoped>\n",
              "    .dataframe tbody tr th:only-of-type {\n",
              "        vertical-align: middle;\n",
              "    }\n",
              "\n",
              "    .dataframe tbody tr th {\n",
              "        vertical-align: top;\n",
              "    }\n",
              "\n",
              "    .dataframe thead th {\n",
              "        text-align: right;\n",
              "    }\n",
              "</style>\n",
              "<table border=\"1\" class=\"dataframe\">\n",
              "  <thead>\n",
              "    <tr style=\"text-align: right;\">\n",
              "      <th></th>\n",
              "      <th>Converted</th>\n",
              "      <th>Conversion_Prob</th>\n",
              "    </tr>\n",
              "  </thead>\n",
              "  <tbody>\n",
              "    <tr>\n",
              "      <th>0</th>\n",
              "      <td>0</td>\n",
              "      <td>0.255499</td>\n",
              "    </tr>\n",
              "    <tr>\n",
              "      <th>1</th>\n",
              "      <td>0</td>\n",
              "      <td>0.167465</td>\n",
              "    </tr>\n",
              "    <tr>\n",
              "      <th>2</th>\n",
              "      <td>0</td>\n",
              "      <td>0.249011</td>\n",
              "    </tr>\n",
              "    <tr>\n",
              "      <th>3</th>\n",
              "      <td>0</td>\n",
              "      <td>0.662904</td>\n",
              "    </tr>\n",
              "    <tr>\n",
              "      <th>4</th>\n",
              "      <td>0</td>\n",
              "      <td>0.197854</td>\n",
              "    </tr>\n",
              "  </tbody>\n",
              "</table>\n",
              "</div>"
            ],
            "text/plain": [
              "   Converted  Conversion_Prob\n",
              "0          0         0.255499\n",
              "1          0         0.167465\n",
              "2          0         0.249011\n",
              "3          0         0.662904\n",
              "4          0         0.197854"
            ]
          },
          "metadata": {
            "tags": []
          },
          "execution_count": 281
        }
      ]
    },
    {
      "cell_type": "code",
      "metadata": {
        "colab": {
          "base_uri": "https://localhost:8080/",
          "height": 197
        },
        "id": "EXO5_I4nkTmd",
        "outputId": "105439d5-5f57-4335-b960-6561fd16a3dd"
      },
      "source": [
        "# Substituting 0 or 1 with the cut off as 0.5\n",
        "y_train_pred_final['Predicted'] = y_train_pred_final.Conversion_Prob.map(lambda x: 1 if x > 0.5 else 0)\n",
        "y_train_pred_final.head()"
      ],
      "execution_count": 282,
      "outputs": [
        {
          "output_type": "execute_result",
          "data": {
            "text/html": [
              "<div>\n",
              "<style scoped>\n",
              "    .dataframe tbody tr th:only-of-type {\n",
              "        vertical-align: middle;\n",
              "    }\n",
              "\n",
              "    .dataframe tbody tr th {\n",
              "        vertical-align: top;\n",
              "    }\n",
              "\n",
              "    .dataframe thead th {\n",
              "        text-align: right;\n",
              "    }\n",
              "</style>\n",
              "<table border=\"1\" class=\"dataframe\">\n",
              "  <thead>\n",
              "    <tr style=\"text-align: right;\">\n",
              "      <th></th>\n",
              "      <th>Converted</th>\n",
              "      <th>Conversion_Prob</th>\n",
              "      <th>Predicted</th>\n",
              "    </tr>\n",
              "  </thead>\n",
              "  <tbody>\n",
              "    <tr>\n",
              "      <th>0</th>\n",
              "      <td>0</td>\n",
              "      <td>0.255499</td>\n",
              "      <td>0</td>\n",
              "    </tr>\n",
              "    <tr>\n",
              "      <th>1</th>\n",
              "      <td>0</td>\n",
              "      <td>0.167465</td>\n",
              "      <td>0</td>\n",
              "    </tr>\n",
              "    <tr>\n",
              "      <th>2</th>\n",
              "      <td>0</td>\n",
              "      <td>0.249011</td>\n",
              "      <td>0</td>\n",
              "    </tr>\n",
              "    <tr>\n",
              "      <th>3</th>\n",
              "      <td>0</td>\n",
              "      <td>0.662904</td>\n",
              "      <td>1</td>\n",
              "    </tr>\n",
              "    <tr>\n",
              "      <th>4</th>\n",
              "      <td>0</td>\n",
              "      <td>0.197854</td>\n",
              "      <td>0</td>\n",
              "    </tr>\n",
              "  </tbody>\n",
              "</table>\n",
              "</div>"
            ],
            "text/plain": [
              "   Converted  Conversion_Prob  Predicted\n",
              "0          0         0.255499          0\n",
              "1          0         0.167465          0\n",
              "2          0         0.249011          0\n",
              "3          0         0.662904          1\n",
              "4          0         0.197854          0"
            ]
          },
          "metadata": {
            "tags": []
          },
          "execution_count": 282
        }
      ]
    },
    {
      "cell_type": "markdown",
      "metadata": {
        "id": "y2c0YWBWkZhZ"
      },
      "source": [
        "##Step 8: Model Evaluation"
      ]
    },
    {
      "cell_type": "code",
      "metadata": {
        "colab": {
          "base_uri": "https://localhost:8080/"
        },
        "id": "UZvv-zzfkcDQ",
        "outputId": "b85b7227-e02c-4eb2-e204-440198ca9d1d"
      },
      "source": [
        "# Creating confusion matrix \n",
        "confusion = metrics.confusion_matrix(y_train_pred_final.Converted, y_train_pred_final.Predicted )\n",
        "confusion"
      ],
      "execution_count": 283,
      "outputs": [
        {
          "output_type": "execute_result",
          "data": {
            "text/plain": [
              "array([[3522,  480],\n",
              "       [ 914, 1552]])"
            ]
          },
          "metadata": {
            "tags": []
          },
          "execution_count": 283
        }
      ]
    },
    {
      "cell_type": "code",
      "metadata": {
        "colab": {
          "base_uri": "https://localhost:8080/"
        },
        "id": "zsH_yYTDkm35",
        "outputId": "62f7f4c8-dc09-41fb-e3eb-eaf6f804973f"
      },
      "source": [
        "# Check the overall accuracy\n",
        "metrics.accuracy_score(y_train_pred_final.Converted, y_train_pred_final.Predicted)"
      ],
      "execution_count": 284,
      "outputs": [
        {
          "output_type": "execute_result",
          "data": {
            "text/plain": [
              "0.7844774273345702"
            ]
          },
          "metadata": {
            "tags": []
          },
          "execution_count": 284
        }
      ]
    },
    {
      "cell_type": "code",
      "metadata": {
        "id": "w99vIdg6kxqQ"
      },
      "source": [
        "# Substituting the value of true positive\n",
        "TP = confusion[1,1]\n",
        "# Substituting the value of true negatives\n",
        "TN = confusion[0,0]\n",
        "# Substituting the value of false positives\n",
        "FP = confusion[0,1] \n",
        "# Substituting the value of false negatives\n",
        "FN = confusion[1,0]"
      ],
      "execution_count": 285,
      "outputs": []
    },
    {
      "cell_type": "code",
      "metadata": {
        "colab": {
          "base_uri": "https://localhost:8080/"
        },
        "id": "3gc7_nkzk3nW",
        "outputId": "d192a55a-51e0-481c-bc34-417b27b55e28"
      },
      "source": [
        "# Calculating the sensitivity\n",
        "TP/(TP+FN)"
      ],
      "execution_count": 286,
      "outputs": [
        {
          "output_type": "execute_result",
          "data": {
            "text/plain": [
              "0.6293592862935928"
            ]
          },
          "metadata": {
            "tags": []
          },
          "execution_count": 286
        }
      ]
    },
    {
      "cell_type": "code",
      "metadata": {
        "colab": {
          "base_uri": "https://localhost:8080/"
        },
        "id": "1HSkfWQDk5zm",
        "outputId": "0dd47cb1-ac9e-448f-af12-dde16a54a630"
      },
      "source": [
        "# Calculating the specificity\n",
        "TN/(TN+FP)"
      ],
      "execution_count": 287,
      "outputs": [
        {
          "output_type": "execute_result",
          "data": {
            "text/plain": [
              "0.8800599700149925"
            ]
          },
          "metadata": {
            "tags": []
          },
          "execution_count": 287
        }
      ]
    },
    {
      "cell_type": "markdown",
      "metadata": {
        "id": "AWVSftHkk_v7"
      },
      "source": [
        "##Step 9: Plotting the ROC Curve"
      ]
    },
    {
      "cell_type": "code",
      "metadata": {
        "id": "W2QflUmvlBgy"
      },
      "source": [
        "def draw_roc( actual, probs ):\n",
        "    fpr, tpr, thresholds = metrics.roc_curve( actual, probs,\n",
        "                                              drop_intermediate = False )\n",
        "    auc_score = metrics.roc_auc_score( actual, probs )\n",
        "    plt.figure(figsize=(5, 5))\n",
        "    plt.plot( fpr, tpr, label='ROC curve (area = %0.2f)' % auc_score )\n",
        "    plt.plot([0, 1], [0, 1], 'k--')\n",
        "    plt.xlim([0.0, 1.0])\n",
        "    plt.ylim([0.0, 1.05])\n",
        "    plt.xlabel('False Positive Rate or [1 - True Negative Rate]')\n",
        "    plt.ylabel('True Positive Rate')\n",
        "    plt.title('Receiver operating characteristic example')\n",
        "    plt.legend(loc=\"lower right\")\n",
        "    plt.show()\n",
        "\n",
        "    return fpr,tpr, thresholds"
      ],
      "execution_count": 288,
      "outputs": []
    },
    {
      "cell_type": "code",
      "metadata": {
        "id": "p2G_mdv8lMp-"
      },
      "source": [
        "fpr, tpr, thresholds = metrics.roc_curve( y_train_pred_final.Converted, y_train_pred_final.Conversion_Prob, drop_intermediate = False )"
      ],
      "execution_count": 289,
      "outputs": []
    },
    {
      "cell_type": "code",
      "metadata": {
        "colab": {
          "base_uri": "https://localhost:8080/",
          "height": 456
        },
        "id": "_upBsrkqlP7l",
        "outputId": "59a8bc5d-5ad6-4866-c3bc-6c35c00ae692"
      },
      "source": [
        "# checking the area under the curve\n",
        "draw_roc(y_train_pred_final.Converted, y_train_pred_final.Conversion_Prob)"
      ],
      "execution_count": 290,
      "outputs": [
        {
          "output_type": "display_data",
          "data": {
            "image/png": "[encoded data removed]",
            "text/plain": [
              "<Figure size 360x360 with 1 Axes>"
            ]
          },
          "metadata": {
            "tags": [],
            "needs_background": "light"
          }
        },
        {
          "output_type": "execute_result",
          "data": {
            "text/plain": [
              "(array([0.        , 0.        , 0.        , ..., 0.99950025, 0.99975012,\n",
              "        1.        ]),\n",
              " array([0.00000000e+00, 4.05515004e-04, 8.11030008e-04, ...,\n",
              "        1.00000000e+00, 1.00000000e+00, 1.00000000e+00]),\n",
              " array([1.99977993, 0.99977993, 0.99974632, ..., 0.03510493, 0.0341014 ,\n",
              "        0.0334255 ]))"
            ]
          },
          "metadata": {
            "tags": []
          },
          "execution_count": 290
        }
      ]
    },
    {
      "cell_type": "markdown",
      "metadata": {
        "id": "WaR4Ei6ali9R"
      },
      "source": [
        "###What is the optimal cut-off value ?"
      ]
    },
    {
      "cell_type": "code",
      "metadata": {
        "colab": {
          "base_uri": "https://localhost:8080/",
          "height": 197
        },
        "id": "9MLDoLX4lfbf",
        "outputId": "da23b656-c528-43c0-8e08-a8a51201c878"
      },
      "source": [
        "# creating columns with different probability cutoffs \n",
        "numbers = [float(x)/10 for x in range(10)]\n",
        "for i in numbers:\n",
        "    y_train_pred_final[i]= y_train_pred_final.Conversion_Prob.map(lambda x: 1 if x > i else 0)\n",
        "y_train_pred_final.head()"
      ],
      "execution_count": 291,
      "outputs": [
        {
          "output_type": "execute_result",
          "data": {
            "text/html": [
              "<div>\n",
              "<style scoped>\n",
              "    .dataframe tbody tr th:only-of-type {\n",
              "        vertical-align: middle;\n",
              "    }\n",
              "\n",
              "    .dataframe tbody tr th {\n",
              "        vertical-align: top;\n",
              "    }\n",
              "\n",
              "    .dataframe thead th {\n",
              "        text-align: right;\n",
              "    }\n",
              "</style>\n",
              "<table border=\"1\" class=\"dataframe\">\n",
              "  <thead>\n",
              "    <tr style=\"text-align: right;\">\n",
              "      <th></th>\n",
              "      <th>Converted</th>\n",
              "      <th>Conversion_Prob</th>\n",
              "      <th>Predicted</th>\n",
              "      <th>0.0</th>\n",
              "      <th>0.1</th>\n",
              "      <th>0.2</th>\n",
              "      <th>0.3</th>\n",
              "      <th>0.4</th>\n",
              "      <th>0.5</th>\n",
              "      <th>0.6</th>\n",
              "      <th>0.7</th>\n",
              "      <th>0.8</th>\n",
              "      <th>0.9</th>\n",
              "    </tr>\n",
              "  </thead>\n",
              "  <tbody>\n",
              "    <tr>\n",
              "      <th>0</th>\n",
              "      <td>0</td>\n",
              "      <td>0.255499</td>\n",
              "      <td>0</td>\n",
              "      <td>1</td>\n",
              "      <td>1</td>\n",
              "      <td>1</td>\n",
              "      <td>0</td>\n",
              "      <td>0</td>\n",
              "      <td>0</td>\n",
              "      <td>0</td>\n",
              "      <td>0</td>\n",
              "      <td>0</td>\n",
              "      <td>0</td>\n",
              "    </tr>\n",
              "    <tr>\n",
              "      <th>1</th>\n",
              "      <td>0</td>\n",
              "      <td>0.167465</td>\n",
              "      <td>0</td>\n",
              "      <td>1</td>\n",
              "      <td>1</td>\n",
              "      <td>0</td>\n",
              "      <td>0</td>\n",
              "      <td>0</td>\n",
              "      <td>0</td>\n",
              "      <td>0</td>\n",
              "      <td>0</td>\n",
              "      <td>0</td>\n",
              "      <td>0</td>\n",
              "    </tr>\n",
              "    <tr>\n",
              "      <th>2</th>\n",
              "      <td>0</td>\n",
              "      <td>0.249011</td>\n",
              "      <td>0</td>\n",
              "      <td>1</td>\n",
              "      <td>1</td>\n",
              "      <td>1</td>\n",
              "      <td>0</td>\n",
              "      <td>0</td>\n",
              "      <td>0</td>\n",
              "      <td>0</td>\n",
              "      <td>0</td>\n",
              "      <td>0</td>\n",
              "      <td>0</td>\n",
              "    </tr>\n",
              "    <tr>\n",
              "      <th>3</th>\n",
              "      <td>0</td>\n",
              "      <td>0.662904</td>\n",
              "      <td>1</td>\n",
              "      <td>1</td>\n",
              "      <td>1</td>\n",
              "      <td>1</td>\n",
              "      <td>1</td>\n",
              "      <td>1</td>\n",
              "      <td>1</td>\n",
              "      <td>1</td>\n",
              "      <td>0</td>\n",
              "      <td>0</td>\n",
              "      <td>0</td>\n",
              "    </tr>\n",
              "    <tr>\n",
              "      <th>4</th>\n",
              "      <td>0</td>\n",
              "      <td>0.197854</td>\n",
              "      <td>0</td>\n",
              "      <td>1</td>\n",
              "      <td>1</td>\n",
              "      <td>0</td>\n",
              "      <td>0</td>\n",
              "      <td>0</td>\n",
              "      <td>0</td>\n",
              "      <td>0</td>\n",
              "      <td>0</td>\n",
              "      <td>0</td>\n",
              "      <td>0</td>\n",
              "    </tr>\n",
              "  </tbody>\n",
              "</table>\n",
              "</div>"
            ],
            "text/plain": [
              "   Converted  Conversion_Prob  Predicted  0.0  0.1  ...  0.5  0.6  0.7  0.8  0.9\n",
              "0          0         0.255499          0    1    1  ...    0    0    0    0    0\n",
              "1          0         0.167465          0    1    1  ...    0    0    0    0    0\n",
              "2          0         0.249011          0    1    1  ...    0    0    0    0    0\n",
              "3          0         0.662904          1    1    1  ...    1    1    0    0    0\n",
              "4          0         0.197854          0    1    1  ...    0    0    0    0    0\n",
              "\n",
              "[5 rows x 13 columns]"
            ]
          },
          "metadata": {
            "tags": []
          },
          "execution_count": 291
        }
      ]
    },
    {
      "cell_type": "code",
      "metadata": {
        "colab": {
          "base_uri": "https://localhost:8080/"
        },
        "id": "XwbdvEKClz_k",
        "outputId": "aa8e5b4f-a14f-4fa6-db2c-c68d0909981f"
      },
      "source": [
        "# checking the sensitivity,accuracy,precision and specificity\n",
        "cutoff_df = pd.DataFrame( columns = ['prob','accuracy','sensi','speci'])\n",
        "from sklearn.metrics import confusion_matrix\n",
        "\n",
        "num = [0.0,0.1,0.2,0.3,0.4,0.5,0.6,0.7,0.8,0.9]\n",
        "for i in num:\n",
        "    cm1 = metrics.confusion_matrix(y_train_pred_final.Converted, y_train_pred_final[i] )\n",
        "    total1=sum(sum(cm1))\n",
        "    accuracy = (cm1[0,0]+cm1[1,1])/total1\n",
        "    \n",
        "    speci = cm1[0,0]/(cm1[0,0]+cm1[0,1])\n",
        "    sensi = cm1[1,1]/(cm1[1,0]+cm1[1,1])\n",
        "    cutoff_df.loc[i] =[ i ,accuracy,sensi,speci]\n",
        "print(cutoff_df)"
      ],
      "execution_count": 292,
      "outputs": [
        {
          "output_type": "stream",
          "text": [
            "     prob  accuracy     sensi     speci\n",
            "0.0   0.0  0.381262  1.000000  0.000000\n",
            "0.1   0.1  0.417440  0.989051  0.065217\n",
            "0.2   0.2  0.739023  0.823601  0.686907\n",
            "0.3   0.3  0.792672  0.759935  0.812844\n",
            "0.4   0.4  0.795918  0.707624  0.850325\n",
            "0.5   0.5  0.784477  0.629359  0.880060\n",
            "0.6   0.6  0.772573  0.547445  0.911294\n",
            "0.7   0.7  0.754174  0.440795  0.947276\n",
            "0.8   0.8  0.735312  0.347932  0.974013\n",
            "0.9   0.9  0.685374  0.184915  0.993753\n"
          ],
          "name": "stdout"
        }
      ]
    },
    {
      "cell_type": "code",
      "metadata": {
        "colab": {
          "base_uri": "https://localhost:8080/",
          "height": 278
        },
        "id": "dVourZoGl64d",
        "outputId": "1cf04828-52b8-4bf4-981b-625de8c8d9cb"
      },
      "source": [
        "# Plotting it \n",
        "cutoff_df.plot.line(x='prob', y=['accuracy','sensi','speci'])\n",
        "plt.show()"
      ],
      "execution_count": 293,
      "outputs": [
        {
          "output_type": "display_data",
          "data": {
            "image/png": "[encoded data removed]",
            "text/plain": [
              "<Figure size 432x288 with 1 Axes>"
            ]
          },
          "metadata": {
            "tags": [],
            "needs_background": "light"
          }
        }
      ]
    },
    {
      "cell_type": "code",
      "metadata": {
        "colab": {
          "base_uri": "https://localhost:8080/",
          "height": 197
        },
        "id": "rC2T8auamGKb",
        "outputId": "77e11870-8ce0-46e6-9b4a-b1b099879344"
      },
      "source": [
        "# from the graph taking the optimal cut-off value as 0.30\n",
        "y_train_pred_final['final_predicted'] = y_train_pred_final.Conversion_Prob.map( lambda x: 1 if x > 0.30 else 0)\n",
        "y_train_pred_final.head()"
      ],
      "execution_count": 294,
      "outputs": [
        {
          "output_type": "execute_result",
          "data": {
            "text/html": [
              "<div>\n",
              "<style scoped>\n",
              "    .dataframe tbody tr th:only-of-type {\n",
              "        vertical-align: middle;\n",
              "    }\n",
              "\n",
              "    .dataframe tbody tr th {\n",
              "        vertical-align: top;\n",
              "    }\n",
              "\n",
              "    .dataframe thead th {\n",
              "        text-align: right;\n",
              "    }\n",
              "</style>\n",
              "<table border=\"1\" class=\"dataframe\">\n",
              "  <thead>\n",
              "    <tr style=\"text-align: right;\">\n",
              "      <th></th>\n",
              "      <th>Converted</th>\n",
              "      <th>Conversion_Prob</th>\n",
              "      <th>Predicted</th>\n",
              "      <th>0.0</th>\n",
              "      <th>0.1</th>\n",
              "      <th>0.2</th>\n",
              "      <th>0.3</th>\n",
              "      <th>0.4</th>\n",
              "      <th>0.5</th>\n",
              "      <th>0.6</th>\n",
              "      <th>0.7</th>\n",
              "      <th>0.8</th>\n",
              "      <th>0.9</th>\n",
              "      <th>final_predicted</th>\n",
              "    </tr>\n",
              "  </thead>\n",
              "  <tbody>\n",
              "    <tr>\n",
              "      <th>0</th>\n",
              "      <td>0</td>\n",
              "      <td>0.255499</td>\n",
              "      <td>0</td>\n",
              "      <td>1</td>\n",
              "      <td>1</td>\n",
              "      <td>1</td>\n",
              "      <td>0</td>\n",
              "      <td>0</td>\n",
              "      <td>0</td>\n",
              "      <td>0</td>\n",
              "      <td>0</td>\n",
              "      <td>0</td>\n",
              "      <td>0</td>\n",
              "      <td>0</td>\n",
              "    </tr>\n",
              "    <tr>\n",
              "      <th>1</th>\n",
              "      <td>0</td>\n",
              "      <td>0.167465</td>\n",
              "      <td>0</td>\n",
              "      <td>1</td>\n",
              "      <td>1</td>\n",
              "      <td>0</td>\n",
              "      <td>0</td>\n",
              "      <td>0</td>\n",
              "      <td>0</td>\n",
              "      <td>0</td>\n",
              "      <td>0</td>\n",
              "      <td>0</td>\n",
              "      <td>0</td>\n",
              "      <td>0</td>\n",
              "    </tr>\n",
              "    <tr>\n",
              "      <th>2</th>\n",
              "      <td>0</td>\n",
              "      <td>0.249011</td>\n",
              "      <td>0</td>\n",
              "      <td>1</td>\n",
              "      <td>1</td>\n",
              "      <td>1</td>\n",
              "      <td>0</td>\n",
              "      <td>0</td>\n",
              "      <td>0</td>\n",
              "      <td>0</td>\n",
              "      <td>0</td>\n",
              "      <td>0</td>\n",
              "      <td>0</td>\n",
              "      <td>0</td>\n",
              "    </tr>\n",
              "    <tr>\n",
              "      <th>3</th>\n",
              "      <td>0</td>\n",
              "      <td>0.662904</td>\n",
              "      <td>1</td>\n",
              "      <td>1</td>\n",
              "      <td>1</td>\n",
              "      <td>1</td>\n",
              "      <td>1</td>\n",
              "      <td>1</td>\n",
              "      <td>1</td>\n",
              "      <td>1</td>\n",
              "      <td>0</td>\n",
              "      <td>0</td>\n",
              "      <td>0</td>\n",
              "      <td>1</td>\n",
              "    </tr>\n",
              "    <tr>\n",
              "      <th>4</th>\n",
              "      <td>0</td>\n",
              "      <td>0.197854</td>\n",
              "      <td>0</td>\n",
              "      <td>1</td>\n",
              "      <td>1</td>\n",
              "      <td>0</td>\n",
              "      <td>0</td>\n",
              "      <td>0</td>\n",
              "      <td>0</td>\n",
              "      <td>0</td>\n",
              "      <td>0</td>\n",
              "      <td>0</td>\n",
              "      <td>0</td>\n",
              "      <td>0</td>\n",
              "    </tr>\n",
              "  </tbody>\n",
              "</table>\n",
              "</div>"
            ],
            "text/plain": [
              "   Converted  Conversion_Prob  Predicted  0.0  ...  0.7  0.8  0.9  final_predicted\n",
              "0          0         0.255499          0    1  ...    0    0    0                0\n",
              "1          0         0.167465          0    1  ...    0    0    0                0\n",
              "2          0         0.249011          0    1  ...    0    0    0                0\n",
              "3          0         0.662904          1    1  ...    0    0    0                1\n",
              "4          0         0.197854          0    1  ...    0    0    0                0\n",
              "\n",
              "[5 rows x 14 columns]"
            ]
          },
          "metadata": {
            "tags": []
          },
          "execution_count": 294
        }
      ]
    },
    {
      "cell_type": "code",
      "metadata": {
        "colab": {
          "base_uri": "https://localhost:8080/"
        },
        "id": "WhXPxc9co1rK",
        "outputId": "8e0b694b-5ba5-4b68-c15f-b3fedf022450"
      },
      "source": [
        "# Check the overall accuracy\n",
        "metrics.accuracy_score(y_train_pred_final.Converted, y_train_pred_final.final_predicted)"
      ],
      "execution_count": 295,
      "outputs": [
        {
          "output_type": "execute_result",
          "data": {
            "text/plain": [
              "0.7926716141001855"
            ]
          },
          "metadata": {
            "tags": []
          },
          "execution_count": 295
        }
      ]
    },
    {
      "cell_type": "code",
      "metadata": {
        "colab": {
          "base_uri": "https://localhost:8080/"
        },
        "id": "5RYSmTYuo1aC",
        "outputId": "958bf736-f13f-4c74-b0b6-c91dcb9973dc"
      },
      "source": [
        "# Creating confusion matrix \n",
        "confusion2 = metrics.confusion_matrix(y_train_pred_final.Converted, y_train_pred_final.final_predicted )\n",
        "confusion2"
      ],
      "execution_count": 296,
      "outputs": [
        {
          "output_type": "execute_result",
          "data": {
            "text/plain": [
              "array([[3253,  749],\n",
              "       [ 592, 1874]])"
            ]
          },
          "metadata": {
            "tags": []
          },
          "execution_count": 296
        }
      ]
    },
    {
      "cell_type": "code",
      "metadata": {
        "id": "SzHE-evz6E4E"
      },
      "source": [
        "# Substituting the value of true positive\n",
        "TP = confusion2[1,1]\n",
        "# Substituting the value of true negatives\n",
        "TN = confusion2[0,0]\n",
        "# Substituting the value of false positives\n",
        "FP = confusion2[0,1] \n",
        "# Substituting the value of false negatives\n",
        "FN = confusion2[1,0]"
      ],
      "execution_count": 297,
      "outputs": []
    },
    {
      "cell_type": "code",
      "metadata": {
        "colab": {
          "base_uri": "https://localhost:8080/"
        },
        "id": "EM5x9TDKCS4J",
        "outputId": "4687cd6e-3871-4b30-e20e-9edda481baa0"
      },
      "source": [
        "# Calculating the sensitivity\n",
        "TP/(TP+FN)"
      ],
      "execution_count": 298,
      "outputs": [
        {
          "output_type": "execute_result",
          "data": {
            "text/plain": [
              "0.7599351175993512"
            ]
          },
          "metadata": {
            "tags": []
          },
          "execution_count": 298
        }
      ]
    },
    {
      "cell_type": "code",
      "metadata": {
        "colab": {
          "base_uri": "https://localhost:8080/"
        },
        "id": "zPbzJY-3CYQX",
        "outputId": "ccf8c2de-82e4-4553-ca35-be56b2b82d92"
      },
      "source": [
        "# Calculating the specificity\n",
        "TN/(TN+FP)"
      ],
      "execution_count": 299,
      "outputs": [
        {
          "output_type": "execute_result",
          "data": {
            "text/plain": [
              "0.8128435782108946"
            ]
          },
          "metadata": {
            "tags": []
          },
          "execution_count": 299
        }
      ]
    },
    {
      "cell_type": "code",
      "metadata": {
        "colab": {
          "base_uri": "https://localhost:8080/"
        },
        "id": "XML0NDtICb7V",
        "outputId": "a200fcc5-5d8a-457a-ac37-b6ef1b9e8bbd"
      },
      "source": [
        "# confusion matrix\n",
        "confusion = metrics.confusion_matrix(y_train_pred_final.Converted, y_train_pred_final.Predicted )\n",
        "confusion"
      ],
      "execution_count": 300,
      "outputs": [
        {
          "output_type": "execute_result",
          "data": {
            "text/plain": [
              "array([[3522,  480],\n",
              "       [ 914, 1552]])"
            ]
          },
          "metadata": {
            "tags": []
          },
          "execution_count": 300
        }
      ]
    },
    {
      "cell_type": "code",
      "metadata": {
        "colab": {
          "base_uri": "https://localhost:8080/"
        },
        "id": "YMnqPUb8Cd8o",
        "outputId": "c6abd3e2-dadf-498f-e653-52a174b864c0"
      },
      "source": [
        "print(\"Precision\")\n",
        "confusion[1,1]/(confusion[0,1]+confusion[1,1])"
      ],
      "execution_count": 301,
      "outputs": [
        {
          "output_type": "stream",
          "text": [
            "Precision\n"
          ],
          "name": "stdout"
        },
        {
          "output_type": "execute_result",
          "data": {
            "text/plain": [
              "0.7637795275590551"
            ]
          },
          "metadata": {
            "tags": []
          },
          "execution_count": 301
        }
      ]
    },
    {
      "cell_type": "code",
      "metadata": {
        "colab": {
          "base_uri": "https://localhost:8080/"
        },
        "id": "GfucCt5bCfe4",
        "outputId": "166c3004-76be-46f4-d1ee-419a3c8b5a07"
      },
      "source": [
        "print(\"Recall\")\n",
        "confusion[1,1]/(confusion[1,0]+confusion[1,1])"
      ],
      "execution_count": 302,
      "outputs": [
        {
          "output_type": "stream",
          "text": [
            "Recall\n"
          ],
          "name": "stdout"
        },
        {
          "output_type": "execute_result",
          "data": {
            "text/plain": [
              "0.6293592862935928"
            ]
          },
          "metadata": {
            "tags": []
          },
          "execution_count": 302
        }
      ]
    },
    {
      "cell_type": "code",
      "metadata": {
        "colab": {
          "base_uri": "https://localhost:8080/",
          "height": 264
        },
        "id": "6InhTza3CiYC",
        "outputId": "44c9d4fd-7b55-4236-e9ab-aa6fde79b12e"
      },
      "source": [
        "p, r, thresholds = precision_recall_curve(y_train_pred_final.Converted, y_train_pred_final.Conversion_Prob)\n",
        "plt.plot(thresholds, p[:-1], \"g-\")\n",
        "plt.plot(thresholds, r[:-1], \"r-\")\n",
        "plt.show()"
      ],
      "execution_count": 303,
      "outputs": [
        {
          "output_type": "display_data",
          "data": {
            "image/png": "[encoded data removed]",
            "text/plain": [
              "<Figure size 432x288 with 1 Axes>"
            ]
          },
          "metadata": {
            "tags": [],
            "needs_background": "light"
          }
        }
      ]
    },
    {
      "cell_type": "markdown",
      "metadata": {
        "id": "79T6TGNHCqSI"
      },
      "source": [
        "###Through the curve it is shown that the optimum value is nearly 0.4"
      ]
    },
    {
      "cell_type": "code",
      "metadata": {
        "colab": {
          "base_uri": "https://localhost:8080/",
          "height": 284
        },
        "id": "CZs3Epm_CsI2",
        "outputId": "91ba853e-0795-4057-e864-c18a4fb13556"
      },
      "source": [
        "# scaling the numerical variables using Min-Max Scaler of the training data-set.\n",
        "\n",
        "numerical_vars = ['TotalVisits', 'Total Time Spent on Website', 'Page Views Per Visit']\n",
        "\n",
        "lead_test[numerical_vars] = scaler.transform(lead_test[numerical_vars])\n",
        "\n",
        "lead_test.head()"
      ],
      "execution_count": 304,
      "outputs": [
        {
          "output_type": "execute_result",
          "data": {
            "text/html": [
              "<div>\n",
              "<style scoped>\n",
              "    .dataframe tbody tr th:only-of-type {\n",
              "        vertical-align: middle;\n",
              "    }\n",
              "\n",
              "    .dataframe tbody tr th {\n",
              "        vertical-align: top;\n",
              "    }\n",
              "\n",
              "    .dataframe thead th {\n",
              "        text-align: right;\n",
              "    }\n",
              "</style>\n",
              "<table border=\"1\" class=\"dataframe\">\n",
              "  <thead>\n",
              "    <tr style=\"text-align: right;\">\n",
              "      <th></th>\n",
              "      <th>Lead Number</th>\n",
              "      <th>Converted</th>\n",
              "      <th>TotalVisits</th>\n",
              "      <th>Total Time Spent on Website</th>\n",
              "      <th>Page Views Per Visit</th>\n",
              "      <th>Lead Origin_Landing Page Submission</th>\n",
              "      <th>Lead Origin_Lead Add Form</th>\n",
              "      <th>Lead Origin_Lead Import</th>\n",
              "      <th>Lead Origin_Quick Add Form</th>\n",
              "      <th>Lead Source_Google</th>\n",
              "      <th>Lead Source_Olark Chat</th>\n",
              "      <th>Lead Source_Organic Search</th>\n",
              "      <th>Lead Source_Other Sources</th>\n",
              "      <th>Country_Not mentioned</th>\n",
              "      <th>Country_Other Countries</th>\n",
              "      <th>Specialization_Business Administration</th>\n",
              "      <th>Specialization_E-Business</th>\n",
              "      <th>Specialization_E-COMMERCE</th>\n",
              "      <th>Specialization_Finance Management</th>\n",
              "      <th>Specialization_Healthcare Management</th>\n",
              "      <th>Specialization_Hospitality Management</th>\n",
              "      <th>Specialization_Human Resource Management</th>\n",
              "      <th>Specialization_IT Projects Management</th>\n",
              "      <th>Specialization_International Business</th>\n",
              "      <th>Specialization_Marketing Management</th>\n",
              "      <th>Specialization_Media and Advertising</th>\n",
              "      <th>Specialization_Operations Management</th>\n",
              "      <th>Specialization_Retail Management</th>\n",
              "      <th>Specialization_Rural and Agribusiness</th>\n",
              "      <th>Specialization_Services Excellence</th>\n",
              "      <th>Specialization_Supply Chain Management</th>\n",
              "      <th>Specialization_Travel and Tourism</th>\n",
              "      <th>What is your current occupation_Housewife</th>\n",
              "      <th>What is your current occupation_Other</th>\n",
              "      <th>What is your current occupation_Student</th>\n",
              "      <th>What is your current occupation_Unemployed</th>\n",
              "      <th>What is your current occupation_Working Professional</th>\n",
              "      <th>A free copy of Mastering The Interview_Yes</th>\n",
              "    </tr>\n",
              "  </thead>\n",
              "  <tbody>\n",
              "    <tr>\n",
              "      <th>4269</th>\n",
              "      <td>619003</td>\n",
              "      <td>1</td>\n",
              "      <td>0.031873</td>\n",
              "      <td>0.444982</td>\n",
              "      <td>0.145455</td>\n",
              "      <td>0</td>\n",
              "      <td>0</td>\n",
              "      <td>0</td>\n",
              "      <td>0</td>\n",
              "      <td>0</td>\n",
              "      <td>0</td>\n",
              "      <td>0</td>\n",
              "      <td>0</td>\n",
              "      <td>0</td>\n",
              "      <td>0</td>\n",
              "      <td>0</td>\n",
              "      <td>0</td>\n",
              "      <td>0</td>\n",
              "      <td>1</td>\n",
              "      <td>0</td>\n",
              "      <td>0</td>\n",
              "      <td>0</td>\n",
              "      <td>0</td>\n",
              "      <td>0</td>\n",
              "      <td>0</td>\n",
              "      <td>0</td>\n",
              "      <td>0</td>\n",
              "      <td>0</td>\n",
              "      <td>0</td>\n",
              "      <td>0</td>\n",
              "      <td>0</td>\n",
              "      <td>0</td>\n",
              "      <td>0</td>\n",
              "      <td>0</td>\n",
              "      <td>0</td>\n",
              "      <td>1</td>\n",
              "      <td>0</td>\n",
              "      <td>0</td>\n",
              "    </tr>\n",
              "    <tr>\n",
              "      <th>2376</th>\n",
              "      <td>636884</td>\n",
              "      <td>1</td>\n",
              "      <td>0.000000</td>\n",
              "      <td>0.000000</td>\n",
              "      <td>0.000000</td>\n",
              "      <td>0</td>\n",
              "      <td>1</td>\n",
              "      <td>0</td>\n",
              "      <td>0</td>\n",
              "      <td>0</td>\n",
              "      <td>0</td>\n",
              "      <td>0</td>\n",
              "      <td>1</td>\n",
              "      <td>1</td>\n",
              "      <td>0</td>\n",
              "      <td>0</td>\n",
              "      <td>0</td>\n",
              "      <td>0</td>\n",
              "      <td>1</td>\n",
              "      <td>0</td>\n",
              "      <td>0</td>\n",
              "      <td>0</td>\n",
              "      <td>0</td>\n",
              "      <td>0</td>\n",
              "      <td>0</td>\n",
              "      <td>0</td>\n",
              "      <td>0</td>\n",
              "      <td>0</td>\n",
              "      <td>0</td>\n",
              "      <td>0</td>\n",
              "      <td>0</td>\n",
              "      <td>0</td>\n",
              "      <td>0</td>\n",
              "      <td>0</td>\n",
              "      <td>0</td>\n",
              "      <td>1</td>\n",
              "      <td>0</td>\n",
              "      <td>0</td>\n",
              "    </tr>\n",
              "    <tr>\n",
              "      <th>7766</th>\n",
              "      <td>590281</td>\n",
              "      <td>1</td>\n",
              "      <td>0.019920</td>\n",
              "      <td>0.025968</td>\n",
              "      <td>0.090909</td>\n",
              "      <td>0</td>\n",
              "      <td>0</td>\n",
              "      <td>0</td>\n",
              "      <td>0</td>\n",
              "      <td>1</td>\n",
              "      <td>0</td>\n",
              "      <td>0</td>\n",
              "      <td>0</td>\n",
              "      <td>0</td>\n",
              "      <td>0</td>\n",
              "      <td>0</td>\n",
              "      <td>0</td>\n",
              "      <td>0</td>\n",
              "      <td>0</td>\n",
              "      <td>0</td>\n",
              "      <td>0</td>\n",
              "      <td>0</td>\n",
              "      <td>0</td>\n",
              "      <td>0</td>\n",
              "      <td>0</td>\n",
              "      <td>0</td>\n",
              "      <td>0</td>\n",
              "      <td>0</td>\n",
              "      <td>0</td>\n",
              "      <td>0</td>\n",
              "      <td>1</td>\n",
              "      <td>0</td>\n",
              "      <td>0</td>\n",
              "      <td>0</td>\n",
              "      <td>0</td>\n",
              "      <td>0</td>\n",
              "      <td>1</td>\n",
              "      <td>0</td>\n",
              "    </tr>\n",
              "    <tr>\n",
              "      <th>9199</th>\n",
              "      <td>579892</td>\n",
              "      <td>0</td>\n",
              "      <td>0.000000</td>\n",
              "      <td>0.000000</td>\n",
              "      <td>0.000000</td>\n",
              "      <td>0</td>\n",
              "      <td>0</td>\n",
              "      <td>0</td>\n",
              "      <td>0</td>\n",
              "      <td>0</td>\n",
              "      <td>1</td>\n",
              "      <td>0</td>\n",
              "      <td>0</td>\n",
              "      <td>1</td>\n",
              "      <td>0</td>\n",
              "      <td>0</td>\n",
              "      <td>0</td>\n",
              "      <td>0</td>\n",
              "      <td>1</td>\n",
              "      <td>0</td>\n",
              "      <td>0</td>\n",
              "      <td>0</td>\n",
              "      <td>0</td>\n",
              "      <td>0</td>\n",
              "      <td>0</td>\n",
              "      <td>0</td>\n",
              "      <td>0</td>\n",
              "      <td>0</td>\n",
              "      <td>0</td>\n",
              "      <td>0</td>\n",
              "      <td>0</td>\n",
              "      <td>0</td>\n",
              "      <td>0</td>\n",
              "      <td>0</td>\n",
              "      <td>0</td>\n",
              "      <td>1</td>\n",
              "      <td>0</td>\n",
              "      <td>0</td>\n",
              "    </tr>\n",
              "    <tr>\n",
              "      <th>4359</th>\n",
              "      <td>617929</td>\n",
              "      <td>1</td>\n",
              "      <td>0.000000</td>\n",
              "      <td>0.000000</td>\n",
              "      <td>0.000000</td>\n",
              "      <td>0</td>\n",
              "      <td>1</td>\n",
              "      <td>0</td>\n",
              "      <td>0</td>\n",
              "      <td>0</td>\n",
              "      <td>0</td>\n",
              "      <td>0</td>\n",
              "      <td>1</td>\n",
              "      <td>1</td>\n",
              "      <td>0</td>\n",
              "      <td>0</td>\n",
              "      <td>0</td>\n",
              "      <td>0</td>\n",
              "      <td>0</td>\n",
              "      <td>0</td>\n",
              "      <td>0</td>\n",
              "      <td>0</td>\n",
              "      <td>0</td>\n",
              "      <td>0</td>\n",
              "      <td>1</td>\n",
              "      <td>0</td>\n",
              "      <td>0</td>\n",
              "      <td>0</td>\n",
              "      <td>0</td>\n",
              "      <td>0</td>\n",
              "      <td>0</td>\n",
              "      <td>0</td>\n",
              "      <td>0</td>\n",
              "      <td>0</td>\n",
              "      <td>0</td>\n",
              "      <td>1</td>\n",
              "      <td>0</td>\n",
              "      <td>0</td>\n",
              "    </tr>\n",
              "  </tbody>\n",
              "</table>\n",
              "</div>"
            ],
            "text/plain": [
              "      Lead Number  ...  A free copy of Mastering The Interview_Yes\n",
              "4269       619003  ...                                           0\n",
              "2376       636884  ...                                           0\n",
              "7766       590281  ...                                           0\n",
              "9199       579892  ...                                           0\n",
              "4359       617929  ...                                           0\n",
              "\n",
              "[5 rows x 38 columns]"
            ]
          },
          "metadata": {
            "tags": []
          },
          "execution_count": 304
        }
      ]
    },
    {
      "cell_type": "code",
      "metadata": {
        "id": "UCEDqJQFCzz2"
      },
      "source": [
        "# splitting the test data into y and x \n",
        "X_test = lead_test.drop(['Converted','Lead Number'],axis = 1)\n",
        "y_test = lead_test['Converted']"
      ],
      "execution_count": 305,
      "outputs": []
    },
    {
      "cell_type": "code",
      "metadata": {
        "id": "-VfYYSwoC5Gk"
      },
      "source": [
        "# adding a constant\n",
        "X_test_sm = sm.add_constant(X_test)"
      ],
      "execution_count": 306,
      "outputs": []
    },
    {
      "cell_type": "code",
      "metadata": {
        "id": "XsSz5GMbC71s"
      },
      "source": [
        "# taking all the columns from the final model \n",
        "X_test = X_test_sm[X_train9.columns]"
      ],
      "execution_count": 307,
      "outputs": []
    },
    {
      "cell_type": "code",
      "metadata": {
        "colab": {
          "base_uri": "https://localhost:8080/"
        },
        "id": "2OSpHgGJDE1f",
        "outputId": "65f6286e-eaaa-4990-f506-d2c393e109e7"
      },
      "source": [
        "# predicting the y value\n",
        "y_test_pred = res.predict(X_test)\n",
        "y_test_pred[:10]"
      ],
      "execution_count": 308,
      "outputs": [
        {
          "output_type": "execute_result",
          "data": {
            "text/plain": [
              "4269    0.380516\n",
              "2376    0.853497\n",
              "7766    0.761826\n",
              "9199    0.197854\n",
              "4359    0.890178\n",
              "9186    0.367077\n",
              "1631    0.477861\n",
              "8963    0.166012\n",
              "8007    0.188171\n",
              "5324    0.182396\n",
              "dtype: float64"
            ]
          },
          "metadata": {
            "tags": []
          },
          "execution_count": 308
        }
      ]
    },
    {
      "cell_type": "code",
      "metadata": {
        "colab": {
          "base_uri": "https://localhost:8080/",
          "height": 197
        },
        "id": "kyvQxMrODHza",
        "outputId": "50215072-500b-415d-a6cf-68c7af54e175"
      },
      "source": [
        "# Data frame with given convertion rate and probablity of predicted ones\n",
        "y_test_pred = pd.DataFrame({'Converted':y_test.values, 'Conversion_Prob':y_test_pred})\n",
        "y_test_pred.head()"
      ],
      "execution_count": 309,
      "outputs": [
        {
          "output_type": "execute_result",
          "data": {
            "text/html": [
              "<div>\n",
              "<style scoped>\n",
              "    .dataframe tbody tr th:only-of-type {\n",
              "        vertical-align: middle;\n",
              "    }\n",
              "\n",
              "    .dataframe tbody tr th {\n",
              "        vertical-align: top;\n",
              "    }\n",
              "\n",
              "    .dataframe thead th {\n",
              "        text-align: right;\n",
              "    }\n",
              "</style>\n",
              "<table border=\"1\" class=\"dataframe\">\n",
              "  <thead>\n",
              "    <tr style=\"text-align: right;\">\n",
              "      <th></th>\n",
              "      <th>Converted</th>\n",
              "      <th>Conversion_Prob</th>\n",
              "    </tr>\n",
              "  </thead>\n",
              "  <tbody>\n",
              "    <tr>\n",
              "      <th>4269</th>\n",
              "      <td>1</td>\n",
              "      <td>0.380516</td>\n",
              "    </tr>\n",
              "    <tr>\n",
              "      <th>2376</th>\n",
              "      <td>1</td>\n",
              "      <td>0.853497</td>\n",
              "    </tr>\n",
              "    <tr>\n",
              "      <th>7766</th>\n",
              "      <td>1</td>\n",
              "      <td>0.761826</td>\n",
              "    </tr>\n",
              "    <tr>\n",
              "      <th>9199</th>\n",
              "      <td>0</td>\n",
              "      <td>0.197854</td>\n",
              "    </tr>\n",
              "    <tr>\n",
              "      <th>4359</th>\n",
              "      <td>1</td>\n",
              "      <td>0.890178</td>\n",
              "    </tr>\n",
              "  </tbody>\n",
              "</table>\n",
              "</div>"
            ],
            "text/plain": [
              "      Converted  Conversion_Prob\n",
              "4269          1         0.380516\n",
              "2376          1         0.853497\n",
              "7766          1         0.761826\n",
              "9199          0         0.197854\n",
              "4359          1         0.890178"
            ]
          },
          "metadata": {
            "tags": []
          },
          "execution_count": 309
        }
      ]
    },
    {
      "cell_type": "code",
      "metadata": {
        "colab": {
          "base_uri": "https://localhost:8080/",
          "height": 406
        },
        "id": "B6UuokXbDLpy",
        "outputId": "6a465508-2102-41cf-cffd-ffe7598560a2"
      },
      "source": [
        "# Making prediction using cut off 0.30\n",
        "y_test_pred['final_predicted'] = y_test_pred.Conversion_Prob.map(lambda x: 1 if x > 0.30 else 0)\n",
        "y_test_pred"
      ],
      "execution_count": 310,
      "outputs": [
        {
          "output_type": "execute_result",
          "data": {
            "text/html": [
              "<div>\n",
              "<style scoped>\n",
              "    .dataframe tbody tr th:only-of-type {\n",
              "        vertical-align: middle;\n",
              "    }\n",
              "\n",
              "    .dataframe tbody tr th {\n",
              "        vertical-align: top;\n",
              "    }\n",
              "\n",
              "    .dataframe thead th {\n",
              "        text-align: right;\n",
              "    }\n",
              "</style>\n",
              "<table border=\"1\" class=\"dataframe\">\n",
              "  <thead>\n",
              "    <tr style=\"text-align: right;\">\n",
              "      <th></th>\n",
              "      <th>Converted</th>\n",
              "      <th>Conversion_Prob</th>\n",
              "      <th>final_predicted</th>\n",
              "    </tr>\n",
              "  </thead>\n",
              "  <tbody>\n",
              "    <tr>\n",
              "      <th>4269</th>\n",
              "      <td>1</td>\n",
              "      <td>0.380516</td>\n",
              "      <td>1</td>\n",
              "    </tr>\n",
              "    <tr>\n",
              "      <th>2376</th>\n",
              "      <td>1</td>\n",
              "      <td>0.853497</td>\n",
              "      <td>1</td>\n",
              "    </tr>\n",
              "    <tr>\n",
              "      <th>7766</th>\n",
              "      <td>1</td>\n",
              "      <td>0.761826</td>\n",
              "      <td>1</td>\n",
              "    </tr>\n",
              "    <tr>\n",
              "      <th>9199</th>\n",
              "      <td>0</td>\n",
              "      <td>0.197854</td>\n",
              "      <td>0</td>\n",
              "    </tr>\n",
              "    <tr>\n",
              "      <th>4359</th>\n",
              "      <td>1</td>\n",
              "      <td>0.890178</td>\n",
              "      <td>1</td>\n",
              "    </tr>\n",
              "    <tr>\n",
              "      <th>...</th>\n",
              "      <td>...</td>\n",
              "      <td>...</td>\n",
              "      <td>...</td>\n",
              "    </tr>\n",
              "    <tr>\n",
              "      <th>8649</th>\n",
              "      <td>0</td>\n",
              "      <td>0.184801</td>\n",
              "      <td>0</td>\n",
              "    </tr>\n",
              "    <tr>\n",
              "      <th>2152</th>\n",
              "      <td>1</td>\n",
              "      <td>0.900892</td>\n",
              "      <td>1</td>\n",
              "    </tr>\n",
              "    <tr>\n",
              "      <th>7101</th>\n",
              "      <td>0</td>\n",
              "      <td>0.197854</td>\n",
              "      <td>0</td>\n",
              "    </tr>\n",
              "    <tr>\n",
              "      <th>5331</th>\n",
              "      <td>0</td>\n",
              "      <td>0.722126</td>\n",
              "      <td>1</td>\n",
              "    </tr>\n",
              "    <tr>\n",
              "      <th>2960</th>\n",
              "      <td>1</td>\n",
              "      <td>0.853497</td>\n",
              "      <td>1</td>\n",
              "    </tr>\n",
              "  </tbody>\n",
              "</table>\n",
              "<p>2772 rows × 3 columns</p>\n",
              "</div>"
            ],
            "text/plain": [
              "      Converted  Conversion_Prob  final_predicted\n",
              "4269          1         0.380516                1\n",
              "2376          1         0.853497                1\n",
              "7766          1         0.761826                1\n",
              "9199          0         0.197854                0\n",
              "4359          1         0.890178                1\n",
              "...         ...              ...              ...\n",
              "8649          0         0.184801                0\n",
              "2152          1         0.900892                1\n",
              "7101          0         0.197854                0\n",
              "5331          0         0.722126                1\n",
              "2960          1         0.853497                1\n",
              "\n",
              "[2772 rows x 3 columns]"
            ]
          },
          "metadata": {
            "tags": []
          },
          "execution_count": 310
        }
      ]
    },
    {
      "cell_type": "code",
      "metadata": {
        "colab": {
          "base_uri": "https://localhost:8080/",
          "height": 406
        },
        "id": "l_SgKVrgDSEY",
        "outputId": "8f6ca39a-7b29-4724-c055-7fc6c55c6c41"
      },
      "source": [
        "# generating the lead score and lead number\n",
        "y_test_pred['Lead Score'] = round(y_test_pred['Conversion_Prob']*100,2)\n",
        "y_test_pred['Lead Number'] = lead_test['Lead Number']\n",
        "y_test_pred.reset_index(drop=True, inplace=True)\n",
        "y_test_pred"
      ],
      "execution_count": 311,
      "outputs": [
        {
          "output_type": "execute_result",
          "data": {
            "text/html": [
              "<div>\n",
              "<style scoped>\n",
              "    .dataframe tbody tr th:only-of-type {\n",
              "        vertical-align: middle;\n",
              "    }\n",
              "\n",
              "    .dataframe tbody tr th {\n",
              "        vertical-align: top;\n",
              "    }\n",
              "\n",
              "    .dataframe thead th {\n",
              "        text-align: right;\n",
              "    }\n",
              "</style>\n",
              "<table border=\"1\" class=\"dataframe\">\n",
              "  <thead>\n",
              "    <tr style=\"text-align: right;\">\n",
              "      <th></th>\n",
              "      <th>Converted</th>\n",
              "      <th>Conversion_Prob</th>\n",
              "      <th>final_predicted</th>\n",
              "      <th>Lead Score</th>\n",
              "      <th>Lead Number</th>\n",
              "    </tr>\n",
              "  </thead>\n",
              "  <tbody>\n",
              "    <tr>\n",
              "      <th>0</th>\n",
              "      <td>1</td>\n",
              "      <td>0.380516</td>\n",
              "      <td>1</td>\n",
              "      <td>38.05</td>\n",
              "      <td>619003</td>\n",
              "    </tr>\n",
              "    <tr>\n",
              "      <th>1</th>\n",
              "      <td>1</td>\n",
              "      <td>0.853497</td>\n",
              "      <td>1</td>\n",
              "      <td>85.35</td>\n",
              "      <td>636884</td>\n",
              "    </tr>\n",
              "    <tr>\n",
              "      <th>2</th>\n",
              "      <td>1</td>\n",
              "      <td>0.761826</td>\n",
              "      <td>1</td>\n",
              "      <td>76.18</td>\n",
              "      <td>590281</td>\n",
              "    </tr>\n",
              "    <tr>\n",
              "      <th>3</th>\n",
              "      <td>0</td>\n",
              "      <td>0.197854</td>\n",
              "      <td>0</td>\n",
              "      <td>19.79</td>\n",
              "      <td>579892</td>\n",
              "    </tr>\n",
              "    <tr>\n",
              "      <th>4</th>\n",
              "      <td>1</td>\n",
              "      <td>0.890178</td>\n",
              "      <td>1</td>\n",
              "      <td>89.02</td>\n",
              "      <td>617929</td>\n",
              "    </tr>\n",
              "    <tr>\n",
              "      <th>...</th>\n",
              "      <td>...</td>\n",
              "      <td>...</td>\n",
              "      <td>...</td>\n",
              "      <td>...</td>\n",
              "      <td>...</td>\n",
              "    </tr>\n",
              "    <tr>\n",
              "      <th>2767</th>\n",
              "      <td>0</td>\n",
              "      <td>0.184801</td>\n",
              "      <td>0</td>\n",
              "      <td>18.48</td>\n",
              "      <td>583730</td>\n",
              "    </tr>\n",
              "    <tr>\n",
              "      <th>2768</th>\n",
              "      <td>1</td>\n",
              "      <td>0.900892</td>\n",
              "      <td>1</td>\n",
              "      <td>90.09</td>\n",
              "      <td>639134</td>\n",
              "    </tr>\n",
              "    <tr>\n",
              "      <th>2769</th>\n",
              "      <td>0</td>\n",
              "      <td>0.197854</td>\n",
              "      <td>0</td>\n",
              "      <td>19.79</td>\n",
              "      <td>595041</td>\n",
              "    </tr>\n",
              "    <tr>\n",
              "      <th>2770</th>\n",
              "      <td>0</td>\n",
              "      <td>0.722126</td>\n",
              "      <td>1</td>\n",
              "      <td>72.21</td>\n",
              "      <td>608916</td>\n",
              "    </tr>\n",
              "    <tr>\n",
              "      <th>2771</th>\n",
              "      <td>1</td>\n",
              "      <td>0.853497</td>\n",
              "      <td>1</td>\n",
              "      <td>85.35</td>\n",
              "      <td>631408</td>\n",
              "    </tr>\n",
              "  </tbody>\n",
              "</table>\n",
              "<p>2772 rows × 5 columns</p>\n",
              "</div>"
            ],
            "text/plain": [
              "      Converted  Conversion_Prob  final_predicted  Lead Score  Lead Number\n",
              "0             1         0.380516                1       38.05       619003\n",
              "1             1         0.853497                1       85.35       636884\n",
              "2             1         0.761826                1       76.18       590281\n",
              "3             0         0.197854                0       19.79       579892\n",
              "4             1         0.890178                1       89.02       617929\n",
              "...         ...              ...              ...         ...          ...\n",
              "2767          0         0.184801                0       18.48       583730\n",
              "2768          1         0.900892                1       90.09       639134\n",
              "2769          0         0.197854                0       19.79       595041\n",
              "2770          0         0.722126                1       72.21       608916\n",
              "2771          1         0.853497                1       85.35       631408\n",
              "\n",
              "[2772 rows x 5 columns]"
            ]
          },
          "metadata": {
            "tags": []
          },
          "execution_count": 311
        }
      ]
    },
    {
      "cell_type": "code",
      "metadata": {
        "colab": {
          "base_uri": "https://localhost:8080/"
        },
        "id": "Qx61XlrnDtFL",
        "outputId": "ac78307f-a288-4565-a35b-385c0bae0f19"
      },
      "source": [
        "# Check the overall accuracy\n",
        "print(\"Accuracy\")\n",
        "metrics.accuracy_score(y_test_pred['Converted'], y_test_pred.final_predicted)"
      ],
      "execution_count": 312,
      "outputs": [
        {
          "output_type": "stream",
          "text": [
            "Accuracy\n"
          ],
          "name": "stdout"
        },
        {
          "output_type": "execute_result",
          "data": {
            "text/plain": [
              "0.7882395382395382"
            ]
          },
          "metadata": {
            "tags": []
          },
          "execution_count": 312
        }
      ]
    },
    {
      "cell_type": "code",
      "metadata": {
        "colab": {
          "base_uri": "https://localhost:8080/"
        },
        "id": "nlMcrRrKDvIU",
        "outputId": "3d08734f-db08-4a2a-ebb7-7cbacd368851"
      },
      "source": [
        "# Creating confusion matrix \n",
        "confusion2 = metrics.confusion_matrix(y_test_pred['Converted'], y_test_pred.final_predicted )\n",
        "confusion2"
      ],
      "execution_count": 313,
      "outputs": [
        {
          "output_type": "execute_result",
          "data": {
            "text/plain": [
              "array([[1363,  314],\n",
              "       [ 273,  822]])"
            ]
          },
          "metadata": {
            "tags": []
          },
          "execution_count": 313
        }
      ]
    },
    {
      "cell_type": "code",
      "metadata": {
        "id": "xtMnviCRDxaj"
      },
      "source": [
        "# Substituting the value of true positive\n",
        "TP = confusion2[1,1]\n",
        "# Substituting the value of true negatives\n",
        "TN = confusion2[0,0]\n",
        "# Substituting the value of false positives\n",
        "FP = confusion2[0,1] \n",
        "# Substituting the value of false negatives\n",
        "FN = confusion2[1,0]"
      ],
      "execution_count": 314,
      "outputs": []
    },
    {
      "cell_type": "code",
      "metadata": {
        "colab": {
          "base_uri": "https://localhost:8080/"
        },
        "id": "_uIvxsfZD0o4",
        "outputId": "49d758fa-ba95-43a7-ec43-f75d9ed1c352"
      },
      "source": [
        "# Precision = TP / TP + FP\n",
        "TP / (TP + FP)"
      ],
      "execution_count": 315,
      "outputs": [
        {
          "output_type": "execute_result",
          "data": {
            "text/plain": [
              "0.7235915492957746"
            ]
          },
          "metadata": {
            "tags": []
          },
          "execution_count": 315
        }
      ]
    },
    {
      "cell_type": "code",
      "metadata": {
        "colab": {
          "base_uri": "https://localhost:8080/"
        },
        "id": "XgovNgp-D14h",
        "outputId": "60263380-69c3-42ce-fb9c-a66fbc84061a"
      },
      "source": [
        "#Recall = TP / TP + FN\n",
        "TP / (TP + FN)"
      ],
      "execution_count": 316,
      "outputs": [
        {
          "output_type": "execute_result",
          "data": {
            "text/plain": [
              "0.7506849315068493"
            ]
          },
          "metadata": {
            "tags": []
          },
          "execution_count": 316
        }
      ]
    },
    {
      "cell_type": "code",
      "metadata": {
        "colab": {
          "base_uri": "https://localhost:8080/"
        },
        "id": "MW15mtQTD3fO",
        "outputId": "5b4eb3a5-ff60-40b8-a240-0b961c456bd9"
      },
      "source": [
        "print(\"Sensitivity\")\n",
        "print(TP / float(TP+FN))"
      ],
      "execution_count": 317,
      "outputs": [
        {
          "output_type": "stream",
          "text": [
            "Sensitivity\n",
            "0.7506849315068493\n"
          ],
          "name": "stdout"
        }
      ]
    },
    {
      "cell_type": "code",
      "metadata": {
        "colab": {
          "base_uri": "https://localhost:8080/"
        },
        "id": "7TwomlYYD5Dd",
        "outputId": "eaec31c7-b45a-4246-96ce-23931f963178"
      },
      "source": [
        "print(\"Specificity\")\n",
        "print(TN / float(TN+FP))"
      ],
      "execution_count": 318,
      "outputs": [
        {
          "output_type": "stream",
          "text": [
            "Specificity\n",
            "0.8127608825283243\n"
          ],
          "name": "stdout"
        }
      ]
    },
    {
      "cell_type": "markdown",
      "metadata": {
        "id": "1Ozx5AOlEP75"
      },
      "source": [
        "##Step 10: Conclusion:\n",
        "\n",
        "From the final model developed we are able to generate a lead score which shows how likely the lead is getting converted. From the final predictions it is evident that the people with lead score more than 30 are likely to get converted and sales team can concentrate people with lead score more than 30 to convert them to a lead"
      ]
    },
    {
      "cell_type": "markdown",
      "metadata": {
        "id": "3SOKTSnOEWBV"
      },
      "source": [
        "It was found that the variables that mattered the most in the potential buyers are:\n",
        "1. The total time spend on the Website.\n",
        "2. Total number of visits. \n",
        "3. When the lead source was: \n",
        "a. Google \n",
        "b. Olark chat\n",
        "c. Organic search \n",
        "4. When the lead origin is Lead add format. \n",
        "5. When their current occupation is as a working professional. \n",
        "6. Specialization is either Finance Mangagemnent or Hospitality Mangagemnent.\n",
        "\n",
        "Keeping these in mind the X Education can flourish as they have a very high chance to get almost all the potential buyers to change their mind and buy their courses.\n"
      ]
    }
  ]
}